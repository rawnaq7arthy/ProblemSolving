{
  "nbformat": 4,
  "nbformat_minor": 0,
  "metadata": {
    "colab": {
      "provenance": []
    },
    "kernelspec": {
      "name": "python3",
      "display_name": "Python 3"
    },
    "language_info": {
      "name": "python"
    }
  },
  "cells": [
    {
      "cell_type": "code",
      "execution_count": null,
      "metadata": {
        "id": "nT5LQfzW9zc8"
      },
      "outputs": [],
      "source": [
        "import numpy as np"
      ]
    },
    {
      "cell_type": "code",
      "source": [
        "l1 = [1,2,3,4]"
      ],
      "metadata": {
        "id": "UAUxjmVnABYX"
      },
      "execution_count": null,
      "outputs": []
    },
    {
      "cell_type": "code",
      "source": [
        "array1 = np.array(l1)"
      ],
      "metadata": {
        "id": "PIAgHbgIAE56"
      },
      "execution_count": null,
      "outputs": []
    },
    {
      "cell_type": "code",
      "source": [
        "#all elements in array must be same data type\n",
        "array1"
      ],
      "metadata": {
        "colab": {
          "base_uri": "https://localhost:8080/"
        },
        "id": "fyhWLQcmAE9R",
        "outputId": "3131ad14-4a40-48ae-ec97-2c72d561837d"
      },
      "execution_count": null,
      "outputs": [
        {
          "output_type": "execute_result",
          "data": {
            "text/plain": [
              "array([1, 2, 3, 4])"
            ]
          },
          "metadata": {},
          "execution_count": 14
        }
      ]
    },
    {
      "cell_type": "code",
      "source": [
        "l2 = [11,22,33,44]"
      ],
      "metadata": {
        "id": "jWc3q_bCAR66"
      },
      "execution_count": null,
      "outputs": []
    },
    {
      "cell_type": "code",
      "source": [
        "l = [l1,l2]\n",
        "l"
      ],
      "metadata": {
        "colab": {
          "base_uri": "https://localhost:8080/"
        },
        "id": "m0uX7H5aAdTR",
        "outputId": "a72a7f1d-7412-420b-cc7a-57d38ede1f5a"
      },
      "execution_count": null,
      "outputs": [
        {
          "output_type": "execute_result",
          "data": {
            "text/plain": [
              "[[1, 2, 3, 4], [11, 22, 33, 44]]"
            ]
          },
          "metadata": {},
          "execution_count": 6
        }
      ]
    },
    {
      "cell_type": "code",
      "source": [
        "array_2D = np.array(l)\n",
        "array_2D"
      ],
      "metadata": {
        "colab": {
          "base_uri": "https://localhost:8080/"
        },
        "id": "e2_RimcHA3oY",
        "outputId": "6a448b34-92d3-4f99-ae52-c299955804b5"
      },
      "execution_count": null,
      "outputs": [
        {
          "output_type": "execute_result",
          "data": {
            "text/plain": [
              "array([[ 1,  2,  3,  4],\n",
              "       [11, 22, 33, 44]])"
            ]
          },
          "metadata": {},
          "execution_count": 8
        }
      ]
    },
    {
      "cell_type": "code",
      "source": [
        "array_2D.shape"
      ],
      "metadata": {
        "colab": {
          "base_uri": "https://localhost:8080/"
        },
        "id": "A97Q2T8PBvDa",
        "outputId": "738db73c-5812-4d71-d196-bf0ca42c9a00"
      },
      "execution_count": null,
      "outputs": [
        {
          "output_type": "execute_result",
          "data": {
            "text/plain": [
              "(2, 4)"
            ]
          },
          "metadata": {},
          "execution_count": 16
        }
      ]
    },
    {
      "cell_type": "code",
      "source": [
        "array_2D.dtype"
      ],
      "metadata": {
        "colab": {
          "base_uri": "https://localhost:8080/"
        },
        "id": "b8XnLiiJB37H",
        "outputId": "e73eab1a-ff4e-4b1a-e0dd-d1d4338acb8b"
      },
      "execution_count": null,
      "outputs": [
        {
          "output_type": "execute_result",
          "data": {
            "text/plain": [
              "dtype('int64')"
            ]
          },
          "metadata": {},
          "execution_count": 17
        }
      ]
    },
    {
      "cell_type": "code",
      "source": [
        "np.zeros(3, 'int')"
      ],
      "metadata": {
        "colab": {
          "base_uri": "https://localhost:8080/"
        },
        "id": "ea8nADovB8u4",
        "outputId": "78a7fb52-32b9-4e57-8167-9454751fb2c0"
      },
      "execution_count": null,
      "outputs": [
        {
          "output_type": "execute_result",
          "data": {
            "text/plain": [
              "array([0, 0, 0])"
            ]
          },
          "metadata": {},
          "execution_count": 18
        }
      ]
    },
    {
      "cell_type": "code",
      "source": [
        "np.zeros([3,3],\"int\")"
      ],
      "metadata": {
        "colab": {
          "base_uri": "https://localhost:8080/"
        },
        "id": "KOHfai4SFM_U",
        "outputId": "799dc77b-c392-4ae3-b2a8-3eda39816e54"
      },
      "execution_count": null,
      "outputs": [
        {
          "output_type": "execute_result",
          "data": {
            "text/plain": [
              "array([[0, 0, 0],\n",
              "       [0, 0, 0],\n",
              "       [0, 0, 0]])"
            ]
          },
          "metadata": {},
          "execution_count": 26
        }
      ]
    },
    {
      "cell_type": "code",
      "source": [
        "np.zeros([4,3,2],\"int\")"
      ],
      "metadata": {
        "colab": {
          "base_uri": "https://localhost:8080/"
        },
        "id": "QdzwudqfF3jm",
        "outputId": "6b855b1a-46ce-4ba6-e892-153fdf5c8262"
      },
      "execution_count": null,
      "outputs": [
        {
          "output_type": "execute_result",
          "data": {
            "text/plain": [
              "array([[[0, 0],\n",
              "        [0, 0],\n",
              "        [0, 0]],\n",
              "\n",
              "       [[0, 0],\n",
              "        [0, 0],\n",
              "        [0, 0]],\n",
              "\n",
              "       [[0, 0],\n",
              "        [0, 0],\n",
              "        [0, 0]],\n",
              "\n",
              "       [[0, 0],\n",
              "        [0, 0],\n",
              "        [0, 0]]])"
            ]
          },
          "metadata": {},
          "execution_count": 28
        }
      ]
    },
    {
      "cell_type": "code",
      "source": [
        "np.ones([3,2,4],\"int\")"
      ],
      "metadata": {
        "colab": {
          "base_uri": "https://localhost:8080/"
        },
        "id": "GzIp9QIsGcvE",
        "outputId": "762862b4-c41f-4e1f-a9b0-ace82030b213"
      },
      "execution_count": null,
      "outputs": [
        {
          "output_type": "execute_result",
          "data": {
            "text/plain": [
              "array([[[1, 1, 1, 1],\n",
              "        [1, 1, 1, 1]],\n",
              "\n",
              "       [[1, 1, 1, 1],\n",
              "        [1, 1, 1, 1]],\n",
              "\n",
              "       [[1, 1, 1, 1],\n",
              "        [1, 1, 1, 1]]])"
            ]
          },
          "metadata": {},
          "execution_count": 29
        }
      ]
    },
    {
      "cell_type": "code",
      "source": [
        "np.empty(4)"
      ],
      "metadata": {
        "colab": {
          "base_uri": "https://localhost:8080/"
        },
        "id": "JHRWJwpNGnCJ",
        "outputId": "5a1e0848-1145-4727-ee3e-978ed0b02601"
      },
      "execution_count": null,
      "outputs": [
        {
          "output_type": "execute_result",
          "data": {
            "text/plain": [
              "array([1.33076952e-315, 0.00000000e+000, 5.91842491e-085, 1.24002374e+180])"
            ]
          },
          "metadata": {},
          "execution_count": 31
        }
      ]
    },
    {
      "cell_type": "code",
      "source": [
        "np.empty([2,1,3],\"int\")"
      ],
      "metadata": {
        "colab": {
          "base_uri": "https://localhost:8080/"
        },
        "id": "tKpqMGmcG3gZ",
        "outputId": "9d9701e6-8651-4799-a2ae-d2e2c499d81c"
      },
      "execution_count": null,
      "outputs": [
        {
          "output_type": "execute_result",
          "data": {
            "text/plain": [
              "array([[[          268878601,                   0, 6061971993792638575]],\n",
              "\n",
              "       [[2314861247312786802, 7800551649446141984,         42950356851]]])"
            ]
          },
          "metadata": {},
          "execution_count": 33
        }
      ]
    },
    {
      "cell_type": "code",
      "source": [
        "np.arange(10)"
      ],
      "metadata": {
        "colab": {
          "base_uri": "https://localhost:8080/"
        },
        "id": "efovRsbvILni",
        "outputId": "086b196e-cc08-425f-9637-f5c62c229d77"
      },
      "execution_count": null,
      "outputs": [
        {
          "output_type": "execute_result",
          "data": {
            "text/plain": [
              "array([0, 1, 2, 3, 4, 5, 6, 7, 8, 9])"
            ]
          },
          "metadata": {},
          "execution_count": 34
        }
      ]
    },
    {
      "cell_type": "code",
      "source": [
        "np.arange(1,50,2)"
      ],
      "metadata": {
        "colab": {
          "base_uri": "https://localhost:8080/"
        },
        "id": "CdAJS62ZITPm",
        "outputId": "ad1f8a1c-73c6-477b-f565-0eff88b9dd33"
      },
      "execution_count": null,
      "outputs": [
        {
          "output_type": "execute_result",
          "data": {
            "text/plain": [
              "array([ 1,  3,  5,  7,  9, 11, 13, 15, 17, 19, 21, 23, 25, 27, 29, 31, 33,\n",
              "       35, 37, 39, 41, 43, 45, 47, 49])"
            ]
          },
          "metadata": {},
          "execution_count": 35
        }
      ]
    },
    {
      "cell_type": "code",
      "source": [
        "arr1= np.array([[1,2,3,4],[8,9,10,11]])\n",
        "arr1"
      ],
      "metadata": {
        "colab": {
          "base_uri": "https://localhost:8080/"
        },
        "id": "a78mnRN9JJ3M",
        "outputId": "25c0e809-01c8-4bcb-f695-3a26f01c4df5"
      },
      "execution_count": null,
      "outputs": [
        {
          "output_type": "execute_result",
          "data": {
            "text/plain": [
              "array([[ 1,  2,  3,  4],\n",
              "       [ 8,  9, 10, 11]])"
            ]
          },
          "metadata": {},
          "execution_count": 37
        }
      ]
    },
    {
      "cell_type": "code",
      "source": [
        "arr1*arr1"
      ],
      "metadata": {
        "colab": {
          "base_uri": "https://localhost:8080/"
        },
        "id": "jeKTb9eEJwtw",
        "outputId": "6e09523e-6e5a-4b36-8ea9-e62031844462"
      },
      "execution_count": null,
      "outputs": [
        {
          "output_type": "execute_result",
          "data": {
            "text/plain": [
              "array([[  1,   4,   9,  16],\n",
              "       [ 64,  81, 100, 121]])"
            ]
          },
          "metadata": {},
          "execution_count": 38
        }
      ]
    },
    {
      "cell_type": "code",
      "source": [
        "arr1*2"
      ],
      "metadata": {
        "colab": {
          "base_uri": "https://localhost:8080/"
        },
        "id": "1fmP0oeQJvu7",
        "outputId": "59459f4b-d7b1-46f3-9e45-c40643e18b34"
      },
      "execution_count": null,
      "outputs": [
        {
          "output_type": "execute_result",
          "data": {
            "text/plain": [
              "array([[ 2,  4,  6,  8],\n",
              "       [16, 18, 20, 22]])"
            ]
          },
          "metadata": {},
          "execution_count": 39
        }
      ]
    },
    {
      "cell_type": "code",
      "source": [
        "arr1 + 1"
      ],
      "metadata": {
        "colab": {
          "base_uri": "https://localhost:8080/"
        },
        "id": "CHxlO0VOJ84Y",
        "outputId": "0f15e857-e002-473f-827e-b719ace097e7"
      },
      "execution_count": null,
      "outputs": [
        {
          "output_type": "execute_result",
          "data": {
            "text/plain": [
              "array([[ 2,  3,  4,  5],\n",
              "       [ 9, 10, 11, 12]])"
            ]
          },
          "metadata": {},
          "execution_count": 40
        }
      ]
    },
    {
      "cell_type": "code",
      "source": [
        "arr1 ** 3"
      ],
      "metadata": {
        "colab": {
          "base_uri": "https://localhost:8080/"
        },
        "id": "gKHIDCGfKCqy",
        "outputId": "8826f01f-e700-4878-a3e0-7ed876e3de6b"
      },
      "execution_count": null,
      "outputs": [
        {
          "output_type": "execute_result",
          "data": {
            "text/plain": [
              "array([[   1,    8,   27,   64],\n",
              "       [ 512,  729, 1000, 1331]])"
            ]
          },
          "metadata": {},
          "execution_count": 41
        }
      ]
    },
    {
      "cell_type": "code",
      "source": [
        "arr1.T"
      ],
      "metadata": {
        "colab": {
          "base_uri": "https://localhost:8080/"
        },
        "id": "0dCSENMHKLlN",
        "outputId": "146befe5-e7f7-4955-dd30-9dcfe0ae2a88"
      },
      "execution_count": null,
      "outputs": [
        {
          "output_type": "execute_result",
          "data": {
            "text/plain": [
              "array([[ 1,  8],\n",
              "       [ 2,  9],\n",
              "       [ 3, 10],\n",
              "       [ 4, 11]])"
            ]
          },
          "metadata": {},
          "execution_count": 42
        }
      ]
    },
    {
      "cell_type": "code",
      "source": [
        "A = np.array([[1,2,3],[4,5,6]])\n",
        "print(A)\n",
        "print('\\n')\n",
        "\n",
        "B = np.array([[7,8],[9,10],[11,12]])\n",
        "print(B)\n",
        "print('\\n')\n",
        "\n",
        "np.dot(A,B)"
      ],
      "metadata": {
        "colab": {
          "base_uri": "https://localhost:8080/"
        },
        "id": "7-rTeNn1MX8E",
        "outputId": "fb1a35bd-0f9c-49eb-c667-4a604ddd3534"
      },
      "execution_count": null,
      "outputs": [
        {
          "output_type": "stream",
          "name": "stdout",
          "text": [
            "[[1 2 3]\n",
            " [4 5 6]]\n",
            "\n",
            "\n",
            "[[ 7  8]\n",
            " [ 9 10]\n",
            " [11 12]]\n",
            "\n",
            "\n"
          ]
        },
        {
          "output_type": "execute_result",
          "data": {
            "text/plain": [
              "array([[ 58,  64],\n",
              "       [139, 154]])"
            ]
          },
          "metadata": {},
          "execution_count": 43
        }
      ]
    },
    {
      "cell_type": "code",
      "source": [
        "a1 = [1,3,5]\n",
        "ar1 = np.array(a1)\n",
        "\n",
        "a2 = [2,4,6]\n",
        "ar2 = np.array(a2)\n",
        "\n",
        "add = ar1 + ar2\n",
        "print(add)\n",
        "\n",
        "sub = ar1 - ar2\n",
        "print(sub)\n",
        "\n",
        "multiply = ar1 * ar2\n",
        "print(multiply)\n",
        "\n",
        "divide = ar1 / ar2\n",
        "print(divide)\n",
        "\n"
      ],
      "metadata": {
        "colab": {
          "base_uri": "https://localhost:8080/"
        },
        "id": "CONlDxreNSnN",
        "outputId": "d2b1882c-4a66-4f77-9606-29fd40ec1f8b"
      },
      "execution_count": null,
      "outputs": [
        {
          "output_type": "stream",
          "name": "stdout",
          "text": [
            "[ 3  7 11]\n",
            "[-1 -1 -1]\n",
            "[ 2 12 30]\n",
            "[0.5        0.75       0.83333333]\n"
          ]
        }
      ]
    },
    {
      "cell_type": "code",
      "source": [
        "arr= np.arange(0,11)"
      ],
      "metadata": {
        "id": "86nZ_z1LPAzD"
      },
      "execution_count": null,
      "outputs": []
    },
    {
      "cell_type": "code",
      "source": [
        "arr[1:5]"
      ],
      "metadata": {
        "colab": {
          "base_uri": "https://localhost:8080/"
        },
        "id": "yJio7IyuPRUD",
        "outputId": "59edc6dc-8725-44f2-a1a8-ae2e751154f0"
      },
      "execution_count": null,
      "outputs": [
        {
          "output_type": "execute_result",
          "data": {
            "text/plain": [
              "array([1, 2, 3, 4])"
            ]
          },
          "metadata": {},
          "execution_count": 51
        }
      ]
    },
    {
      "cell_type": "code",
      "source": [
        "arr[0:5] = 100\n",
        "arr"
      ],
      "metadata": {
        "colab": {
          "base_uri": "https://localhost:8080/"
        },
        "id": "ur6tQW2cPXYN",
        "outputId": "ce51ac91-4e45-4e25-f827-b568149d1d25"
      },
      "execution_count": null,
      "outputs": [
        {
          "output_type": "execute_result",
          "data": {
            "text/plain": [
              "array([100, 100, 100, 100, 100,   5,   6,   7,   8,   9,  10])"
            ]
          },
          "metadata": {},
          "execution_count": 55
        }
      ]
    },
    {
      "cell_type": "code",
      "source": [
        "slice = arr[0:5]\n",
        "slice"
      ],
      "metadata": {
        "colab": {
          "base_uri": "https://localhost:8080/"
        },
        "id": "fspB6s_QPyGf",
        "outputId": "ada6d26a-d8c9-4d7d-fb9e-e9d210d997b6"
      },
      "execution_count": null,
      "outputs": [
        {
          "output_type": "execute_result",
          "data": {
            "text/plain": [
              "array([100, 100, 100, 100, 100])"
            ]
          },
          "metadata": {},
          "execution_count": 56
        }
      ]
    },
    {
      "cell_type": "code",
      "source": [
        "slice[:] = 99\n",
        "slice"
      ],
      "metadata": {
        "colab": {
          "base_uri": "https://localhost:8080/"
        },
        "id": "LhVEI76wP5_f",
        "outputId": "6c0e774b-20c4-416a-dbbf-390eba401c52"
      },
      "execution_count": null,
      "outputs": [
        {
          "output_type": "execute_result",
          "data": {
            "text/plain": [
              "array([99, 99, 99, 99, 99])"
            ]
          },
          "metadata": {},
          "execution_count": 57
        }
      ]
    },
    {
      "cell_type": "code",
      "source": [
        "A = np.array([[1,2,3],[4,5,6],[7,8,9]])\n",
        "A"
      ],
      "metadata": {
        "colab": {
          "base_uri": "https://localhost:8080/"
        },
        "id": "D--Zo6Grkzf2",
        "outputId": "ace916cd-1edc-4ca0-9182-b22e393a189c"
      },
      "execution_count": null,
      "outputs": [
        {
          "output_type": "execute_result",
          "data": {
            "text/plain": [
              "array([[1, 2, 3],\n",
              "       [4, 5, 6],\n",
              "       [7, 8, 9]])"
            ]
          },
          "metadata": {},
          "execution_count": 3
        }
      ]
    },
    {
      "cell_type": "code",
      "source": [
        "#slicing [ : ]\n",
        "#indexing [rows , columns]"
      ],
      "metadata": {
        "id": "j4aG56ChlTy-"
      },
      "execution_count": null,
      "outputs": []
    },
    {
      "cell_type": "code",
      "source": [
        "A[1]"
      ],
      "metadata": {
        "colab": {
          "base_uri": "https://localhost:8080/"
        },
        "id": "TgroQCY6k6E7",
        "outputId": "d39ded23-8165-4e5e-c218-f6ed0a2a0bca"
      },
      "execution_count": null,
      "outputs": [
        {
          "output_type": "execute_result",
          "data": {
            "text/plain": [
              "array([4, 5, 6])"
            ]
          },
          "metadata": {},
          "execution_count": 4
        }
      ]
    },
    {
      "cell_type": "code",
      "source": [
        "A[: , 1]"
      ],
      "metadata": {
        "colab": {
          "base_uri": "https://localhost:8080/"
        },
        "id": "7TV7QpsylQE8",
        "outputId": "76c9f7af-d758-4eaf-9858-863317348070"
      },
      "execution_count": null,
      "outputs": [
        {
          "output_type": "execute_result",
          "data": {
            "text/plain": [
              "array([2, 5, 8])"
            ]
          },
          "metadata": {},
          "execution_count": 5
        }
      ]
    },
    {
      "cell_type": "code",
      "source": [
        "#row index 1 , column index 2\n",
        "print(A[1][2])"
      ],
      "metadata": {
        "colab": {
          "base_uri": "https://localhost:8080/"
        },
        "id": "-ruqW6kblB5s",
        "outputId": "8c8f00dc-7743-440b-b468-b4c9e2ba0817"
      },
      "execution_count": null,
      "outputs": [
        {
          "output_type": "stream",
          "name": "stdout",
          "text": [
            "6\n"
          ]
        }
      ]
    },
    {
      "cell_type": "code",
      "source": [
        "#slicing inside indexing  :3 --> row , 1: --> column\n",
        "A[:3, 1:]"
      ],
      "metadata": {
        "colab": {
          "base_uri": "https://localhost:8080/"
        },
        "id": "mpTNyB-nmJqg",
        "outputId": "8d93a28f-4237-4fc3-edbe-02f1d93e3045"
      },
      "execution_count": null,
      "outputs": [
        {
          "output_type": "execute_result",
          "data": {
            "text/plain": [
              "array([[2, 3],\n",
              "       [5, 6],\n",
              "       [8, 9]])"
            ]
          },
          "metadata": {},
          "execution_count": 10
        }
      ]
    },
    {
      "cell_type": "code",
      "source": [
        "A[:1, 2:]"
      ],
      "metadata": {
        "colab": {
          "base_uri": "https://localhost:8080/"
        },
        "id": "xtXhmX2Nm6ZJ",
        "outputId": "9be6c085-05fa-406b-d9bb-44107133bfaf"
      },
      "execution_count": null,
      "outputs": [
        {
          "output_type": "execute_result",
          "data": {
            "text/plain": [
              "array([[3]])"
            ]
          },
          "metadata": {},
          "execution_count": 11
        }
      ]
    },
    {
      "cell_type": "code",
      "source": [
        "A[:3, ::2]"
      ],
      "metadata": {
        "colab": {
          "base_uri": "https://localhost:8080/"
        },
        "id": "V4P4Ie_3nap9",
        "outputId": "444f63c4-a070-4d70-97cf-af5018063136"
      },
      "execution_count": null,
      "outputs": [
        {
          "output_type": "execute_result",
          "data": {
            "text/plain": [
              "array([[1, 3],\n",
              "       [4, 6],\n",
              "       [7, 9]])"
            ]
          },
          "metadata": {},
          "execution_count": 12
        }
      ]
    },
    {
      "cell_type": "code",
      "source": [
        "A[:3, 2::]"
      ],
      "metadata": {
        "colab": {
          "base_uri": "https://localhost:8080/"
        },
        "id": "IB3Y1B6Vnk5P",
        "outputId": "ce8224c1-c943-47cd-da53-6bbea8f76f0a"
      },
      "execution_count": null,
      "outputs": [
        {
          "output_type": "execute_result",
          "data": {
            "text/plain": [
              "array([[3],\n",
              "       [6],\n",
              "       [9]])"
            ]
          },
          "metadata": {},
          "execution_count": 13
        }
      ]
    },
    {
      "cell_type": "code",
      "source": [
        "grid = np.arange(1,13).reshape((3,4))\n",
        "grid"
      ],
      "metadata": {
        "colab": {
          "base_uri": "https://localhost:8080/"
        },
        "id": "tfj4do2toFw9",
        "outputId": "52a9be52-9005-40ba-951e-a518c0aa5948"
      },
      "execution_count": null,
      "outputs": [
        {
          "output_type": "execute_result",
          "data": {
            "text/plain": [
              "array([[ 1,  2,  3,  4],\n",
              "       [ 5,  6,  7,  8],\n",
              "       [ 9, 10, 11, 12]])"
            ]
          },
          "metadata": {},
          "execution_count": 18
        }
      ]
    },
    {
      "cell_type": "code",
      "source": [
        "grid = np.arange(1,13).reshape((2,6))\n",
        "grid"
      ],
      "metadata": {
        "colab": {
          "base_uri": "https://localhost:8080/"
        },
        "id": "0pqS2-P7olU9",
        "outputId": "d7f9ee80-41ca-4a3d-93c7-0dc82e399db2"
      },
      "execution_count": null,
      "outputs": [
        {
          "output_type": "execute_result",
          "data": {
            "text/plain": [
              "array([[ 1,  2,  3,  4,  5,  6],\n",
              "       [ 7,  8,  9, 10, 11, 12]])"
            ]
          },
          "metadata": {},
          "execution_count": 20
        }
      ]
    },
    {
      "cell_type": "code",
      "source": [
        "x = np.array([1,2,3])\n",
        "y = np.array([3,2,1])\n",
        "np.concatenate([x,y])"
      ],
      "metadata": {
        "colab": {
          "base_uri": "https://localhost:8080/"
        },
        "id": "MLnen2muozUP",
        "outputId": "66c13671-0d3c-43dd-fba0-91983495a471"
      },
      "execution_count": null,
      "outputs": [
        {
          "output_type": "execute_result",
          "data": {
            "text/plain": [
              "array([1, 2, 3, 3, 2, 1])"
            ]
          },
          "metadata": {},
          "execution_count": 21
        }
      ]
    },
    {
      "cell_type": "code",
      "source": [
        "np.concatenate([grid,grid]) # by defauly axis = 0 , add number of rows"
      ],
      "metadata": {
        "colab": {
          "base_uri": "https://localhost:8080/"
        },
        "id": "5mWyksEwpMfW",
        "outputId": "06d254b7-f2b9-4080-ce11-ad37adb3d39c"
      },
      "execution_count": null,
      "outputs": [
        {
          "output_type": "execute_result",
          "data": {
            "text/plain": [
              "array([[ 1,  2,  3,  4,  5,  6],\n",
              "       [ 7,  8,  9, 10, 11, 12],\n",
              "       [ 1,  2,  3,  4,  5,  6],\n",
              "       [ 7,  8,  9, 10, 11, 12]])"
            ]
          },
          "metadata": {},
          "execution_count": 22
        }
      ]
    },
    {
      "cell_type": "code",
      "source": [
        "np.concatenate([grid,grid],axis = 1) # axis = 1 , add number of columns"
      ],
      "metadata": {
        "colab": {
          "base_uri": "https://localhost:8080/"
        },
        "id": "qAFI5zVRpbRM",
        "outputId": "8a7f9fed-c029-46ef-cd60-67c3e8be26f8"
      },
      "execution_count": null,
      "outputs": [
        {
          "output_type": "execute_result",
          "data": {
            "text/plain": [
              "array([[ 1,  2,  3,  4,  5,  6,  1,  2,  3,  4,  5,  6],\n",
              "       [ 7,  8,  9, 10, 11, 12,  7,  8,  9, 10, 11, 12]])"
            ]
          },
          "metadata": {},
          "execution_count": 23
        }
      ]
    },
    {
      "cell_type": "code",
      "source": [
        "x = [1,2,3,99,99,3,2,1]\n",
        "x1,x2,x3 = np.split(x, [3,5])\n",
        "print(x1,x2,x3)"
      ],
      "metadata": {
        "colab": {
          "base_uri": "https://localhost:8080/"
        },
        "id": "-GT2xmK7qOcm",
        "outputId": "2eacd750-1fe9-4355-d82c-2fb9a99c4222"
      },
      "execution_count": null,
      "outputs": [
        {
          "output_type": "stream",
          "name": "stdout",
          "text": [
            "[1 2 3] [99 99] [3 2 1]\n"
          ]
        }
      ]
    },
    {
      "cell_type": "code",
      "source": [
        "x = [1,2,3,99,99,3,2,1]\n",
        "x1,x2,x3 = np.split(x, [2,6])\n",
        "print(x1,x2,x3)"
      ],
      "metadata": {
        "colab": {
          "base_uri": "https://localhost:8080/"
        },
        "id": "GI2U1zpKqrE0",
        "outputId": "f7fc7274-2aba-446b-e924-94428348c8f3"
      },
      "execution_count": null,
      "outputs": [
        {
          "output_type": "stream",
          "name": "stdout",
          "text": [
            "[1 2] [ 3 99 99  3] [2 1]\n"
          ]
        }
      ]
    },
    {
      "cell_type": "code",
      "source": [
        "#vsplit --> split by rows\n",
        "grid = np.arange(16).reshape((4, 4))\n",
        "print(grid)\n",
        "print(\"\\n\")\n",
        "upper, lower = np.vsplit(grid, [2])\n",
        "print(upper)\n",
        "print(\"\\n\")\n",
        "print(lower)"
      ],
      "metadata": {
        "colab": {
          "base_uri": "https://localhost:8080/"
        },
        "id": "I14rv8L9ric6",
        "outputId": "e30e325a-e45d-46ad-8fb9-9d88a3dae186"
      },
      "execution_count": null,
      "outputs": [
        {
          "output_type": "stream",
          "name": "stdout",
          "text": [
            "[[ 0  1  2  3]\n",
            " [ 4  5  6  7]\n",
            " [ 8  9 10 11]\n",
            " [12 13 14 15]]\n",
            "\n",
            "\n",
            "[[0 1 2 3]\n",
            " [4 5 6 7]]\n",
            "\n",
            "\n",
            "[[ 8  9 10 11]\n",
            " [12 13 14 15]]\n"
          ]
        }
      ]
    },
    {
      "cell_type": "code",
      "source": [
        "#hsplit --> split by columns\n",
        "grid = np.arange(16).reshape((4, 4))\n",
        "print(grid)\n",
        "print(\"\\n\")\n",
        "left, right = np.hsplit(grid, [3])\n",
        "print(left)\n",
        "print(\"\\n\")\n",
        "print(right)"
      ],
      "metadata": {
        "colab": {
          "base_uri": "https://localhost:8080/"
        },
        "id": "YrwCWAr4ruDL",
        "outputId": "2bb12a2f-8c88-4c5b-c4e7-03ddb830ed56"
      },
      "execution_count": null,
      "outputs": [
        {
          "output_type": "stream",
          "name": "stdout",
          "text": [
            "[[ 0  1  2  3]\n",
            " [ 4  5  6  7]\n",
            " [ 8  9 10 11]\n",
            " [12 13 14 15]]\n",
            "\n",
            "\n",
            "[[ 0  1  2]\n",
            " [ 4  5  6]\n",
            " [ 8  9 10]\n",
            " [12 13 14]]\n",
            "\n",
            "\n",
            "[[ 3]\n",
            " [ 7]\n",
            " [11]\n",
            " [15]]\n"
          ]
        }
      ]
    },
    {
      "cell_type": "code",
      "source": [
        "grades = [\n",
        "    [78, 45, 32],\n",
        "    [55, 88, 25],\n",
        "    [90, 35, 70]\n",
        "]\n",
        "\n",
        "print(\"Average grade of each student:\")\n",
        "for i in range(len(grades)):\n",
        "    avg = sum(grades[i]) / len(grades[i])\n",
        "    print(f\"Student {i+1}: {avg}\")\n",
        "\n",
        "subjects = [\"Math\", \"Science\", \"English\"]\n",
        "print(\"\\nHighest grade in each subject:\")\n",
        "for j in range(3):\n",
        "    highest = max(grades[i][j] for i in range(len(grades)))\n",
        "    print(f\"{subjects[j]}: {highest}\")\n",
        "\n",
        "total = sum(sum(student) for student in grades)\n",
        "count = len(grades) * 3\n",
        "overallAverage = total / count\n",
        "print(f\"\\nOverall average grade: {overallAverage}\")\n"
      ],
      "metadata": {
        "colab": {
          "base_uri": "https://localhost:8080/"
        },
        "id": "M5N1ruhttj5p",
        "outputId": "274d35b8-f6c0-4944-a42b-e1d4d7b23dff"
      },
      "execution_count": null,
      "outputs": [
        {
          "output_type": "stream",
          "name": "stdout",
          "text": [
            "Average grade of each student:\n",
            "Student 1: 51.666666666666664\n",
            "Student 2: 56.0\n",
            "Student 3: 65.0\n",
            "\n",
            "Highest grade in each subject:\n",
            "Math: 90\n",
            "Science: 88\n",
            "English: 70\n",
            "\n",
            "Overall average grade: 57.55555555555556\n"
          ]
        }
      ]
    },
    {
      "cell_type": "code",
      "source": [
        "from statistics import mean\n",
        "\n",
        "grades = [\n",
        "    [78, 45, 32],\n",
        "    [55, 88, 25],\n",
        "    [90, 35, 70]\n",
        "]\n",
        "\n",
        "subjects = [\"Math\", \"Science\", \"English\"]\n",
        "\n",
        "# Average grade of each student\n",
        "print(\"Average grade of each student:\")\n",
        "print(f\"Student 1: {mean(grades[0])}\")\n",
        "print(f\"Student 2: {mean(grades[1])}\")\n",
        "print(f\"Student 3: {mean(grades[2])}\")\n",
        "\n",
        "# Highest grade in each subject\n",
        "print(\"\\nHighest grade in each subject:\")\n",
        "print(f\"{subjects[0]}: {max(grades[0][0], grades[1][0], grades[2][0])}\")\n",
        "print(f\"{subjects[1]}: {max(grades[0][1], grades[1][1], grades[2][1])}\")\n",
        "print(f\"{subjects[2]}: {max(grades[0][2], grades[1][2], grades[2][2])}\")\n",
        "\n",
        "# Overall average grade\n",
        "all_grades = grades[0] + grades[1] + grades[2]\n",
        "print(f\"\\nOverall average grade: {mean(all_grades)}\")\n"
      ],
      "metadata": {
        "colab": {
          "base_uri": "https://localhost:8080/"
        },
        "id": "Jss5QMYiytLO",
        "outputId": "2feb2f48-e92e-44c8-cc90-4f88904e3d30"
      },
      "execution_count": null,
      "outputs": [
        {
          "output_type": "stream",
          "name": "stdout",
          "text": [
            "Average grade of each student:\n",
            "Student 1: 51.666666666666664\n",
            "Student 2: 56\n",
            "Student 3: 65\n",
            "\n",
            "Highest grade in each subject:\n",
            "Math: 90\n",
            "Science: 88\n",
            "English: 70\n",
            "\n",
            "Overall average grade: 57.55555555555556\n"
          ]
        }
      ]
    },
    {
      "cell_type": "code",
      "source": [
        "import numpy as np\n",
        "grades = np.array([\n",
        "    [78, 45, 32],\n",
        "    [55, 88, 25],\n",
        "    [90, 35, 70]\n",
        "])\n",
        "\n",
        "studentMean = np.mean(grades, axis = 1)\n",
        "print(studentMean)\n",
        "\n",
        "heighGrade = np.max(grades, axis = 0)\n",
        "print(heighGrade)\n",
        "\n",
        "\n",
        "allGrades = np.mean(grades)\n",
        "print(allGrades)"
      ],
      "metadata": {
        "colab": {
          "base_uri": "https://localhost:8080/"
        },
        "id": "iFMM9Aetty2q",
        "outputId": "7c46ef16-c3ef-4132-c4bb-1838333394ad"
      },
      "execution_count": null,
      "outputs": [
        {
          "output_type": "stream",
          "name": "stdout",
          "text": [
            "[51.66666667 56.         65.        ]\n",
            "[90 88 70]\n",
            "57.55555555555556\n"
          ]
        }
      ]
    },
    {
      "cell_type": "code",
      "source": [
        "A = np.array([1,2,3,4])\n",
        "B = np.array([100,200,300,400])\n",
        "\n",
        "condition = np.array([True,True,False,False])\n",
        "\n",
        "answer2 = np.where(condition, A, B)\n",
        "answer2"
      ],
      "metadata": {
        "colab": {
          "base_uri": "https://localhost:8080/"
        },
        "id": "Q2v7QCfrw7E5",
        "outputId": "bd3d6089-1391-4ae3-df9b-aa0ab15944ae"
      },
      "execution_count": null,
      "outputs": [
        {
          "output_type": "execute_result",
          "data": {
            "text/plain": [
              "array([  1,   2, 300, 400])"
            ]
          },
          "metadata": {},
          "execution_count": 6
        }
      ]
    },
    {
      "cell_type": "code",
      "source": [
        "from numpy.random import randn\n",
        "from numpy.random import randint"
      ],
      "metadata": {
        "id": "S0E6K3dcxH3W"
      },
      "execution_count": null,
      "outputs": []
    },
    {
      "cell_type": "code",
      "source": [
        "arr = randn(2,2)\n",
        "arr"
      ],
      "metadata": {
        "colab": {
          "base_uri": "https://localhost:8080/"
        },
        "id": "Zw3yFOYJyQ2A",
        "outputId": "559d38d2-6d71-4f15-8038-4929b10199fc"
      },
      "execution_count": null,
      "outputs": [
        {
          "output_type": "execute_result",
          "data": {
            "text/plain": [
              "array([[-0.87650254,  0.60024781],\n",
              "       [-0.57345334, -0.07355707]])"
            ]
          },
          "metadata": {},
          "execution_count": 22
        }
      ]
    },
    {
      "cell_type": "code",
      "source": [
        "#random number between 1 and 20\n",
        "a1 = randint(1,20)\n",
        "a1"
      ],
      "metadata": {
        "colab": {
          "base_uri": "https://localhost:8080/"
        },
        "id": "mueIhUaLyYfW",
        "outputId": "88a26932-33f9-4214-d55e-e0cf10768831"
      },
      "execution_count": null,
      "outputs": [
        {
          "output_type": "execute_result",
          "data": {
            "text/plain": [
              "3"
            ]
          },
          "metadata": {},
          "execution_count": 19
        }
      ]
    },
    {
      "cell_type": "code",
      "source": [
        "np.where(arr < 0,6,arr)\n"
      ],
      "metadata": {
        "colab": {
          "base_uri": "https://localhost:8080/"
        },
        "id": "z_KFH3z0zBwc",
        "outputId": "77c4e5f4-8b8a-4eea-e345-5c56917faf21"
      },
      "execution_count": null,
      "outputs": [
        {
          "output_type": "execute_result",
          "data": {
            "text/plain": [
              "array([[6.        , 0.60024781],\n",
              "       [6.        , 6.        ]])"
            ]
          },
          "metadata": {},
          "execution_count": 23
        }
      ]
    },
    {
      "cell_type": "code",
      "source": [
        "arr1 = np.array([[1,2,3],[4,5,6],[7,8,9]])\n",
        "arr1"
      ],
      "metadata": {
        "colab": {
          "base_uri": "https://localhost:8080/"
        },
        "id": "zAXuB0qm0Xyf",
        "outputId": "7499dfd2-1c66-4ba4-9156-922260526791"
      },
      "execution_count": null,
      "outputs": [
        {
          "output_type": "execute_result",
          "data": {
            "text/plain": [
              "array([[1, 2, 3],\n",
              "       [4, 5, 6],\n",
              "       [7, 8, 9]])"
            ]
          },
          "metadata": {},
          "execution_count": 24
        }
      ]
    },
    {
      "cell_type": "code",
      "source": [
        "print(arr1.sum())"
      ],
      "metadata": {
        "colab": {
          "base_uri": "https://localhost:8080/"
        },
        "id": "BBXSxQRY00pn",
        "outputId": "d4d0b446-b0dd-4452-8110-f9385b6b43ec"
      },
      "execution_count": null,
      "outputs": [
        {
          "output_type": "stream",
          "name": "stdout",
          "text": [
            "45\n"
          ]
        }
      ]
    },
    {
      "cell_type": "code",
      "source": [
        "#sum over rows\n",
        "print(arr1.sum(1))"
      ],
      "metadata": {
        "colab": {
          "base_uri": "https://localhost:8080/"
        },
        "id": "lMyBZvyW08iO",
        "outputId": "51c9187d-2566-477b-c933-86722d301f77"
      },
      "execution_count": null,
      "outputs": [
        {
          "output_type": "stream",
          "name": "stdout",
          "text": [
            "[ 6 15 24]\n"
          ]
        }
      ]
    },
    {
      "cell_type": "code",
      "source": [
        "#sum over columns\n",
        "print(arr1.sum(0))"
      ],
      "metadata": {
        "colab": {
          "base_uri": "https://localhost:8080/"
        },
        "id": "EGZUE8vV1CmN",
        "outputId": "4c530c58-740e-49fb-d868-786bba7ece2f"
      },
      "execution_count": null,
      "outputs": [
        {
          "output_type": "stream",
          "name": "stdout",
          "text": [
            "[12 15 18]\n"
          ]
        }
      ]
    },
    {
      "cell_type": "code",
      "source": [
        "#Mean\n",
        "print(arr1.mean())"
      ],
      "metadata": {
        "colab": {
          "base_uri": "https://localhost:8080/"
        },
        "id": "xazExp2z1b5t",
        "outputId": "04806f74-129c-41e9-bd74-ff95b7be0f76"
      },
      "execution_count": null,
      "outputs": [
        {
          "output_type": "stream",
          "name": "stdout",
          "text": [
            "5.0\n"
          ]
        }
      ]
    },
    {
      "cell_type": "code",
      "source": [
        "#standard deviation\n",
        "print(arr1.std())"
      ],
      "metadata": {
        "colab": {
          "base_uri": "https://localhost:8080/"
        },
        "id": "QWWUQ96c1i-k",
        "outputId": "febfa4c1-7281-43a7-c6f6-042841ce06e5"
      },
      "execution_count": null,
      "outputs": [
        {
          "output_type": "stream",
          "name": "stdout",
          "text": [
            "2.581988897471611\n"
          ]
        }
      ]
    },
    {
      "cell_type": "code",
      "source": [
        "#variance\n",
        "print(arr1.var())"
      ],
      "metadata": {
        "colab": {
          "base_uri": "https://localhost:8080/"
        },
        "id": "U7wOdIbs1izG",
        "outputId": "f2aa9efc-7dc4-4032-c733-2961c81c6833"
      },
      "execution_count": null,
      "outputs": [
        {
          "output_type": "stream",
          "name": "stdout",
          "text": [
            "6.666666666666667\n"
          ]
        }
      ]
    },
    {
      "cell_type": "code",
      "source": [
        "A=np.array([-2,5,4,-8,0])\n",
        "print(A)"
      ],
      "metadata": {
        "colab": {
          "base_uri": "https://localhost:8080/"
        },
        "id": "K_XmHtgF2ZRM",
        "outputId": "0d0e9a5c-950d-415a-9a30-e5ea77d56cf1"
      },
      "execution_count": null,
      "outputs": [
        {
          "output_type": "stream",
          "name": "stdout",
          "text": [
            "[-2  5  4 -8  0]\n"
          ]
        }
      ]
    },
    {
      "cell_type": "code",
      "source": [
        "print(np.sort(A)) #Ascending\n",
        "print(- np.sort(-A)) #Descending"
      ],
      "metadata": {
        "colab": {
          "base_uri": "https://localhost:8080/"
        },
        "id": "ABWs8sFF2cAL",
        "outputId": "15876407-2de6-4367-8b45-d51bee0693a1"
      },
      "execution_count": null,
      "outputs": [
        {
          "output_type": "stream",
          "name": "stdout",
          "text": [
            "[-8 -2  0  4  5]\n",
            "[ 5  4  0 -2 -8]\n"
          ]
        }
      ]
    },
    {
      "cell_type": "code",
      "source": [
        "countries = np.array(['France', 'Germany', 'USA','Russia','USA','Mexico',\n",
        "                      'Germany','France', 'Germany', 'USA','Russia',\n",
        "                      'USA','Mexico','Germany','France', 'Germany',\n",
        "                      'USA','Russia','USA','Mexico','Germany','France',\n",
        "                      'Germany','USA','Russia','USA','Mexico','Germany'])\n",
        "print(np.unique(countries))"
      ],
      "metadata": {
        "colab": {
          "base_uri": "https://localhost:8080/"
        },
        "id": "UqtScry_34fy",
        "outputId": "f2d39ea8-cfb9-48ca-d4b8-4e2147ee69cb"
      },
      "execution_count": null,
      "outputs": [
        {
          "output_type": "stream",
          "name": "stdout",
          "text": [
            "['France' 'Germany' 'Mexico' 'Russia' 'USA']\n"
          ]
        }
      ]
    },
    {
      "cell_type": "code",
      "source": [
        "np.in1d(['USA', 'Oman', 'Dubai'],countries)"
      ],
      "metadata": {
        "colab": {
          "base_uri": "https://localhost:8080/"
        },
        "id": "dAdy1OMh4UVx",
        "outputId": "52c7f5a4-cd65-48a8-8720-194aaaff0929"
      },
      "execution_count": null,
      "outputs": [
        {
          "output_type": "stream",
          "name": "stderr",
          "text": [
            "<ipython-input-40-ec5f0843066c>:1: DeprecationWarning: `in1d` is deprecated. Use `np.isin` instead.\n",
            "  np.in1d(['USA', 'Oman', 'Dubai'],countries)\n"
          ]
        },
        {
          "output_type": "execute_result",
          "data": {
            "text/plain": [
              "array([ True, False, False])"
            ]
          },
          "metadata": {},
          "execution_count": 40
        }
      ]
    },
    {
      "cell_type": "code",
      "source": [],
      "metadata": {
        "id": "szNPVYio5ZEF"
      },
      "execution_count": null,
      "outputs": []
    }
  ]
}