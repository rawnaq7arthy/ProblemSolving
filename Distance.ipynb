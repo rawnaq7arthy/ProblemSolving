{
  "nbformat": 4,
  "nbformat_minor": 0,
  "metadata": {
    "colab": {
      "provenance": []
    },
    "kernelspec": {
      "name": "python3",
      "display_name": "Python 3"
    },
    "language_info": {
      "name": "python"
    }
  },
  "cells": [
    {
      "cell_type": "code",
      "execution_count": 1,
      "metadata": {
        "colab": {
          "base_uri": "https://localhost:8080/"
        },
        "id": "4xjlimwdEgro",
        "outputId": "49fceebd-e2e6-4d77-f092-73c6a08f6823"
      },
      "outputs": [
        {
          "output_type": "stream",
          "name": "stdout",
          "text": [
            "True\n",
            "False\n",
            "True\n"
          ]
        }
      ],
      "source": [
        "def is_self_crossing(moves):\n",
        "   # Directions: N, W, S, E (in clockwise order)\n",
        "   directions = [(0, 1), (-1, 0), (0, -1), (1, 0)]\n",
        "   visited = set()\n",
        "   x, y = 0, 0\n",
        "   visited.add((x, y))\n",
        "   dir_index = 0  # Start with North\n",
        "   for move in moves:\n",
        "       dx, dy = directions[dir_index]\n",
        "       for _ in range(move):\n",
        "           x += dx\n",
        "           y += dy\n",
        "           if (x, y) in visited:\n",
        "               return True\n",
        "           visited.add((x, y))\n",
        "       dir_index = (dir_index + 1) % 4  # Rotate direction\n",
        "   return False\n",
        "# Examples\n",
        "print(is_self_crossing([2, 1, 1, 2]))  # True\n",
        "print(is_self_crossing([1, 2, 3, 4]))  # False\n",
        "print(is_self_crossing([1, 1, 2, 1, 1]))  # True"
      ]
    }
  ]
}