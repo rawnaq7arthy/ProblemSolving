{
  "nbformat": 4,
  "nbformat_minor": 0,
  "metadata": {
    "colab": {
      "provenance": []
    },
    "kernelspec": {
      "name": "python3",
      "display_name": "Python 3"
    },
    "language_info": {
      "name": "python"
    }
  },
  "cells": [
    {
      "cell_type": "code",
      "execution_count": 2,
      "metadata": {
        "colab": {
          "base_uri": "https://localhost:8080/"
        },
        "id": "iBxjSJAxwCAS",
        "outputId": "288366ea-049b-4420-9f46-133b15439235"
      },
      "outputs": [
        {
          "output_type": "stream",
          "name": "stdout",
          "text": [
            "Here's a joke for you:\n",
            "How many programmers does it take to change a lightbulb?\n",
            "None that's a hardware problem\n"
          ]
        }
      ],
      "source": [
        "import requests\n",
        "\n",
        "url = \"https://official-joke-api.appspot.com/jokes/random\"\n",
        "\n",
        "response = requests.get(url)\n",
        "\n",
        "if response.status_code == 200:\n",
        "    joke = response.json()\n",
        "    print(\"Here's a joke for you:\")\n",
        "    print(f\"{joke['setup']}\")\n",
        "    print(f\"{joke['punchline']}\")\n",
        "else:\n",
        "    print(\"Failed to retrieve a joke.\")\n"
      ]
    },
    {
      "cell_type": "code",
      "source": [
        "import requests\n",
        "\n",
        "url = \"https://catfact.ninja/fact\"\n",
        "\n",
        "response = requests.get(url)\n",
        "\n",
        "if response.status_code == 200:\n",
        "    data = response.json()\n",
        "    print(\"Random Cat Fact:\")\n",
        "    print(data['fact'])\n",
        "else:\n",
        "    print(\"Failed to fetch a cat fact.\")\n"
      ],
      "metadata": {
        "colab": {
          "base_uri": "https://localhost:8080/"
        },
        "id": "0Qpm0qulwylu",
        "outputId": "cdbc455a-1496-432f-8aac-0ed98cef006b"
      },
      "execution_count": 20,
      "outputs": [
        {
          "output_type": "stream",
          "name": "stdout",
          "text": [
            "Random Cat Fact:\n",
            "There are up to 60 million feral cats in the United States alone.\n"
          ]
        }
      ]
    },
    {
      "cell_type": "code",
      "source": [
        "import requests\n",
        "\n",
        "url = \"https://api.api-ninjas.com/v1/jokes\"\n",
        "headers = {\n",
        "    'X-Api-Key': 'i572KXr8a658lSd/vEB+Sw==bikd0QWSDe4t9ZxR'\n",
        "}\n",
        "\n",
        "response = requests.get(url, headers=headers)\n",
        "\n",
        "if response.status_code == 200:\n",
        "    joke = response.json()\n",
        "    if joke:\n",
        "        print(\"Here's a joke for you:\")\n",
        "        print(joke[0]['joke'])\n",
        "    else:\n",
        "        print(\"No joke found.\")\n",
        "else:\n",
        "    print(\"Failed to fetch joke.\")\n",
        "    print(\"Status Code:\", response.status_code)\n",
        "    print(\"Response:\", response.text)\n"
      ],
      "metadata": {
        "colab": {
          "base_uri": "https://localhost:8080/"
        },
        "id": "ArMw3C_-yDGU",
        "outputId": "b5780b07-35cf-4ccd-c48e-0d93525415f7"
      },
      "execution_count": 19,
      "outputs": [
        {
          "output_type": "stream",
          "name": "stdout",
          "text": [
            "Here's a joke for you:\n",
            "I was walking in the desert and saw a redwood tree. I knew this must be a mirage, so I ran into it. To my dismay, the tree and I collided. I guess it must have been an obstacle illusion.\n"
          ]
        }
      ]
    }
  ]
}