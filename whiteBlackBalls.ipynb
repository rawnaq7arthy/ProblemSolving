{
  "nbformat": 4,
  "nbformat_minor": 0,
  "metadata": {
    "colab": {
      "provenance": []
    },
    "kernelspec": {
      "name": "python3",
      "display_name": "Python 3"
    },
    "language_info": {
      "name": "python"
    }
  },
  "cells": [
    {
      "cell_type": "code",
      "execution_count": 3,
      "metadata": {
        "id": "nEa-8iHS2Bdr",
        "colab": {
          "base_uri": "https://localhost:8080/"
        },
        "outputId": "d2ffb4eb-c947-4c22-8d9d-65b426267fab"
      },
      "outputs": [
        {
          "output_type": "stream",
          "name": "stdout",
          "text": [
            "White balls: 5\n",
            "Black balls: 8\n",
            "Height:  4\n"
          ]
        }
      ],
      "source": [
        "white = int(input(\"White balls: \"))\n",
        "black = int(input(\"Black balls: \"))\n",
        "\n",
        "row = 1\n",
        "height = 1\n",
        "\n",
        "while True:\n",
        "    if row % 2 and white >= row:\n",
        "        white -= row\n",
        "        height = row\n",
        "    elif row % 2 == 0 and black >= row:\n",
        "        black -= row\n",
        "        height = row\n",
        "    else:\n",
        "        break\n",
        "    row +=1\n",
        "print(\"Height: \", height)"
      ]
    }
  ]
}