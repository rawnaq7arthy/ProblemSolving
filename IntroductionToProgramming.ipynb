{
  "nbformat": 4,
  "nbformat_minor": 0,
  "metadata": {
    "colab": {
      "provenance": []
    },
    "kernelspec": {
      "name": "python3",
      "display_name": "Python 3"
    },
    "language_info": {
      "name": "python"
    }
  },
  "cells": [
    {
      "cell_type": "code",
      "execution_count": null,
      "metadata": {
        "colab": {
          "base_uri": "https://localhost:8080/"
        },
        "id": "pSRoLjeeBfDc",
        "outputId": "834c1ffd-02bc-4d5b-b427-78ba182593a9"
      },
      "outputs": [
        {
          "output_type": "stream",
          "name": "stdout",
          "text": [
            "Hello world !\n"
          ]
        }
      ],
      "source": [
        "sprint(\"Hello world !\")"
      ]
    },
    {
      "cell_type": "code",
      "source": [
        "name=\"Iman Abdullah Albattashi\"\n",
        "print(name)"
      ],
      "metadata": {
        "colab": {
          "base_uri": "https://localhost:8080/"
        },
        "id": "EJiPbR8AM3mx",
        "outputId": "7c873d2c-3ebb-42e7-f82d-e1eabc0c3154"
      },
      "execution_count": null,
      "outputs": [
        {
          "output_type": "stream",
          "name": "stdout",
          "text": [
            "Iman Abdullah Albattashi\n"
          ]
        }
      ]
    },
    {
      "cell_type": "code",
      "source": [
        "name = \"Iman\"\n",
        "print(name)\n",
        "\n",
        "name = \"Rahaf\"\n",
        "print(name)"
      ],
      "metadata": {
        "id": "RFavO6hmT5h8",
        "colab": {
          "base_uri": "https://localhost:8080/"
        },
        "outputId": "d8626e55-2adf-46d1-a55f-3ca94a2c4051"
      },
      "execution_count": null,
      "outputs": [
        {
          "output_type": "stream",
          "name": "stdout",
          "text": [
            "Iman\n",
            "Rahaf\n"
          ]
        }
      ]
    },
    {
      "cell_type": "code",
      "source": [
        "ages = [10,12,14,16,18]\n",
        "count = 0\n",
        "for age in ages:\n",
        "  if age >= 14:\n",
        "    count += 1\n",
        "\n",
        "print(count)"
      ],
      "metadata": {
        "colab": {
          "base_uri": "https://localhost:8080/"
        },
        "id": "N1xuSCTrU-CT",
        "outputId": "3d6a3ffa-8dd6-4eb7-e6d3-9244264ea7c6"
      },
      "execution_count": null,
      "outputs": [
        {
          "output_type": "stream",
          "name": "stdout",
          "text": [
            "3\n"
          ]
        }
      ]
    },
    {
      "cell_type": "code",
      "source": [
        "_name=\"Qusay\"\n",
        "print(_name)"
      ],
      "metadata": {
        "colab": {
          "base_uri": "https://localhost:8080/"
        },
        "id": "EydIfIgVV2QW",
        "outputId": "49e4e161-babf-4f40-e839-2ea0ec5a6671"
      },
      "execution_count": null,
      "outputs": [
        {
          "output_type": "stream",
          "name": "stdout",
          "text": [
            "Qusay\n"
          ]
        }
      ]
    },
    {
      "cell_type": "code",
      "source": [
        "name01=\"Ali\"\n",
        "print(name01)"
      ],
      "metadata": {
        "colab": {
          "base_uri": "https://localhost:8080/"
        },
        "id": "uyyon7WMV8Pi",
        "outputId": "e6f5999d-e156-466b-faec-8411f2407d45"
      },
      "execution_count": null,
      "outputs": [
        {
          "output_type": "stream",
          "name": "stdout",
          "text": [
            "Ali\n"
          ]
        }
      ]
    },
    {
      "cell_type": "code",
      "source": [
        "#constant all capital letters\n",
        "A= 5\n",
        "B=8\n",
        "TOTAL = (A + B) / 2\n",
        "print(TOTAL)"
      ],
      "metadata": {
        "colab": {
          "base_uri": "https://localhost:8080/"
        },
        "id": "1yyNdYnLWA2o",
        "outputId": "49460872-f9ee-417e-b671-398c0dcafda4"
      },
      "execution_count": null,
      "outputs": [
        {
          "output_type": "stream",
          "name": "stdout",
          "text": [
            "6.5\n"
          ]
        }
      ]
    },
    {
      "cell_type": "code",
      "source": [
        "\"\"\"\n",
        "This is a\n",
        "multi-line\n",
        "comment\n",
        "\"\"\"\n"
      ],
      "metadata": {
        "colab": {
          "base_uri": "https://localhost:8080/",
          "height": 35
        },
        "id": "HsDwEGm3bIz7",
        "outputId": "b5b55d2c-3efd-4bc3-ae94-7f0324f4c671"
      },
      "execution_count": null,
      "outputs": [
        {
          "output_type": "execute_result",
          "data": {
            "text/plain": [
              "'\\nThis is a multi-line comment\\nIt can span several lines\\nUseful for documentation or explanations\\n'"
            ],
            "application/vnd.google.colaboratory.intrinsic+json": {
              "type": "string"
            }
          },
          "metadata": {},
          "execution_count": 12
        }
      ]
    },
    {
      "cell_type": "markdown",
      "source": [],
      "metadata": {
        "id": "_SctSTFZu3Da"
      }
    },
    {
      "cell_type": "code",
      "source": [
        "cansPerPack = 6\n",
        "ouncesPerCan = 12\n",
        "litersPerOunce = 0.355 * 6\n",
        "\n",
        "# Total\n",
        "\n",
        "print(litersPerOunce)\n",
        "litersBottle = 2.0\n",
        "\n",
        "# # compare\n",
        "# if totalLitersCans > litersBottle:\n",
        "#     print(\"Buy six-pack of cans\")\n",
        "# else:\n",
        "#     print(\"Buy the bottle\")\n"
      ],
      "metadata": {
        "colab": {
          "base_uri": "https://localhost:8080/"
        },
        "id": "4hzMf6yoc2kc",
        "outputId": "54bc44b6-7337-436d-972c-d6ea50c0b774"
      },
      "execution_count": null,
      "outputs": [
        {
          "output_type": "stream",
          "name": "stdout",
          "text": [
            "2.13\n"
          ]
        }
      ]
    },
    {
      "cell_type": "code",
      "source": [
        "b=1\n",
        "r=2\n",
        "n=3\n",
        "b * (1 + r / 100) ** n"
      ],
      "metadata": {
        "colab": {
          "base_uri": "https://localhost:8080/"
        },
        "id": "2At0ktyVu37m",
        "outputId": "e4049cd3-2dd1-43bb-a7b6-e00af60e8538"
      },
      "execution_count": null,
      "outputs": [
        {
          "output_type": "execute_result",
          "data": {
            "text/plain": [
              "1.0612080000000002"
            ]
          },
          "metadata": {},
          "execution_count": 2
        }
      ]
    },
    {
      "cell_type": "code",
      "source": [
        "#division\n",
        "3/2"
      ],
      "metadata": {
        "colab": {
          "base_uri": "https://localhost:8080/"
        },
        "id": "bOl-G5kevjzR",
        "outputId": "4203da44-8fbf-4f77-9fc4-b7baf81d8c24"
      },
      "execution_count": null,
      "outputs": [
        {
          "output_type": "execute_result",
          "data": {
            "text/plain": [
              "1.5"
            ]
          },
          "metadata": {},
          "execution_count": 5
        }
      ]
    },
    {
      "cell_type": "code",
      "source": [
        "#floor division\n",
        "3//2"
      ],
      "metadata": {
        "colab": {
          "base_uri": "https://localhost:8080/"
        },
        "id": "5VqtCptxyOUG",
        "outputId": "181c083a-f5a1-47db-8658-9e1708352258"
      },
      "execution_count": null,
      "outputs": [
        {
          "output_type": "execute_result",
          "data": {
            "text/plain": [
              "1"
            ]
          },
          "metadata": {},
          "execution_count": 6
        }
      ]
    },
    {
      "cell_type": "code",
      "source": [
        "#modulus\n",
        "10%7"
      ],
      "metadata": {
        "colab": {
          "base_uri": "https://localhost:8080/"
        },
        "id": "sGENybI-zNHW",
        "outputId": "f4d40519-907b-4175-90da-868c61554834"
      },
      "execution_count": null,
      "outputs": [
        {
          "output_type": "execute_result",
          "data": {
            "text/plain": [
              "3"
            ]
          },
          "metadata": {},
          "execution_count": 9
        }
      ]
    },
    {
      "cell_type": "code",
      "source": [
        "a=6\n",
        "b=13\n",
        "if a % 2 == 0:\n",
        "  print(f\"{a} is even\")\n",
        "else:\n",
        "  print(f\"{a} is odd\")\n",
        "\n",
        "if b % 2 == 0:\n",
        "  print(f\"{b} is even\")\n",
        "else:\n",
        "  print(f\"{b} is odd\")"
      ],
      "metadata": {
        "colab": {
          "base_uri": "https://localhost:8080/"
        },
        "id": "3CDQddbbzlsN",
        "outputId": "9099494f-2352-418d-8e0d-448eb5794110"
      },
      "execution_count": null,
      "outputs": [
        {
          "output_type": "stream",
          "name": "stdout",
          "text": [
            "6 is even\n",
            "13 is odd\n"
          ]
        }
      ]
    },
    {
      "cell_type": "code",
      "source": [
        "num = -10\n",
        "if num < 0 :\n",
        "  num = num * (-1)\n",
        "  print(num)\n",
        "else:\n",
        "  print(num)\n"
      ],
      "metadata": {
        "colab": {
          "base_uri": "https://localhost:8080/"
        },
        "id": "ftbHWhZy17eK",
        "outputId": "9fa2b53d-2202-45b3-babd-585fcb281796"
      },
      "execution_count": null,
      "outputs": [
        {
          "output_type": "stream",
          "name": "stdout",
          "text": [
            "10\n"
          ]
        }
      ]
    },
    {
      "cell_type": "code",
      "source": [
        "abs(-25)"
      ],
      "metadata": {
        "colab": {
          "base_uri": "https://localhost:8080/"
        },
        "id": "WaVGQEkq5Dfo",
        "outputId": "d03e2f1e-4c88-4b80-b7e2-b5d3681bbb81"
      },
      "execution_count": null,
      "outputs": [
        {
          "output_type": "execute_result",
          "data": {
            "text/plain": [
              "25"
            ]
          },
          "metadata": {},
          "execution_count": 20
        }
      ]
    },
    {
      "cell_type": "code",
      "source": [
        "round(67.92208)"
      ],
      "metadata": {
        "colab": {
          "base_uri": "https://localhost:8080/"
        },
        "id": "HJ77DFKP7312",
        "outputId": "09d0932d-8082-4ae0-95e0-cc5fb1f0f6ce"
      },
      "execution_count": null,
      "outputs": [
        {
          "output_type": "execute_result",
          "data": {
            "text/plain": [
              "68"
            ]
          },
          "metadata": {},
          "execution_count": 22
        }
      ]
    },
    {
      "cell_type": "code",
      "source": [
        "round(67.92208,3)"
      ],
      "metadata": {
        "colab": {
          "base_uri": "https://localhost:8080/"
        },
        "id": "tfJk9qw074SP",
        "outputId": "4ab04985-4f7b-4f69-8467-975bf7324add"
      },
      "execution_count": null,
      "outputs": [
        {
          "output_type": "execute_result",
          "data": {
            "text/plain": [
              "67.922"
            ]
          },
          "metadata": {},
          "execution_count": 23
        }
      ]
    },
    {
      "cell_type": "code",
      "source": [
        "max(1,2,3,4,5,3,2,3,1)"
      ],
      "metadata": {
        "colab": {
          "base_uri": "https://localhost:8080/"
        },
        "id": "MmhnAUA874n0",
        "outputId": "0125d538-0e65-4dd4-85f4-d36ab8a702e1"
      },
      "execution_count": null,
      "outputs": [
        {
          "output_type": "execute_result",
          "data": {
            "text/plain": [
              "5"
            ]
          },
          "metadata": {},
          "execution_count": 24
        }
      ]
    },
    {
      "cell_type": "code",
      "source": [
        "min(1,2,3,4,5,3,2,3,1)"
      ],
      "metadata": {
        "colab": {
          "base_uri": "https://localhost:8080/"
        },
        "id": "uTMP6rCV8LJV",
        "outputId": "3984b62c-0461-4c4e-e4dc-8ce81568351a"
      },
      "execution_count": null,
      "outputs": [
        {
          "output_type": "execute_result",
          "data": {
            "text/plain": [
              "1"
            ]
          },
          "metadata": {},
          "execution_count": 25
        }
      ]
    },
    {
      "cell_type": "code",
      "source": [
        "from math import sqrt\n",
        "sqrt(5)"
      ],
      "metadata": {
        "colab": {
          "base_uri": "https://localhost:8080/"
        },
        "id": "OGKuu1U8-HNO",
        "outputId": "aee4bfc9-8c37-4949-aa48-e8e3d7873e04"
      },
      "execution_count": null,
      "outputs": [
        {
          "output_type": "execute_result",
          "data": {
            "text/plain": [
              "2.23606797749979"
            ]
          },
          "metadata": {},
          "execution_count": 9
        }
      ]
    },
    {
      "cell_type": "code",
      "source": [
        "import math\n",
        "math.sqrt(6)"
      ],
      "metadata": {
        "colab": {
          "base_uri": "https://localhost:8080/"
        },
        "id": "QnFOeJJi-VsP",
        "outputId": "d54deda3-bdde-4d32-d19f-bb20f575cae1"
      },
      "execution_count": null,
      "outputs": [
        {
          "output_type": "execute_result",
          "data": {
            "text/plain": [
              "2.449489742783178"
            ]
          },
          "metadata": {},
          "execution_count": 28
        }
      ]
    },
    {
      "cell_type": "code",
      "source": [
        "#convert int to float and viceversa\n",
        "height = 157.8\n",
        "height = int(height)\n",
        "print(height)"
      ],
      "metadata": {
        "colab": {
          "base_uri": "https://localhost:8080/"
        },
        "id": "FZmpvRcr_dDb",
        "outputId": "6fd441c0-7d58-4984-c2da-28e9ce7c43e8"
      },
      "execution_count": null,
      "outputs": [
        {
          "output_type": "stream",
          "name": "stdout",
          "text": [
            "157\n"
          ]
        }
      ]
    },
    {
      "cell_type": "code",
      "source": [
        "height = 157\n",
        "height = float(height)\n",
        "print(height)"
      ],
      "metadata": {
        "colab": {
          "base_uri": "https://localhost:8080/"
        },
        "id": "Dz0ihvag_0aS",
        "outputId": "0175e67f-757f-48bb-b926-56b7b0d27f92"
      },
      "execution_count": null,
      "outputs": [
        {
          "output_type": "stream",
          "name": "stdout",
          "text": [
            "157.0\n"
          ]
        }
      ]
    },
    {
      "cell_type": "code",
      "source": [
        "#from math import sqrt, cos\n",
        "from math import * #import all math functions\n",
        "\n",
        "a = 2\n",
        "b = 3\n",
        "t = 1\n",
        "\n",
        "result = sqrt((a**2) + (b**2) - 2 * a * b * cos(t))\n",
        "print(result)\n"
      ],
      "metadata": {
        "colab": {
          "base_uri": "https://localhost:8080/"
        },
        "id": "-Fni4he5AHV5",
        "outputId": "8ebbf993-1a7f-4e2c-e90b-8f72023a8bf4"
      },
      "execution_count": null,
      "outputs": [
        {
          "output_type": "stream",
          "name": "stdout",
          "text": [
            "2.552718615433813\n"
          ]
        }
      ]
    },
    {
      "cell_type": "code",
      "source": [
        "count = 0\n",
        "count += 1\n",
        "print(count)"
      ],
      "metadata": {
        "colab": {
          "base_uri": "https://localhost:8080/"
        },
        "id": "IKYRRM1kH8WZ",
        "outputId": "a01771e1-e7ff-4a3e-93a1-475339c7d1d7"
      },
      "execution_count": null,
      "outputs": [
        {
          "output_type": "stream",
          "name": "stdout",
          "text": [
            "1\n"
          ]
        }
      ]
    },
    {
      "cell_type": "code",
      "source": [
        "count = 1\n",
        "count *= 2\n",
        "print(count)"
      ],
      "metadata": {
        "colab": {
          "base_uri": "https://localhost:8080/"
        },
        "id": "caXGCHivISLw",
        "outputId": "30e94dbe-7108-4913-c533-d9e7e65cbefd"
      },
      "execution_count": null,
      "outputs": [
        {
          "output_type": "stream",
          "name": "stdout",
          "text": [
            "2\n"
          ]
        }
      ]
    },
    {
      "cell_type": "code",
      "source": [
        "name = input(\"Please Enter your name: \")\n",
        "age = int(input(\"Enter your age: \"))\n",
        "height = float(input(\"Enter your height: \"))"
      ],
      "metadata": {
        "colab": {
          "base_uri": "https://localhost:8080/"
        },
        "id": "yKFc4BTZJebv",
        "outputId": "db76b8a3-ef0d-44ff-acdb-c61a2de10b08"
      },
      "execution_count": null,
      "outputs": [
        {
          "name": "stdout",
          "output_type": "stream",
          "text": [
            "Please Enter your name: Asmam\n",
            "Enter your age: 33\n",
            "Enter your height: 167.4\n"
          ]
        }
      ]
    },
    {
      "cell_type": "code",
      "source": [
        "#2 --> two decimal points, f --> float\n",
        "#if f float , d integer (%d), s string (%s)\n",
        "# format specifier\n",
        "price = 1.21997\n",
        "print(\"price per liter %.2f\" %(price))"
      ],
      "metadata": {
        "colab": {
          "base_uri": "https://localhost:8080/"
        },
        "id": "bGml0tyKVe_e",
        "outputId": "4cd3908f-c4e9-4134-f955-1b4e33d90f9c"
      },
      "execution_count": null,
      "outputs": [
        {
          "output_type": "stream",
          "name": "stdout",
          "text": [
            "price per liter 1.22\n"
          ]
        }
      ]
    },
    {
      "cell_type": "code",
      "source": [
        "print(\"price per liter %10.2f\" %(price))"
      ],
      "metadata": {
        "colab": {
          "base_uri": "https://localhost:8080/"
        },
        "id": "j2VJINW6XMZS",
        "outputId": "aef89494-ab48-4f64-af6f-c29fff5f0676"
      },
      "execution_count": null,
      "outputs": [
        {
          "output_type": "stream",
          "name": "stdout",
          "text": [
            "price per liter       1.22\n"
          ]
        }
      ]
    },
    {
      "cell_type": "code",
      "source": [
        "quantity = 19\n",
        "total= 34.5\n",
        "print(\"Quantity : %d Total: %10.2f\" % (quantity, total))"
      ],
      "metadata": {
        "colab": {
          "base_uri": "https://localhost:8080/"
        },
        "id": "zeuciDSGbxUn",
        "outputId": "29edbe9d-62e8-45b6-c922-c9b5b3558ea4"
      },
      "execution_count": null,
      "outputs": [
        {
          "output_type": "stream",
          "name": "stdout",
          "text": [
            "Quantity : 19 Total:      34.50\n"
          ]
        }
      ]
    },
    {
      "cell_type": "code",
      "source": [
        "print(\"%-10s\" %(\"Total:\"))"
      ],
      "metadata": {
        "colab": {
          "base_uri": "https://localhost:8080/"
        },
        "id": "e3dlPGj6doQp",
        "outputId": "16a36c27-4809-464f-b891-c295293f4a58"
      },
      "execution_count": null,
      "outputs": [
        {
          "output_type": "stream",
          "name": "stdout",
          "text": [
            "Total:    \n"
          ]
        }
      ]
    },
    {
      "cell_type": "code",
      "source": [
        "print(\"%10.2f\" %(price))"
      ],
      "metadata": {
        "colab": {
          "base_uri": "https://localhost:8080/"
        },
        "id": "Xh1TOz4yd3FK",
        "outputId": "13d5c73b-ec71-4855-d17b-624f8c0c46c2"
      },
      "execution_count": null,
      "outputs": [
        {
          "output_type": "stream",
          "name": "stdout",
          "text": [
            "      1.22\n"
          ]
        }
      ]
    },
    {
      "cell_type": "code",
      "source": [
        "print(\"%-10s%10.2f\" %(\"Total: \",price))"
      ],
      "metadata": {
        "colab": {
          "base_uri": "https://localhost:8080/"
        },
        "id": "LZOebKFGeAYs",
        "outputId": "98c98dd5-4ac5-445c-b7a8-16f3e645d236"
      },
      "execution_count": null,
      "outputs": [
        {
          "output_type": "stream",
          "name": "stdout",
          "text": [
            "Total:          1.22\n"
          ]
        }
      ]
    },
    {
      "cell_type": "code",
      "source": [
        "Pack = int(input(\"Enter number of Pack: \"))\n",
        "Can = int(input(\"Enter number of Cans: \"))\n",
        "bottle = int(input(\"Enter number of Bottles: \"))\n",
        "fluid = 0.335\n",
        "canPerPack = Pack * fluid\n",
        "\n",
        "if canPerPack > bottle:\n",
        "  print(canPerPack)\n",
        "else:\n",
        "  print(bottle)\n"
      ],
      "metadata": {
        "colab": {
          "base_uri": "https://localhost:8080/"
        },
        "id": "uOOm0qg4hMnj",
        "outputId": "38d27474-86af-4668-fbbd-af0b4416c304"
      },
      "execution_count": null,
      "outputs": [
        {
          "output_type": "stream",
          "name": "stdout",
          "text": [
            "Enter number of Pack: 1\n",
            "Enter number of Cans: 2\n",
            "Enter number of Bottles: 3\n",
            "3\n"
          ]
        }
      ]
    },
    {
      "cell_type": "code",
      "source": [
        "#12 oz = 0.355 liters ⇒ 1 oz = 0.0296 liters\n",
        "\n",
        "cans = int(input(\"Cans: \"))\n",
        "oz = float(input(\"Ounces per can: \"))\n",
        "bottle = float(input(\"Bottle in liters: \"))\n",
        "\n",
        "total_can_liters = cans * oz * 0.0296\n",
        "\n",
        "print(\"Cans total :\", total_can_liters)\n",
        "print(\"Bottle :\", bottle)\n",
        "\n",
        "if total_can_liters > bottle:\n",
        "    print(\"Buy cans\")\n",
        "elif total_can_liters < bottle:\n",
        "    print(\"Buy bottle\")\n",
        "else:\n",
        "    print(\"Same amount\")\n"
      ],
      "metadata": {
        "colab": {
          "base_uri": "https://localhost:8080/"
        },
        "id": "JUArHkmQlFs4",
        "outputId": "bf7a6499-af04-47d9-b85c-fcd2c7c66500"
      },
      "execution_count": null,
      "outputs": [
        {
          "output_type": "stream",
          "name": "stdout",
          "text": [
            "Cans: 3\n",
            "Ounces per can: 4\n",
            "Bottle in liters: 5.2\n",
            "Cans total : 0.3552\n",
            "Bottle : 5.2\n",
            "Buy bottle\n"
          ]
        }
      ]
    },
    {
      "cell_type": "code",
      "source": [
        "message = 'She said \"Hello\"'\n",
        "print(message)"
      ],
      "metadata": {
        "colab": {
          "base_uri": "https://localhost:8080/"
        },
        "id": "vbEmQ22Pl6lR",
        "outputId": "5f35d468-04d2-41ac-c710-e7230f208703"
      },
      "execution_count": null,
      "outputs": [
        {
          "output_type": "stream",
          "name": "stdout",
          "text": [
            "She said \"Hello\"\n"
          ]
        }
      ]
    },
    {
      "cell_type": "code",
      "source": [
        "message = \"She said 'Hello'\"\n",
        "print(message)"
      ],
      "metadata": {
        "colab": {
          "base_uri": "https://localhost:8080/"
        },
        "id": "7dyp9KEXm7Zq",
        "outputId": "ea517857-9228-449d-e49b-2318f6f89aaf"
      },
      "execution_count": null,
      "outputs": [
        {
          "output_type": "stream",
          "name": "stdout",
          "text": [
            "She said 'Hello'\n"
          ]
        }
      ]
    },
    {
      "cell_type": "code",
      "source": [
        "length=len(\"Hi its Iman\")\n",
        "print(length)"
      ],
      "metadata": {
        "colab": {
          "base_uri": "https://localhost:8080/"
        },
        "id": "jYYFnN4h2n_J",
        "outputId": "ebf47803-a6ef-42b3-c066-11992f061e29"
      },
      "execution_count": null,
      "outputs": [
        {
          "output_type": "stream",
          "name": "stdout",
          "text": [
            "11\n"
          ]
        }
      ]
    },
    {
      "cell_type": "code",
      "source": [
        "firstName = \"Iman\"\n",
        "secondName = \"Abdullah\"\n",
        "name = firstName +\" \"+ secondName\n",
        "print(\"my name is :\", name)"
      ],
      "metadata": {
        "colab": {
          "base_uri": "https://localhost:8080/"
        },
        "id": "nPvctujV30i2",
        "outputId": "1ccdbf23-80b2-42b3-8eec-1f34c4d7da25"
      },
      "execution_count": null,
      "outputs": [
        {
          "output_type": "stream",
          "name": "stdout",
          "text": [
            "my name is : Iman Abdullah\n"
          ]
        }
      ]
    },
    {
      "cell_type": "code",
      "source": [
        "dashes = \"%\" * 50\n",
        "print(dashes)"
      ],
      "metadata": {
        "colab": {
          "base_uri": "https://localhost:8080/"
        },
        "id": "t77PZE-n4l4W",
        "outputId": "e7c56d03-3932-4d90-fcf4-cbc575c18da6"
      },
      "execution_count": null,
      "outputs": [
        {
          "output_type": "stream",
          "name": "stdout",
          "text": [
            "%%%%%%%%%%%%%%%%%%%%%%%%%%%%%%%%%%%%%%%%%%%%%%%%%%\n"
          ]
        }
      ]
    },
    {
      "cell_type": "code",
      "source": [
        "dashes = \":>\" * 50\n",
        "print(dashes)"
      ],
      "metadata": {
        "colab": {
          "base_uri": "https://localhost:8080/"
        },
        "id": "aLSE2rUS5lsY",
        "outputId": "be57ea7c-fcbf-4400-865f-900991312b37"
      },
      "execution_count": null,
      "outputs": [
        {
          "output_type": "stream",
          "name": "stdout",
          "text": [
            ":>:>:>:>:>:>:>:>:>:>:>:>:>:>:>:>:>:>:>:>:>:>:>:>:>:>:>:>:>:>:>:>:>:>:>:>:>:>:>:>:>:>:>:>:>:>:>:>:>:>\n"
          ]
        }
      ]
    },
    {
      "cell_type": "code",
      "source": [
        "name = \"Abdullah\"\n",
        "print(name[0])\n",
        "print(name[2])\n",
        "print(name[-1])\n",
        "print(name[-2])\n",
        "print(name[:])\n",
        "print(name[:4])\n",
        "print(name[:-2])\n",
        "print(name[2:5])"
      ],
      "metadata": {
        "colab": {
          "base_uri": "https://localhost:8080/"
        },
        "id": "mlto6ZCP7k6L",
        "outputId": "2fcd3737-03ed-4d4f-f727-b7413f72f1fc"
      },
      "execution_count": null,
      "outputs": [
        {
          "output_type": "stream",
          "name": "stdout",
          "text": [
            "A\n",
            "d\n",
            "h\n",
            "a\n",
            "Abdullah\n",
            "Abdu\n",
            "Abdull\n",
            "dul\n"
          ]
        }
      ]
    },
    {
      "cell_type": "code",
      "source": [
        "#escape sequences\n",
        "print(\"He said \\\"Hello\\\"\")"
      ],
      "metadata": {
        "colab": {
          "base_uri": "https://localhost:8080/"
        },
        "id": "k0u9_N4W72f5",
        "outputId": "4babe2a6-8cf7-4b0a-d903-f9512e622d78"
      },
      "execution_count": null,
      "outputs": [
        {
          "output_type": "stream",
          "name": "stdout",
          "text": [
            "He said \"Hello\"\n"
          ]
        }
      ]
    },
    {
      "cell_type": "code",
      "source": [
        "print(\"My name is Iman \\nIm 23 years old\\nIm software engineering\")"
      ],
      "metadata": {
        "colab": {
          "base_uri": "https://localhost:8080/"
        },
        "id": "Pq5f5C6Z98nV",
        "outputId": "a6eddcbf-a3db-4195-be50-066fd75f5eac"
      },
      "execution_count": null,
      "outputs": [
        {
          "output_type": "stream",
          "name": "stdout",
          "text": [
            "My name is Iman \n",
            "Im 23 years old\n",
            "Im software engineering\n"
          ]
        }
      ]
    },
    {
      "cell_type": "code",
      "source": [
        "floor = int(input(\"Enter floor number: \"))\n",
        "\n",
        "if floor == 13:\n",
        "    print(\"No floor 13\")\n",
        "elif floor > 13:\n",
        "    print(floor - 1)\n",
        "else:\n",
        "    print(floor)\n"
      ],
      "metadata": {
        "colab": {
          "base_uri": "https://localhost:8080/"
        },
        "id": "xCxqqhdQEG8d",
        "outputId": "f7ffc532-20a8-49ca-d494-98728dce9ba0"
      },
      "execution_count": null,
      "outputs": [
        {
          "output_type": "stream",
          "name": "stdout",
          "text": [
            "Enter floor number: 13\n",
            "No floor 13\n"
          ]
        }
      ]
    },
    {
      "cell_type": "code",
      "source": [
        "price = float(input(\"Enter the price: \"))\n",
        "\n",
        "if price < 128:\n",
        "    discount = 0.08\n",
        "else:\n",
        "    discount = 0.16\n",
        "\n",
        "finalPrice = price - (price * discount)\n",
        "\n",
        "print(\"Price after discount: \", finalPrice)\n"
      ],
      "metadata": {
        "colab": {
          "base_uri": "https://localhost:8080/"
        },
        "id": "BOFwBa6MHRVq",
        "outputId": "dff73a41-6413-4149-db9e-8d61ddff850e"
      },
      "execution_count": null,
      "outputs": [
        {
          "output_type": "stream",
          "name": "stdout",
          "text": [
            "Enter the price: 122\n",
            "Price after discount:  112.24\n"
          ]
        }
      ]
    },
    {
      "cell_type": "code",
      "source": [
        "name1 = \"Amal\"\n",
        "name2 = \"Asma\"\n",
        "if name1 == name2:\n",
        "  print(\"Names are same\")\n",
        "else:\n",
        "  print(\"Names are not the same\")"
      ],
      "metadata": {
        "colab": {
          "base_uri": "https://localhost:8080/"
        },
        "id": "RGnU-Rk1OxPg",
        "outputId": "0637e2d4-0c20-41e4-a141-a4f8cec93352"
      },
      "execution_count": null,
      "outputs": [
        {
          "output_type": "stream",
          "name": "stdout",
          "text": [
            "Names are not the same\n"
          ]
        }
      ]
    },
    {
      "cell_type": "code",
      "source": [
        "#Nested if\n",
        "\n",
        "number = int(input(\"Enter a number: \"))\n",
        "\n",
        "if number > 0:\n",
        "  if number % 3 == 0:\n",
        "    print(\"your number is positive and divisible by 3\")\n",
        "  else:\n",
        "    print(\"your number is positive but not divisible by 3\")\n",
        "else:\n",
        "  print(\"your number is zero or negative\")"
      ],
      "metadata": {
        "colab": {
          "base_uri": "https://localhost:8080/"
        },
        "id": "9qTsIVoAfOli",
        "outputId": "734d8816-7bb4-4fa8-f9e5-1decba303375"
      },
      "execution_count": null,
      "outputs": [
        {
          "output_type": "stream",
          "name": "stdout",
          "text": [
            "Enter a number: 11\n",
            "your number is positive but not divisible by 3\n"
          ]
        }
      ]
    },
    {
      "cell_type": "code",
      "source": [
        "hour1 = int(input(\"Enter hour 1 : \"))\n",
        "hour2 = int(input(\"Enter hour 2 : \"))\n",
        "minute1 = int(input(\"Enter minute 1 : \"))\n",
        "minute2 = int(input(\"Enter minute 2 : \"))\n",
        "\n",
        "if hour1 < hour2:\n",
        "  print(\"time1 comes first\")\n",
        "else:\n",
        "  if hour1 == hour2:\n",
        "    if minute2 == minute2:\n",
        "      print(\"time is same\")\n",
        "    elif minute1 <= minute2:\n",
        "      print(\"time1 comes first\")\n",
        "    else:\n",
        "      print(\"time2 comes first\")\n",
        "  else:\n",
        "    print(\"time2 comes first\")\n"
      ],
      "metadata": {
        "colab": {
          "base_uri": "https://localhost:8080/"
        },
        "id": "ZS82IETgi0bm",
        "outputId": "8236e293-f643-4916-da8e-274ea251e6c6"
      },
      "execution_count": null,
      "outputs": [
        {
          "output_type": "stream",
          "name": "stdout",
          "text": [
            "Enter hour 1 : 10\n",
            "Enter hour 2 : 10\n",
            "Enter minute 1 : 00\n",
            "Enter minute 2 : 00\n",
            "time is same\n"
          ]
        }
      ]
    },
    {
      "cell_type": "code",
      "source": [
        "typeGuest = (input(\"Enter type of guest : \"))\n",
        "numberNights = int((input(\"Enter number of nights : \")))\n",
        "price = 30 * numberNights\n",
        "\n",
        "if typeGuest.lower() == \"student\":\n",
        "  finalprice = price - (price * 0.2)\n",
        "  print(\"final price: \",finalprice)\n",
        "elif typeGuest.lower() == \"regular\" and numberNights > 3 :\n",
        "  finalprice = price - (price * 0.15)\n",
        "  print(\"final price: \",finalprice)\n",
        "else:\n",
        "  print(\"final price:\", price)"
      ],
      "metadata": {
        "id": "XEZYfbczoHYN",
        "colab": {
          "base_uri": "https://localhost:8080/"
        },
        "outputId": "2e472f25-ce86-4dd6-9fc7-beedea065959"
      },
      "execution_count": null,
      "outputs": [
        {
          "output_type": "stream",
          "name": "stdout",
          "text": [
            "Enter type of guest : STUDENT\n",
            "Enter number of nights : 4\n",
            "final price:  96.0\n"
          ]
        }
      ]
    },
    {
      "cell_type": "code",
      "source": [
        "earthquake = float(input(\"enter number of earthquake effect : \"))\n",
        "\n",
        "if earthquake >= 8:\n",
        "  print(\"Most structures fall\")\n",
        "elif earthquake >= 7  and earthquake < 7.99:\n",
        "  print(\"Many buildings destroyed\")\n",
        "elif earthquake >= 6 and earthquake < 6.99:\n",
        "  print(\"Many buildings considerably damaged, some collapse\")\n",
        "elif earthquake >= 4.5 and earthquake < 5.99:\n",
        "  print(\"Damage to poorly constructed buildings\")\n",
        "else:\n",
        "  print(\"No damage\")"
      ],
      "metadata": {
        "id": "YnTFPitztFG4",
        "colab": {
          "base_uri": "https://localhost:8080/"
        },
        "outputId": "6f058461-e85b-448c-d4bf-bec92470d043"
      },
      "execution_count": null,
      "outputs": [
        {
          "output_type": "stream",
          "name": "stdout",
          "text": [
            "enter number of earthquake effect : 6.8\n",
            "Many buildings considerably damaged, some collapse\n"
          ]
        }
      ]
    },
    {
      "cell_type": "code",
      "source": [
        "numberset = {1,2,3,4,3,2}\n",
        "print(numberset)"
      ],
      "metadata": {
        "colab": {
          "base_uri": "https://localhost:8080/"
        },
        "id": "4xJb0s_WGKU9",
        "outputId": "60973ec3-b110-44bc-ebdf-128646ed4319"
      },
      "execution_count": null,
      "outputs": [
        {
          "output_type": "stream",
          "name": "stdout",
          "text": [
            "{1, 2, 3, 4}\n"
          ]
        }
      ]
    },
    {
      "cell_type": "code",
      "source": [
        "emptyset = {}\n",
        "print(type(emptyset))"
      ],
      "metadata": {
        "colab": {
          "base_uri": "https://localhost:8080/"
        },
        "id": "OUUo4919GYIM",
        "outputId": "47422d54-b135-4e3e-d3c9-f73766dbdb4d"
      },
      "execution_count": null,
      "outputs": [
        {
          "output_type": "stream",
          "name": "stdout",
          "text": [
            "<class 'dict'>\n"
          ]
        }
      ]
    },
    {
      "cell_type": "code",
      "source": [
        "emptyset = set()\n",
        "print(type(emptyset))"
      ],
      "metadata": {
        "colab": {
          "base_uri": "https://localhost:8080/"
        },
        "id": "iW2ZJyR2Ge_z",
        "outputId": "2e55b661-e68f-42e0-8135-42acad632d72"
      },
      "execution_count": null,
      "outputs": [
        {
          "output_type": "stream",
          "name": "stdout",
          "text": [
            "<class 'set'>\n"
          ]
        }
      ]
    },
    {
      "cell_type": "code",
      "source": [
        "setWithLists = set([1,2,3])\n",
        "print(type(setWithLists))\n",
        "print(setWithLists)"
      ],
      "metadata": {
        "colab": {
          "base_uri": "https://localhost:8080/"
        },
        "id": "i4pOJOrIGslV",
        "outputId": "dcdf0117-b199-48da-865b-9b6c80ed3524"
      },
      "execution_count": null,
      "outputs": [
        {
          "output_type": "stream",
          "name": "stdout",
          "text": [
            "<class 'set'>\n",
            "{1, 2, 3}\n"
          ]
        }
      ]
    },
    {
      "cell_type": "code",
      "source": [
        "numberset = {1,2,3,4,3,2}\n",
        "numberset.update([6, 7, 2])\n",
        "print(numberset)"
      ],
      "metadata": {
        "colab": {
          "base_uri": "https://localhost:8080/"
        },
        "id": "aEDFOwMfIFnO",
        "outputId": "c7ce10ea-13ae-4425-f928-0010fbf65007"
      },
      "execution_count": null,
      "outputs": [
        {
          "output_type": "stream",
          "name": "stdout",
          "text": [
            "{1, 2, 3, 4, 6, 7}\n"
          ]
        }
      ]
    },
    {
      "cell_type": "code",
      "source": [
        "numberset = {1,2,3,4,3,2}\n",
        "numberset.add(5)\n",
        "print(numberset)"
      ],
      "metadata": {
        "colab": {
          "base_uri": "https://localhost:8080/"
        },
        "id": "q-NtvPD3IcXz",
        "outputId": "91ac5826-2685-4f06-ac1e-2bd3b14740e5"
      },
      "execution_count": null,
      "outputs": [
        {
          "output_type": "stream",
          "name": "stdout",
          "text": [
            "{1, 2, 3, 4, 5}\n"
          ]
        }
      ]
    },
    {
      "cell_type": "code",
      "source": [
        "A = {1,2,3,4}\n",
        "B = {2,4,6,8,6,6}\n",
        "\n",
        "print('A', A )\n",
        "print('B', B )\n",
        "\n",
        "s1 = A | B\n",
        "print('Union : A | B' , s1)\n",
        "\n",
        "s2 = A & B\n",
        "print('Intersection : A & B' , s2)\n",
        "\n",
        "s3 = A - B\n",
        "print('Difference : A - B' , s3)\n",
        "\n",
        "s4 = A ^ B\n",
        "print('Symmetric Difference : A ^ B' , s4)"
      ],
      "metadata": {
        "colab": {
          "base_uri": "https://localhost:8080/"
        },
        "id": "xOunD0kvJchW",
        "outputId": "b1917974-8eba-4e3a-c401-4b456d13e3ef"
      },
      "execution_count": null,
      "outputs": [
        {
          "output_type": "stream",
          "name": "stdout",
          "text": [
            "A {1, 2, 3, 4}\n",
            "B {8, 2, 4, 6}\n",
            "Union : A | B {1, 2, 3, 4, 6, 8}\n",
            "Intersection : A & B {2, 4}\n",
            "Difference : A - B {1, 3}\n",
            "Symmetric Difference : A ^ B {1, 3, 6, 8}\n"
          ]
        }
      ]
    },
    {
      "cell_type": "code",
      "source": [],
      "metadata": {
        "id": "R1ArSDrZJw0g"
      },
      "execution_count": null,
      "outputs": []
    }
  ]
}