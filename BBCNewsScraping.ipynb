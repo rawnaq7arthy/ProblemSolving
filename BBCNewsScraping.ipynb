{
 "cells": [
  {
   "cell_type": "code",
   "execution_count": 19,
   "id": "fd368f2e-4a3c-4a12-87f5-b1efb620ee2f",
   "metadata": {},
   "outputs": [
    {
     "name": "stdout",
     "output_type": "stream",
     "text": [
      "Found 41 article links.\n",
      "News articles saved to 'bbc_news.json'\n"
     ]
    }
   ],
   "source": [
    "from selenium import webdriver\n",
    "from selenium.webdriver.common.by import By\n",
    "from selenium.webdriver.chrome.options import Options\n",
    "from selenium.webdriver.support.ui import WebDriverWait\n",
    "from selenium.webdriver.support import expected_conditions as EC\n",
    "import json\n",
    "import time\n",
    "\n",
    "# Set up Chrome options\n",
    "options = Options()\n",
    "\n",
    "# Start the browser\n",
    "driver = webdriver.Chrome(options=options)\n",
    "wait = WebDriverWait(driver, 10)\n",
    "\n",
    "# Step 1: Open the BBC News homepage\n",
    "driver.get(\"https://www.bbc.com/news\")\n",
    "time.sleep(5)  \n",
    "\n",
    "# Step 2: Extract article links from homepage\n",
    "articles = driver.find_elements(By.CSS_SELECTOR, 'a[href*=\"/news/\"]')\n",
    "\n",
    "# Filter and collect unique links\n",
    "article_links = set()\n",
    "for a in articles:\n",
    "    link = a.get_attribute(\"href\")\n",
    "    if link and link.startswith(\"https://www.bbc.com/news\") and \"live\" not in link:\n",
    "        article_links.add(link)\n",
    "\n",
    "article_links = list(article_links)\n",
    "print(f\"Found {len(article_links)} article links.\")\n",
    "\n",
    "news_data = []\n",
    "\n",
    "# Step 3: Visit each article and extract details\n",
    "for url in article_links[:10]:  \n",
    "    try:\n",
    "        driver.get(url)\n",
    "        wait.until(EC.presence_of_element_located((By.TAG_NAME, \"h1\")))\n",
    "        time.sleep(2)\n",
    "\n",
    "        # Headline\n",
    "        headline = driver.find_element(By.TAG_NAME, \"h1\").text.strip()\n",
    "\n",
    "        # First paragraph as summary\n",
    "        try:\n",
    "            summary = driver.find_element(By.CSS_SELECTOR, 'article p').text.strip()\n",
    "        except:\n",
    "            summary = \"\"\n",
    "\n",
    "        # Image\n",
    "        try:\n",
    "            image = driver.find_element(By.CSS_SELECTOR, \"figure img\").get_attribute(\"src\")\n",
    "        except:\n",
    "            image = \"\"\n",
    "\n",
    "        news_data.append({\n",
    "            \"Headline\": headline,\n",
    "            \"URL\": url,\n",
    "            \"Summary\": summary,\n",
    "            \"Image\": image\n",
    "        })\n",
    "\n",
    "    except Exception as e:\n",
    "        print(f\"Error processing {url}: {e}\")\n",
    "\n",
    "# Step 4: Close the browser\n",
    "driver.quit()\n",
    "\n",
    "# Step 5: Save to JSON\n",
    "with open(\"bbc_news.json\", \"w\", encoding=\"utf-8\") as f:\n",
    "    json.dump(news_data, f, ensure_ascii=False, indent=4)\n",
    "\n",
    "print(\"News articles saved to 'bbc_news.json'\")\n"
   ]
  }
 ],
 "metadata": {
  "kernelspec": {
   "display_name": "Python 3 (ipykernel)",
   "language": "python",
   "name": "python3"
  },
  "language_info": {
   "codemirror_mode": {
    "name": "ipython",
    "version": 3
   },
   "file_extension": ".py",
   "mimetype": "text/x-python",
   "name": "python",
   "nbconvert_exporter": "python",
   "pygments_lexer": "ipython3",
   "version": "3.12.7"
  }
 },
 "nbformat": 4,
 "nbformat_minor": 5
}
