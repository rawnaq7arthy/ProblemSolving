{
  "nbformat": 4,
  "nbformat_minor": 0,
  "metadata": {
    "colab": {
      "provenance": []
    },
    "kernelspec": {
      "name": "python3",
      "display_name": "Python 3"
    },
    "language_info": {
      "name": "python"
    }
  },
  "cells": [
    {
      "cell_type": "code",
      "execution_count": 1,
      "metadata": {
        "colab": {
          "base_uri": "https://localhost:8080/"
        },
        "id": "pSRoLjeeBfDc",
        "outputId": "45d0fff7-8692-410a-f017-cc0ed0000fb9"
      },
      "outputs": [
        {
          "output_type": "stream",
          "name": "stdout",
          "text": [
            "Hello world !\n"
          ]
        }
      ],
      "source": [
        "print(\"Hello world !\")"
      ]
    },
    {
      "cell_type": "code",
      "source": [
        "name=\"Raunaq Mohammed Al Harthi\"\n",
        "print(name)"
      ],
      "metadata": {
        "colab": {
          "base_uri": "https://localhost:8080/"
        },
        "id": "EJiPbR8AM3mx",
        "outputId": "51fb302a-a530-461a-f7e3-7103c6565380"
      },
      "execution_count": 2,
      "outputs": [
        {
          "output_type": "stream",
          "name": "stdout",
          "text": [
            "Raunaq Mohammed Al Harthi\n"
          ]
        }
      ]
    },
    {
      "cell_type": "code",
      "source": [
        "name = \"Raunaq\"\n",
        "print(name)\n",
        "\n",
        "name = \"Israa\"\n",
        "print(name)"
      ],
      "metadata": {
        "id": "RFavO6hmT5h8",
        "colab": {
          "base_uri": "https://localhost:8080/"
        },
        "outputId": "6aba3e80-5679-431d-c7d5-96e41d87fc96"
      },
      "execution_count": 3,
      "outputs": [
        {
          "output_type": "stream",
          "name": "stdout",
          "text": [
            "Raunaq\n",
            "Israa\n"
          ]
        }
      ]
    },
    {
      "cell_type": "code",
      "source": [
        "ages = [10,12,14,16,18]\n",
        "count = 0\n",
        "for age in ages:\n",
        "  if age >= 14:\n",
        "    count += 1\n",
        "\n",
        "print(count)"
      ],
      "metadata": {
        "colab": {
          "base_uri": "https://localhost:8080/"
        },
        "id": "N1xuSCTrU-CT",
        "outputId": "5a9df09d-6723-415d-a514-558efcab4c6c"
      },
      "execution_count": 4,
      "outputs": [
        {
          "output_type": "stream",
          "name": "stdout",
          "text": [
            "3\n"
          ]
        }
      ]
    },
    {
      "cell_type": "code",
      "source": [
        "_name=\"Elyas\"\n",
        "print(_name)"
      ],
      "metadata": {
        "colab": {
          "base_uri": "https://localhost:8080/"
        },
        "id": "EydIfIgVV2QW",
        "outputId": "0c5721ff-2f3d-428a-a668-ef989a7bb396"
      },
      "execution_count": 5,
      "outputs": [
        {
          "output_type": "stream",
          "name": "stdout",
          "text": [
            "Elyas\n"
          ]
        }
      ]
    },
    {
      "cell_type": "code",
      "source": [
        "name01=\"Qusai\"\n",
        "print(name01)"
      ],
      "metadata": {
        "colab": {
          "base_uri": "https://localhost:8080/"
        },
        "id": "uyyon7WMV8Pi",
        "outputId": "5bf980b9-63e7-4276-88fe-053b797d4ec5"
      },
      "execution_count": 6,
      "outputs": [
        {
          "output_type": "stream",
          "name": "stdout",
          "text": [
            "Qusai\n"
          ]
        }
      ]
    },
    {
      "cell_type": "code",
      "source": [
        "#constant all capital letters\n",
        "A= 5\n",
        "B=8\n",
        "TOTAL = (A + B) / 2\n",
        "print(TOTAL)"
      ],
      "metadata": {
        "colab": {
          "base_uri": "https://localhost:8080/"
        },
        "id": "1yyNdYnLWA2o",
        "outputId": "0bbdc7bd-98c5-4d42-fe67-93d484a6d2a6"
      },
      "execution_count": 7,
      "outputs": [
        {
          "output_type": "stream",
          "name": "stdout",
          "text": [
            "6.5\n"
          ]
        }
      ]
    },
    {
      "cell_type": "code",
      "source": [
        "\"\"\"\n",
        "This is a\n",
        "multi-line\n",
        "comment\n",
        "\"\"\"\n"
      ],
      "metadata": {
        "colab": {
          "base_uri": "https://localhost:8080/",
          "height": 36
        },
        "id": "HsDwEGm3bIz7",
        "outputId": "e5816f4f-6e45-4960-9169-dd4e32140f96"
      },
      "execution_count": 8,
      "outputs": [
        {
          "output_type": "execute_result",
          "data": {
            "text/plain": [
              "'\\nThis is a\\nmulti-line\\ncomment\\n'"
            ],
            "application/vnd.google.colaboratory.intrinsic+json": {
              "type": "string"
            }
          },
          "metadata": {},
          "execution_count": 8
        }
      ]
    },
    {
      "cell_type": "markdown",
      "source": [],
      "metadata": {
        "id": "_SctSTFZu3Da"
      }
    },
    {
      "cell_type": "code",
      "source": [
        "cansPerPack = 6\n",
        "ouncesPerCan = 12\n",
        "litersPerOunce = 0.355 * 6\n",
        "\n",
        "# Total\n",
        "\n",
        "print(litersPerOunce)\n",
        "litersBottle = 2.0\n",
        "\n",
        "# # compare\n",
        "# if totalLitersCans > litersBottle:\n",
        "#     print(\"Buy six-pack of cans\")\n",
        "# else:\n",
        "#     print(\"Buy the bottle\")\n"
      ],
      "metadata": {
        "colab": {
          "base_uri": "https://localhost:8080/"
        },
        "id": "4hzMf6yoc2kc",
        "outputId": "003bc0dc-0793-4292-d897-b823fa575fbd"
      },
      "execution_count": 9,
      "outputs": [
        {
          "output_type": "stream",
          "name": "stdout",
          "text": [
            "2.13\n"
          ]
        }
      ]
    },
    {
      "cell_type": "code",
      "source": [
        "b=1\n",
        "r=2\n",
        "n=3\n",
        "b * (1 + r / 100) ** n"
      ],
      "metadata": {
        "colab": {
          "base_uri": "https://localhost:8080/"
        },
        "id": "2At0ktyVu37m",
        "outputId": "17275d36-8a1b-4bae-aa2d-b4475cff5901"
      },
      "execution_count": 10,
      "outputs": [
        {
          "output_type": "execute_result",
          "data": {
            "text/plain": [
              "1.0612080000000002"
            ]
          },
          "metadata": {},
          "execution_count": 10
        }
      ]
    },
    {
      "cell_type": "code",
      "source": [
        "#division\n",
        "3/2"
      ],
      "metadata": {
        "colab": {
          "base_uri": "https://localhost:8080/"
        },
        "id": "bOl-G5kevjzR",
        "outputId": "f23b5977-c320-40a6-afd6-15f1b67835e6"
      },
      "execution_count": 11,
      "outputs": [
        {
          "output_type": "execute_result",
          "data": {
            "text/plain": [
              "1.5"
            ]
          },
          "metadata": {},
          "execution_count": 11
        }
      ]
    },
    {
      "cell_type": "code",
      "source": [
        "#floor division\n",
        "3//2"
      ],
      "metadata": {
        "colab": {
          "base_uri": "https://localhost:8080/"
        },
        "id": "5VqtCptxyOUG",
        "outputId": "ab90d927-2052-4363-dd70-2dbf25e56ec5"
      },
      "execution_count": 12,
      "outputs": [
        {
          "output_type": "execute_result",
          "data": {
            "text/plain": [
              "1"
            ]
          },
          "metadata": {},
          "execution_count": 12
        }
      ]
    },
    {
      "cell_type": "code",
      "source": [
        "#modulus\n",
        "10%7"
      ],
      "metadata": {
        "colab": {
          "base_uri": "https://localhost:8080/"
        },
        "id": "sGENybI-zNHW",
        "outputId": "b83d0f19-54f8-488f-b78e-608342d8948e"
      },
      "execution_count": 13,
      "outputs": [
        {
          "output_type": "execute_result",
          "data": {
            "text/plain": [
              "3"
            ]
          },
          "metadata": {},
          "execution_count": 13
        }
      ]
    },
    {
      "cell_type": "code",
      "source": [
        "a=6\n",
        "b=13\n",
        "if a % 2 == 0:\n",
        "  print(f\"{a} is even\")\n",
        "else:\n",
        "  print(f\"{a} is odd\")\n",
        "\n",
        "if b % 2 == 0:\n",
        "  print(f\"{b} is even\")\n",
        "else:\n",
        "  print(f\"{b} is odd\")"
      ],
      "metadata": {
        "colab": {
          "base_uri": "https://localhost:8080/"
        },
        "id": "3CDQddbbzlsN",
        "outputId": "ea525eca-a236-41e3-adcf-ba3e2a9002c5"
      },
      "execution_count": 14,
      "outputs": [
        {
          "output_type": "stream",
          "name": "stdout",
          "text": [
            "6 is even\n",
            "13 is odd\n"
          ]
        }
      ]
    },
    {
      "cell_type": "code",
      "source": [
        "num = -10\n",
        "if num < 0 :\n",
        "  num = num * (-1)\n",
        "  print(num)\n",
        "else:\n",
        "  print(num)\n"
      ],
      "metadata": {
        "colab": {
          "base_uri": "https://localhost:8080/"
        },
        "id": "ftbHWhZy17eK",
        "outputId": "ecc04e10-0810-410d-d472-913c278d7496"
      },
      "execution_count": 15,
      "outputs": [
        {
          "output_type": "stream",
          "name": "stdout",
          "text": [
            "10\n"
          ]
        }
      ]
    },
    {
      "cell_type": "code",
      "source": [
        "abs(-25)"
      ],
      "metadata": {
        "colab": {
          "base_uri": "https://localhost:8080/"
        },
        "id": "WaVGQEkq5Dfo",
        "outputId": "4526c8e1-5c3c-40b5-ef10-fd472e6bf7c5"
      },
      "execution_count": 16,
      "outputs": [
        {
          "output_type": "execute_result",
          "data": {
            "text/plain": [
              "25"
            ]
          },
          "metadata": {},
          "execution_count": 16
        }
      ]
    },
    {
      "cell_type": "code",
      "source": [
        "round(67.92208)"
      ],
      "metadata": {
        "colab": {
          "base_uri": "https://localhost:8080/"
        },
        "id": "HJ77DFKP7312",
        "outputId": "885bf0c1-d901-45de-cdeb-566f44822a45"
      },
      "execution_count": 17,
      "outputs": [
        {
          "output_type": "execute_result",
          "data": {
            "text/plain": [
              "68"
            ]
          },
          "metadata": {},
          "execution_count": 17
        }
      ]
    },
    {
      "cell_type": "code",
      "source": [
        "round(67.92208,3)"
      ],
      "metadata": {
        "colab": {
          "base_uri": "https://localhost:8080/"
        },
        "id": "tfJk9qw074SP",
        "outputId": "f16f40c1-fa70-428b-ce56-f31f6e16d9eb"
      },
      "execution_count": 18,
      "outputs": [
        {
          "output_type": "execute_result",
          "data": {
            "text/plain": [
              "67.922"
            ]
          },
          "metadata": {},
          "execution_count": 18
        }
      ]
    },
    {
      "cell_type": "code",
      "source": [
        "max(1,2,3,4,5,3,2,3,1)"
      ],
      "metadata": {
        "colab": {
          "base_uri": "https://localhost:8080/"
        },
        "id": "MmhnAUA874n0",
        "outputId": "18bffceb-ad7d-4185-cee1-ff4590dec1f6"
      },
      "execution_count": 19,
      "outputs": [
        {
          "output_type": "execute_result",
          "data": {
            "text/plain": [
              "5"
            ]
          },
          "metadata": {},
          "execution_count": 19
        }
      ]
    },
    {
      "cell_type": "code",
      "source": [
        "min(1,2,3,4,5,3,2,3,1)"
      ],
      "metadata": {
        "colab": {
          "base_uri": "https://localhost:8080/"
        },
        "id": "uTMP6rCV8LJV",
        "outputId": "18ebf223-9a6b-4904-ceec-d192c1a4fc7b"
      },
      "execution_count": 20,
      "outputs": [
        {
          "output_type": "execute_result",
          "data": {
            "text/plain": [
              "1"
            ]
          },
          "metadata": {},
          "execution_count": 20
        }
      ]
    },
    {
      "cell_type": "code",
      "source": [
        "from math import sqrt\n",
        "sqrt(5)"
      ],
      "metadata": {
        "colab": {
          "base_uri": "https://localhost:8080/"
        },
        "id": "OGKuu1U8-HNO",
        "outputId": "ed0e905c-673e-4d47-bd02-d7de9a4c329a"
      },
      "execution_count": 21,
      "outputs": [
        {
          "output_type": "execute_result",
          "data": {
            "text/plain": [
              "2.23606797749979"
            ]
          },
          "metadata": {},
          "execution_count": 21
        }
      ]
    },
    {
      "cell_type": "code",
      "source": [
        "import math\n",
        "math.sqrt(6)"
      ],
      "metadata": {
        "colab": {
          "base_uri": "https://localhost:8080/"
        },
        "id": "QnFOeJJi-VsP",
        "outputId": "d4863f82-86da-437f-aa14-124619e16998"
      },
      "execution_count": 22,
      "outputs": [
        {
          "output_type": "execute_result",
          "data": {
            "text/plain": [
              "2.449489742783178"
            ]
          },
          "metadata": {},
          "execution_count": 22
        }
      ]
    },
    {
      "cell_type": "code",
      "source": [
        "#convert int to float and viceversa\n",
        "height = 157.8\n",
        "height = int(height)\n",
        "print(height)"
      ],
      "metadata": {
        "colab": {
          "base_uri": "https://localhost:8080/"
        },
        "id": "FZmpvRcr_dDb",
        "outputId": "c0dbfc86-7dc3-4f10-fbcf-6da325bd138a"
      },
      "execution_count": 23,
      "outputs": [
        {
          "output_type": "stream",
          "name": "stdout",
          "text": [
            "157\n"
          ]
        }
      ]
    },
    {
      "cell_type": "code",
      "source": [
        "height = 157\n",
        "height = float(height)\n",
        "print(height)"
      ],
      "metadata": {
        "colab": {
          "base_uri": "https://localhost:8080/"
        },
        "id": "Dz0ihvag_0aS",
        "outputId": "7d1b88d2-5902-4da0-94e2-aa7abdc9096a"
      },
      "execution_count": 24,
      "outputs": [
        {
          "output_type": "stream",
          "name": "stdout",
          "text": [
            "157.0\n"
          ]
        }
      ]
    },
    {
      "cell_type": "code",
      "source": [
        "#from math import sqrt, cos\n",
        "from math import * #import all math functions\n",
        "\n",
        "a = 2\n",
        "b = 3\n",
        "t = 1\n",
        "\n",
        "result = sqrt((a**2) + (b**2) - 2 * a * b * cos(t))\n",
        "print(result)\n"
      ],
      "metadata": {
        "colab": {
          "base_uri": "https://localhost:8080/"
        },
        "id": "-Fni4he5AHV5",
        "outputId": "a190a0d9-3ec1-4be8-9905-ae31a788d881"
      },
      "execution_count": 25,
      "outputs": [
        {
          "output_type": "stream",
          "name": "stdout",
          "text": [
            "2.552718615433813\n"
          ]
        }
      ]
    },
    {
      "cell_type": "code",
      "source": [
        "count = 0\n",
        "count += 1\n",
        "print(count)"
      ],
      "metadata": {
        "colab": {
          "base_uri": "https://localhost:8080/"
        },
        "id": "IKYRRM1kH8WZ",
        "outputId": "08dc41e4-63b6-4f2d-eb13-1ca710c4203b"
      },
      "execution_count": 26,
      "outputs": [
        {
          "output_type": "stream",
          "name": "stdout",
          "text": [
            "1\n"
          ]
        }
      ]
    },
    {
      "cell_type": "code",
      "source": [
        "count = 1\n",
        "count *= 2\n",
        "print(count)"
      ],
      "metadata": {
        "colab": {
          "base_uri": "https://localhost:8080/"
        },
        "id": "caXGCHivISLw",
        "outputId": "883fbc97-cefc-4d5f-c810-7055b1f694cf"
      },
      "execution_count": 27,
      "outputs": [
        {
          "output_type": "stream",
          "name": "stdout",
          "text": [
            "2\n"
          ]
        }
      ]
    },
    {
      "cell_type": "code",
      "source": [
        "name = input(\"Please Enter your name: \")\n",
        "age = int(input(\"Enter your age: \"))\n",
        "height = float(input(\"Enter your height: \"))"
      ],
      "metadata": {
        "colab": {
          "base_uri": "https://localhost:8080/"
        },
        "id": "yKFc4BTZJebv",
        "outputId": "1f57eab6-b04b-4f3b-b859-113364753831"
      },
      "execution_count": 28,
      "outputs": [
        {
          "name": "stdout",
          "output_type": "stream",
          "text": [
            "Please Enter your name: Raunaq\n",
            "Enter your age: 24\n",
            "Enter your height: 163\n"
          ]
        }
      ]
    },
    {
      "cell_type": "code",
      "source": [
        "#2 --> two decimal points, f --> float\n",
        "#if f float , d integer (%d), s string (%s)\n",
        "# format specifier\n",
        "price = 1.21997\n",
        "print(\"price per liter %.2f\" %(price))"
      ],
      "metadata": {
        "colab": {
          "base_uri": "https://localhost:8080/"
        },
        "id": "bGml0tyKVe_e",
        "outputId": "e66f31d2-8063-4cdb-fff7-bcac5f324950"
      },
      "execution_count": 29,
      "outputs": [
        {
          "output_type": "stream",
          "name": "stdout",
          "text": [
            "price per liter 1.22\n"
          ]
        }
      ]
    },
    {
      "cell_type": "code",
      "source": [
        "print(\"price per liter %10.2f\" %(price))"
      ],
      "metadata": {
        "colab": {
          "base_uri": "https://localhost:8080/"
        },
        "id": "j2VJINW6XMZS",
        "outputId": "eedbc74b-f1b8-4366-8e25-612bbb02cfa8"
      },
      "execution_count": 30,
      "outputs": [
        {
          "output_type": "stream",
          "name": "stdout",
          "text": [
            "price per liter       1.22\n"
          ]
        }
      ]
    },
    {
      "cell_type": "code",
      "source": [
        "quantity = 19\n",
        "total= 34.5\n",
        "print(\"Quantity : %d Total: %10.2f\" % (quantity, total))"
      ],
      "metadata": {
        "colab": {
          "base_uri": "https://localhost:8080/"
        },
        "id": "zeuciDSGbxUn",
        "outputId": "46e6fde2-603a-4599-bc3e-32a115ff6929"
      },
      "execution_count": 31,
      "outputs": [
        {
          "output_type": "stream",
          "name": "stdout",
          "text": [
            "Quantity : 19 Total:      34.50\n"
          ]
        }
      ]
    },
    {
      "cell_type": "code",
      "source": [
        "print(\"%-10s\" %(\"Total:\"))"
      ],
      "metadata": {
        "colab": {
          "base_uri": "https://localhost:8080/"
        },
        "id": "e3dlPGj6doQp",
        "outputId": "fc9c1164-18c7-4477-88c9-a00b99078517"
      },
      "execution_count": 32,
      "outputs": [
        {
          "output_type": "stream",
          "name": "stdout",
          "text": [
            "Total:    \n"
          ]
        }
      ]
    },
    {
      "cell_type": "code",
      "source": [
        "print(\"%10.2f\" %(price))"
      ],
      "metadata": {
        "colab": {
          "base_uri": "https://localhost:8080/"
        },
        "id": "Xh1TOz4yd3FK",
        "outputId": "e7f7976f-81ae-4ae2-da74-09398471c946"
      },
      "execution_count": 33,
      "outputs": [
        {
          "output_type": "stream",
          "name": "stdout",
          "text": [
            "      1.22\n"
          ]
        }
      ]
    },
    {
      "cell_type": "code",
      "source": [
        "print(\"%-10s%10.2f\" %(\"Total: \",price))"
      ],
      "metadata": {
        "colab": {
          "base_uri": "https://localhost:8080/"
        },
        "id": "LZOebKFGeAYs",
        "outputId": "041cc3ca-a3d1-477e-ee8e-a9be5fb1055d"
      },
      "execution_count": 34,
      "outputs": [
        {
          "output_type": "stream",
          "name": "stdout",
          "text": [
            "Total:          1.22\n"
          ]
        }
      ]
    },
    {
      "cell_type": "code",
      "source": [
        "Pack = int(input(\"Enter number of Pack: \"))\n",
        "Can = int(input(\"Enter number of Cans: \"))\n",
        "bottle = int(input(\"Enter number of Bottles: \"))\n",
        "fluid = 0.335\n",
        "canPerPack = Pack * fluid\n",
        "\n",
        "if canPerPack > bottle:\n",
        "  print(canPerPack)\n",
        "else:\n",
        "  print(bottle)\n"
      ],
      "metadata": {
        "colab": {
          "base_uri": "https://localhost:8080/"
        },
        "id": "uOOm0qg4hMnj",
        "outputId": "735c6205-7aa6-4a99-c1d0-74ab7a552f36"
      },
      "execution_count": 35,
      "outputs": [
        {
          "output_type": "stream",
          "name": "stdout",
          "text": [
            "Enter number of Pack: 3\n",
            "Enter number of Cans: 6\n",
            "Enter number of Bottles: 7\n",
            "7\n"
          ]
        }
      ]
    },
    {
      "cell_type": "code",
      "source": [
        "#12 oz = 0.355 liters ⇒ 1 oz = 0.0296 liters\n",
        "\n",
        "cans = int(input(\"Cans: \"))\n",
        "oz = float(input(\"Ounces per can: \"))\n",
        "bottle = float(input(\"Bottle in liters: \"))\n",
        "\n",
        "total_can_liters = cans * oz * 0.0296\n",
        "\n",
        "print(\"Cans total :\", total_can_liters)\n",
        "print(\"Bottle :\", bottle)\n",
        "\n",
        "if total_can_liters > bottle:\n",
        "    print(\"Buy cans\")\n",
        "elif total_can_liters < bottle:\n",
        "    print(\"Buy bottle\")\n",
        "else:\n",
        "    print(\"Same amount\")\n"
      ],
      "metadata": {
        "colab": {
          "base_uri": "https://localhost:8080/"
        },
        "id": "JUArHkmQlFs4",
        "outputId": "a0cd3ad1-82ec-4f1e-c074-9c0f27d0d41c"
      },
      "execution_count": 36,
      "outputs": [
        {
          "output_type": "stream",
          "name": "stdout",
          "text": [
            "Cans: 7\n",
            "Ounces per can: 7\n",
            "Bottle in liters: 7\n",
            "Cans total : 1.4504000000000001\n",
            "Bottle : 7.0\n",
            "Buy bottle\n"
          ]
        }
      ]
    },
    {
      "cell_type": "code",
      "source": [
        "message = 'She said \"Hello\"'\n",
        "print(message)"
      ],
      "metadata": {
        "colab": {
          "base_uri": "https://localhost:8080/"
        },
        "id": "vbEmQ22Pl6lR",
        "outputId": "06c5c94e-3fbc-4511-9628-fc21df931172"
      },
      "execution_count": 37,
      "outputs": [
        {
          "output_type": "stream",
          "name": "stdout",
          "text": [
            "She said \"Hello\"\n"
          ]
        }
      ]
    },
    {
      "cell_type": "code",
      "source": [
        "message = \"She said 'Hello'\"\n",
        "print(message)"
      ],
      "metadata": {
        "colab": {
          "base_uri": "https://localhost:8080/"
        },
        "id": "7dyp9KEXm7Zq",
        "outputId": "1fedd2a8-43e5-4f94-c49b-e90f0cd244b6"
      },
      "execution_count": 38,
      "outputs": [
        {
          "output_type": "stream",
          "name": "stdout",
          "text": [
            "She said 'Hello'\n"
          ]
        }
      ]
    },
    {
      "cell_type": "code",
      "source": [
        "length=len(\"Hi its Ruru\")\n",
        "print(length)"
      ],
      "metadata": {
        "colab": {
          "base_uri": "https://localhost:8080/"
        },
        "id": "jYYFnN4h2n_J",
        "outputId": "3ca76965-ca06-46ad-8e19-22880ac678c6"
      },
      "execution_count": 39,
      "outputs": [
        {
          "output_type": "stream",
          "name": "stdout",
          "text": [
            "11\n"
          ]
        }
      ]
    },
    {
      "cell_type": "code",
      "source": [
        "firstName = \"Raunaq\"\n",
        "secondName = \"Mohammed\"\n",
        "name = firstName +\" \"+ secondName\n",
        "print(\"my name is :\", name)"
      ],
      "metadata": {
        "colab": {
          "base_uri": "https://localhost:8080/"
        },
        "id": "nPvctujV30i2",
        "outputId": "6e9f1931-4b4e-4551-e638-e498f0031b36"
      },
      "execution_count": 40,
      "outputs": [
        {
          "output_type": "stream",
          "name": "stdout",
          "text": [
            "my name is : Raunaq Mohammed\n"
          ]
        }
      ]
    },
    {
      "cell_type": "code",
      "source": [
        "dashes = \"%\" * 50\n",
        "print(dashes)"
      ],
      "metadata": {
        "colab": {
          "base_uri": "https://localhost:8080/"
        },
        "id": "t77PZE-n4l4W",
        "outputId": "93d9f481-677e-49fb-a37a-3d4ac8697a91"
      },
      "execution_count": 41,
      "outputs": [
        {
          "output_type": "stream",
          "name": "stdout",
          "text": [
            "%%%%%%%%%%%%%%%%%%%%%%%%%%%%%%%%%%%%%%%%%%%%%%%%%%\n"
          ]
        }
      ]
    },
    {
      "cell_type": "code",
      "source": [
        "dashes = \":>\" * 50\n",
        "print(dashes)"
      ],
      "metadata": {
        "colab": {
          "base_uri": "https://localhost:8080/"
        },
        "id": "aLSE2rUS5lsY",
        "outputId": "c860f337-65ce-430f-991e-55ebd4172f47"
      },
      "execution_count": 42,
      "outputs": [
        {
          "output_type": "stream",
          "name": "stdout",
          "text": [
            ":>:>:>:>:>:>:>:>:>:>:>:>:>:>:>:>:>:>:>:>:>:>:>:>:>:>:>:>:>:>:>:>:>:>:>:>:>:>:>:>:>:>:>:>:>:>:>:>:>:>\n"
          ]
        }
      ]
    },
    {
      "cell_type": "code",
      "source": [
        "name = \"Abdullah\"\n",
        "print(name[0])\n",
        "print(name[2])\n",
        "print(name[-1])\n",
        "print(name[-2])\n",
        "print(name[:])\n",
        "print(name[:4])\n",
        "print(name[:-2])\n",
        "print(name[2:5])"
      ],
      "metadata": {
        "colab": {
          "base_uri": "https://localhost:8080/"
        },
        "id": "mlto6ZCP7k6L",
        "outputId": "05ecb884-2d29-4f89-987c-0d4a1876c251"
      },
      "execution_count": 43,
      "outputs": [
        {
          "output_type": "stream",
          "name": "stdout",
          "text": [
            "A\n",
            "d\n",
            "h\n",
            "a\n",
            "Abdullah\n",
            "Abdu\n",
            "Abdull\n",
            "dul\n"
          ]
        }
      ]
    },
    {
      "cell_type": "code",
      "source": [
        "#escape sequences\n",
        "print(\"He said \\\"Hello\\\"\")"
      ],
      "metadata": {
        "colab": {
          "base_uri": "https://localhost:8080/"
        },
        "id": "k0u9_N4W72f5",
        "outputId": "709a4436-80bc-4ffc-d3cd-8bfc48fec1e8"
      },
      "execution_count": 44,
      "outputs": [
        {
          "output_type": "stream",
          "name": "stdout",
          "text": [
            "He said \"Hello\"\n"
          ]
        }
      ]
    },
    {
      "cell_type": "code",
      "source": [
        "print(\"My name is Raunaq \\nIm 24 years old\\nIm software engineering\")"
      ],
      "metadata": {
        "colab": {
          "base_uri": "https://localhost:8080/"
        },
        "id": "Pq5f5C6Z98nV",
        "outputId": "890cf08a-1dfa-4e3b-ea77-1598b6d58904"
      },
      "execution_count": 45,
      "outputs": [
        {
          "output_type": "stream",
          "name": "stdout",
          "text": [
            "My name is Raunaq \n",
            "Im 24 years old\n",
            "Im software engineering\n"
          ]
        }
      ]
    },
    {
      "cell_type": "code",
      "source": [
        "floor = int(input(\"Enter floor number: \"))\n",
        "\n",
        "if floor == 13:\n",
        "    print(\"No floor 13\")\n",
        "elif floor > 13:\n",
        "    print(floor - 1)\n",
        "else:\n",
        "    print(floor)\n"
      ],
      "metadata": {
        "colab": {
          "base_uri": "https://localhost:8080/"
        },
        "id": "xCxqqhdQEG8d",
        "outputId": "1d402c28-83d9-4ba3-c039-2076e34c4f53"
      },
      "execution_count": 46,
      "outputs": [
        {
          "output_type": "stream",
          "name": "stdout",
          "text": [
            "Enter floor number: 6\n",
            "6\n"
          ]
        }
      ]
    },
    {
      "cell_type": "code",
      "source": [
        "price = float(input(\"Enter the price: \"))\n",
        "\n",
        "if price < 128:\n",
        "    discount = 0.08\n",
        "else:\n",
        "    discount = 0.16\n",
        "\n",
        "finalPrice = price - (price * discount)\n",
        "\n",
        "print(\"Price after discount: \", finalPrice)\n"
      ],
      "metadata": {
        "colab": {
          "base_uri": "https://localhost:8080/"
        },
        "id": "BOFwBa6MHRVq",
        "outputId": "5053ab03-8a3e-40ef-eb8a-9e0a9f380468"
      },
      "execution_count": 47,
      "outputs": [
        {
          "output_type": "stream",
          "name": "stdout",
          "text": [
            "Enter the price: 77\n",
            "Price after discount:  70.84\n"
          ]
        }
      ]
    },
    {
      "cell_type": "code",
      "source": [
        "name1 = \"noor\"\n",
        "name2 = \"muna\"\n",
        "if name1 == name2:\n",
        "  print(\"Names are same\")\n",
        "else:\n",
        "  print(\"Names are not the same\")"
      ],
      "metadata": {
        "colab": {
          "base_uri": "https://localhost:8080/"
        },
        "id": "RGnU-Rk1OxPg",
        "outputId": "74f99fa3-5e82-4d5b-888c-da459a6d3498"
      },
      "execution_count": 48,
      "outputs": [
        {
          "output_type": "stream",
          "name": "stdout",
          "text": [
            "Names are not the same\n"
          ]
        }
      ]
    },
    {
      "cell_type": "code",
      "source": [
        "#Nested if\n",
        "\n",
        "number = int(input(\"Enter a number: \"))\n",
        "\n",
        "if number > 0:\n",
        "  if number % 3 == 0:\n",
        "    print(\"your number is positive and divisible by 3\")\n",
        "  else:\n",
        "    print(\"your number is positive but not divisible by 3\")\n",
        "else:\n",
        "  print(\"your number is zero or negative\")"
      ],
      "metadata": {
        "colab": {
          "base_uri": "https://localhost:8080/"
        },
        "id": "9qTsIVoAfOli",
        "outputId": "1409827a-62ff-40b2-ca6e-ebb303548b2f"
      },
      "execution_count": 49,
      "outputs": [
        {
          "output_type": "stream",
          "name": "stdout",
          "text": [
            "Enter a number: 6\n",
            "your number is positive and divisible by 3\n"
          ]
        }
      ]
    },
    {
      "cell_type": "code",
      "source": [
        "hour1 = int(input(\"Enter hour 1 : \"))\n",
        "hour2 = int(input(\"Enter hour 2 : \"))\n",
        "minute1 = int(input(\"Enter minute 1 : \"))\n",
        "minute2 = int(input(\"Enter minute 2 : \"))\n",
        "\n",
        "if hour1 < hour2:\n",
        "  print(\"time1 comes first\")\n",
        "else:\n",
        "  if hour1 == hour2:\n",
        "    if minute2 == minute2:\n",
        "      print(\"time is same\")\n",
        "    elif minute1 <= minute2:\n",
        "      print(\"time1 comes first\")\n",
        "    else:\n",
        "      print(\"time2 comes first\")\n",
        "  else:\n",
        "    print(\"time2 comes first\")\n"
      ],
      "metadata": {
        "colab": {
          "base_uri": "https://localhost:8080/"
        },
        "id": "ZS82IETgi0bm",
        "outputId": "554616a8-96c1-4525-f73c-94c5cc0b7f93"
      },
      "execution_count": 50,
      "outputs": [
        {
          "output_type": "stream",
          "name": "stdout",
          "text": [
            "Enter hour 1 : 66\n",
            "Enter hour 2 : 88\n",
            "Enter minute 1 : 99\n",
            "Enter minute 2 : 77\n",
            "time1 comes first\n"
          ]
        }
      ]
    },
    {
      "cell_type": "code",
      "source": [
        "typeGuest = (input(\"Enter type of guest : \"))\n",
        "numberNights = int((input(\"Enter number of nights : \")))\n",
        "price = 30 * numberNights\n",
        "\n",
        "if typeGuest.lower() == \"student\":\n",
        "  finalprice = price - (price * 0.2)\n",
        "  print(\"final price: \",finalprice)\n",
        "elif typeGuest.lower() == \"regular\" and numberNights > 3 :\n",
        "  finalprice = price - (price * 0.15)\n",
        "  print(\"final price: \",finalprice)\n",
        "else:\n",
        "  print(\"final price:\", price)"
      ],
      "metadata": {
        "id": "XEZYfbczoHYN",
        "colab": {
          "base_uri": "https://localhost:8080/"
        },
        "outputId": "128465f3-f896-4531-aa41-60456b97e08b"
      },
      "execution_count": 51,
      "outputs": [
        {
          "output_type": "stream",
          "name": "stdout",
          "text": [
            "Enter type of guest : customer\n",
            "Enter number of nights : 3\n",
            "final price: 90\n"
          ]
        }
      ]
    },
    {
      "cell_type": "code",
      "source": [
        "earthquake = float(input(\"enter number of earthquake effect : \"))\n",
        "\n",
        "if earthquake >= 8:\n",
        "  print(\"Most structures fall\")\n",
        "elif earthquake >= 7  and earthquake < 7.99:\n",
        "  print(\"Many buildings destroyed\")\n",
        "elif earthquake >= 6 and earthquake < 6.99:\n",
        "  print(\"Many buildings considerably damaged, some collapse\")\n",
        "elif earthquake >= 4.5 and earthquake < 5.99:\n",
        "  print(\"Damage to poorly constructed buildings\")\n",
        "else:\n",
        "  print(\"No damage\")"
      ],
      "metadata": {
        "id": "YnTFPitztFG4",
        "colab": {
          "base_uri": "https://localhost:8080/"
        },
        "outputId": "bb8a985b-b191-4b9b-d052-96a61c82a943"
      },
      "execution_count": 52,
      "outputs": [
        {
          "output_type": "stream",
          "name": "stdout",
          "text": [
            "enter number of earthquake effect : 2\n",
            "No damage\n"
          ]
        }
      ]
    },
    {
      "cell_type": "code",
      "source": [
        "numberset = {1,2,3,4,3,2}\n",
        "print(numberset)"
      ],
      "metadata": {
        "colab": {
          "base_uri": "https://localhost:8080/"
        },
        "id": "4xJb0s_WGKU9",
        "outputId": "b5a9b1cf-44ce-4fed-9af6-59cf6e742fb3"
      },
      "execution_count": 53,
      "outputs": [
        {
          "output_type": "stream",
          "name": "stdout",
          "text": [
            "{1, 2, 3, 4}\n"
          ]
        }
      ]
    },
    {
      "cell_type": "code",
      "source": [
        "emptyset = {}\n",
        "print(type(emptyset))"
      ],
      "metadata": {
        "colab": {
          "base_uri": "https://localhost:8080/"
        },
        "id": "OUUo4919GYIM",
        "outputId": "3be9d8fd-429d-4c0b-d01c-4f01da669555"
      },
      "execution_count": 54,
      "outputs": [
        {
          "output_type": "stream",
          "name": "stdout",
          "text": [
            "<class 'dict'>\n"
          ]
        }
      ]
    },
    {
      "cell_type": "code",
      "source": [
        "emptyset = set()\n",
        "print(type(emptyset))"
      ],
      "metadata": {
        "colab": {
          "base_uri": "https://localhost:8080/"
        },
        "id": "iW2ZJyR2Ge_z",
        "outputId": "ddf20042-69c5-41ba-8d29-8f56bfa500ad"
      },
      "execution_count": 55,
      "outputs": [
        {
          "output_type": "stream",
          "name": "stdout",
          "text": [
            "<class 'set'>\n"
          ]
        }
      ]
    },
    {
      "cell_type": "code",
      "source": [
        "setWithLists = set([1,2,3])\n",
        "print(type(setWithLists))\n",
        "print(setWithLists)"
      ],
      "metadata": {
        "colab": {
          "base_uri": "https://localhost:8080/"
        },
        "id": "i4pOJOrIGslV",
        "outputId": "38d04cc0-9c57-420c-d509-7939c3eae7b7"
      },
      "execution_count": 56,
      "outputs": [
        {
          "output_type": "stream",
          "name": "stdout",
          "text": [
            "<class 'set'>\n",
            "{1, 2, 3}\n"
          ]
        }
      ]
    },
    {
      "cell_type": "code",
      "source": [
        "numberset = {1,2,3,4,3,2}\n",
        "numberset.update([6, 7, 2])\n",
        "print(numberset)"
      ],
      "metadata": {
        "colab": {
          "base_uri": "https://localhost:8080/"
        },
        "id": "aEDFOwMfIFnO",
        "outputId": "510d4d69-9bad-47c6-c8bd-e133839943a5"
      },
      "execution_count": 57,
      "outputs": [
        {
          "output_type": "stream",
          "name": "stdout",
          "text": [
            "{1, 2, 3, 4, 6, 7}\n"
          ]
        }
      ]
    },
    {
      "cell_type": "code",
      "source": [
        "numberset = {1,2,3,4,3,2}\n",
        "numberset.add(5)\n",
        "print(numberset)"
      ],
      "metadata": {
        "colab": {
          "base_uri": "https://localhost:8080/"
        },
        "id": "q-NtvPD3IcXz",
        "outputId": "3566c825-22a8-4138-acf9-632c4500ada1"
      },
      "execution_count": 58,
      "outputs": [
        {
          "output_type": "stream",
          "name": "stdout",
          "text": [
            "{1, 2, 3, 4, 5}\n"
          ]
        }
      ]
    },
    {
      "cell_type": "code",
      "source": [
        "A = {1,2,3,4}\n",
        "B = {2,4,6,8,6,6}\n",
        "\n",
        "print('A', A )\n",
        "print('B', B )\n",
        "\n",
        "s1 = A | B\n",
        "print('Union : A | B' , s1)\n",
        "\n",
        "s2 = A & B\n",
        "print('Intersection : A & B' , s2)\n",
        "\n",
        "s3 = A - B\n",
        "print('Difference : A - B' , s3)\n",
        "\n",
        "s4 = A ^ B\n",
        "print('Symmetric Difference : A ^ B' , s4)"
      ],
      "metadata": {
        "colab": {
          "base_uri": "https://localhost:8080/"
        },
        "id": "xOunD0kvJchW",
        "outputId": "c6a14bcf-8685-422d-c9a6-76c1b666c70c"
      },
      "execution_count": 59,
      "outputs": [
        {
          "output_type": "stream",
          "name": "stdout",
          "text": [
            "A {1, 2, 3, 4}\n",
            "B {8, 2, 4, 6}\n",
            "Union : A | B {1, 2, 3, 4, 6, 8}\n",
            "Intersection : A & B {2, 4}\n",
            "Difference : A - B {1, 3}\n",
            "Symmetric Difference : A ^ B {1, 3, 6, 8}\n"
          ]
        }
      ]
    },
    {
      "cell_type": "code",
      "source": [],
      "metadata": {
        "id": "R1ArSDrZJw0g"
      },
      "execution_count": 59,
      "outputs": []
    }
  ]
}