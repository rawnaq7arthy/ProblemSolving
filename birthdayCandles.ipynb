{
  "nbformat": 4,
  "nbformat_minor": 0,
  "metadata": {
    "colab": {
      "provenance": []
    },
    "kernelspec": {
      "name": "python3",
      "display_name": "Python 3"
    },
    "language_info": {
      "name": "python"
    }
  },
  "cells": [
    {
      "cell_type": "code",
      "execution_count": 2,
      "metadata": {
        "id": "nEa-8iHS2Bdr",
        "outputId": "45ab3484-0113-4709-95ca-327cf0e65ec1",
        "colab": {
          "base_uri": "https://localhost:8080/"
        }
      },
      "outputs": [
        {
          "output_type": "stream",
          "name": "stdout",
          "text": [
            "The tallest candle has the value 4 and it appears 2 times.\n"
          ]
        }
      ],
      "source": [
        "#candles list\n",
        "candles = [4,1,4,3]\n",
        "\n",
        "#step 1\n",
        "tallest = candles[0]\n",
        "for i in candles:\n",
        "    if i > tallest:\n",
        "        tallest = i\n",
        "\n",
        "#step 2\n",
        "count = 0\n",
        "for i in candles:\n",
        "    if i == tallest:\n",
        "        count +=1\n",
        "\n",
        "#Result\n",
        "print(f\"The tallest candle has the value {tallest} and it appears {count} times.\")"
      ]
    }
  ]
}