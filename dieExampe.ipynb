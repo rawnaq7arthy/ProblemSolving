{
  "nbformat": 4,
  "nbformat_minor": 0,
  "metadata": {
    "colab": {
      "provenance": []
    },
    "kernelspec": {
      "name": "python3",
      "display_name": "Python 3"
    },
    "language_info": {
      "name": "python"
    }
  },
  "cells": [
    {
      "cell_type": "code",
      "execution_count": 5,
      "metadata": {
        "colab": {
          "base_uri": "https://localhost:8080/"
        },
        "id": "SqGQV8NfVDYN",
        "outputId": "889d1371-9ecd-4c3b-ad54-f1d5b708123b"
      },
      "outputs": [
        {
          "output_type": "stream",
          "name": "stdout",
          "text": [
            "Enter die rolls (1-6), separated by spaces: 1 1 2 3 4\n",
            "Frequencies:\n",
            "1: 2\n",
            "2: 1\n",
            "3: 1\n",
            "4: 1\n",
            "5: 0\n",
            "6: 0\n"
          ]
        }
      ],
      "source": [
        "def count_inputs(rolls):\n",
        "    counters = [0] * 7  # Index 0 is unused\n",
        "    for roll in rolls:\n",
        "        if 1 <= roll <= 6:\n",
        "            counters[roll] += 1\n",
        "        else:\n",
        "            print(f\"ERROR: Invalid roll '{roll}'\")\n",
        "    return counters\n",
        "\n",
        "def print_counters(counters):\n",
        "    for i in range(1, 7):\n",
        "        print(f\"{i}: {counters[i]}\")\n",
        "\n",
        "# Main program\n",
        "user_input = input(\"Enter die rolls (1-6), separated by spaces: \")\n",
        "rolls = list(map(int, user_input.split()))\n",
        "counts = count_inputs(rolls)\n",
        "print(\"Frequencies:\")\n",
        "print_counters(counts)\n",
        "\n"
      ]
    }
  ]
}