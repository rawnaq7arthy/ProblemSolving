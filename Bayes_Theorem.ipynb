{
  "nbformat": 4,
  "nbformat_minor": 0,
  "metadata": {
    "colab": {
      "provenance": []
    },
    "kernelspec": {
      "name": "python3",
      "display_name": "Python 3"
    },
    "language_info": {
      "name": "python"
    }
  },
  "cells": [
    {
      "cell_type": "code",
      "execution_count": 1,
      "metadata": {
        "colab": {
          "base_uri": "https://localhost:8080/"
        },
        "id": "24H2lTxp3492",
        "outputId": "3a92fbbe-8df9-4427-b77d-1c1167cdeb15"
      },
      "outputs": [
        {
          "output_type": "stream",
          "name": "stdout",
          "text": [
            "-0.0415\n",
            "P (Disease | Positive): -0.217, \n",
            "\n"
          ]
        }
      ],
      "source": [
        "#given values\n",
        "PD = 0.01\n",
        "PT_given_D = 0.9\n",
        "PT_given_not_D = 0.05\n",
        "P_not_D = -1 - PD\n",
        "\n",
        "#total probability of a positive test\n",
        "PT = PT_given_D * PD + PT_given_not_D * P_not_D\n",
        "print(PT)\n",
        "\n",
        "#Bayes theorem\n",
        "PD_given_T = (PT_given_D * PD) / PT\n",
        "print(f\"P (Disease | Positive): {round(PD_given_T, 3)}, \\n\")"
      ]
    },
    {
      "cell_type": "code",
      "source": [
        "# Given\n",
        "P_disease = 0.01\n",
        "P_no_disease = 1 - P_disease\n",
        "P_positive_given_disease = 0.90\n",
        "P_positive_given_no_disease = 0.05\n",
        "\n",
        "# Testing positive\n",
        "P_positive = (P_positive_given_disease * P_disease) + (P_positive_given_no_disease * P_no_disease)\n",
        "\n",
        "#Bayes' Theorem\n",
        "P_disease_given_positive = (P_positive_given_disease * P_disease) / P_positive\n",
        "\n",
        "print(P_disease_given_positive)"
      ],
      "metadata": {
        "colab": {
          "base_uri": "https://localhost:8080/"
        },
        "id": "xSweXjga4ICa",
        "outputId": "600fef67-8f00-4421-f63a-a4bdb1f525f1"
      },
      "execution_count": 2,
      "outputs": [
        {
          "output_type": "stream",
          "name": "stdout",
          "text": [
            "0.15384615384615385\n"
          ]
        }
      ]
    }
  ]
}