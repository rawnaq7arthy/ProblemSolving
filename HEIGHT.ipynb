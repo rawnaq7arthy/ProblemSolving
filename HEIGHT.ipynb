{
  "nbformat": 4,
  "nbformat_minor": 0,
  "metadata": {
    "colab": {
      "provenance": []
    },
    "kernelspec": {
      "name": "python3",
      "display_name": "Python 3"
    },
    "language_info": {
      "name": "python"
    }
  },
  "cells": [
    {
      "cell_type": "code",
      "execution_count": 3,
      "metadata": {
        "colab": {
          "base_uri": "https://localhost:8080/"
        },
        "id": "IvQ-YpFqdBTh",
        "outputId": "ada19131-bbac-477e-886c-0a007c1afefe"
      },
      "outputs": [
        {
          "output_type": "stream",
          "name": "stdout",
          "text": [
            "Enter Height: 5\n",
            "        1 \n",
            "      1 2 1 \n",
            "    1 2 4 2 1 \n",
            "  1 2 4 8 4 2 1 \n",
            "1 2 4 8 16 8 4 2 1 \n"
          ]
        }
      ],
      "source": [
        "h = int(input(\"Enter Height: \"))\n",
        "\n",
        "for i in range(h):\n",
        "    print('  ' * (h - i - 1), end='')\n",
        "\n",
        "    # Left side\n",
        "    x = 1\n",
        "    for j in range(i + 1):\n",
        "        print(x, end=' ')\n",
        "        x *= 2\n",
        "\n",
        "    # Right side\n",
        "    x //= 4\n",
        "    for j in range(i):\n",
        "        print(x, end=' ')\n",
        "        x //= 2\n",
        "\n",
        "    print()"
      ]
    }
  ]
}