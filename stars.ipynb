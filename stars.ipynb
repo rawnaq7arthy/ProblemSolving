{
  "nbformat": 4,
  "nbformat_minor": 0,
  "metadata": {
    "colab": {
      "provenance": []
    },
    "kernelspec": {
      "name": "python3",
      "display_name": "Python 3"
    },
    "language_info": {
      "name": "python"
    }
  },
  "cells": [
    {
      "cell_type": "code",
      "source": [
        "for i in range(1, 4):\n",
        "    print(' ' * (3 - i) + '*' * i)"
      ],
      "metadata": {
        "colab": {
          "base_uri": "https://localhost:8080/"
        },
        "id": "aPtPwpmFRXUl",
        "outputId": "9f8ca163-8f24-4146-90a3-2cd4685058f9"
      },
      "execution_count": 1,
      "outputs": [
        {
          "output_type": "stream",
          "name": "stdout",
          "text": [
            "  *\n",
            " **\n",
            "***\n"
          ]
        }
      ]
    },
    {
      "cell_type": "code",
      "source": [
        "rows = 3\n",
        "for i in range(1, rows + 1):\n",
        "    spaces = ' ' * (rows - i)\n",
        "    stars = '* ' * i\n",
        "    print(spaces + stars.strip())\n"
      ],
      "metadata": {
        "colab": {
          "base_uri": "https://localhost:8080/"
        },
        "id": "_AUrY6-_RemV",
        "outputId": "0531c9c8-df48-4a45-acc6-066b62800c05"
      },
      "execution_count": 3,
      "outputs": [
        {
          "output_type": "stream",
          "name": "stdout",
          "text": [
            "  *\n",
            " * *\n",
            "* * *\n"
          ]
        }
      ]
    },
    {
      "cell_type": "code",
      "source": [
        "for i in range(3, 0, -1):\n",
        "    spaces = ' ' * (3 - i)\n",
        "    stars = '*' * i\n",
        "    print(spaces + stars)"
      ],
      "metadata": {
        "colab": {
          "base_uri": "https://localhost:8080/"
        },
        "id": "XbJe7ZFBRkHU",
        "outputId": "11cff88a-9b88-4e0b-c1bc-6f9dcf457b37"
      },
      "execution_count": 4,
      "outputs": [
        {
          "output_type": "stream",
          "name": "stdout",
          "text": [
            "***\n",
            " **\n",
            "  *\n"
          ]
        }
      ]
    },
    {
      "cell_type": "code",
      "source": [
        "# A function is a block of reusable code that performs a specific task.\n",
        "\n",
        "# It's not tied to any object.\n",
        "\n",
        "# You define it using the def keyword."
      ],
      "metadata": {
        "id": "FA8kvtZNVKIC"
      },
      "execution_count": null,
      "outputs": []
    },
    {
      "cell_type": "code",
      "source": [
        "# A method is a function that is associated with an object (usually a class instance).\n",
        "\n",
        "# It’s called on an object and often uses the object’s data.\n",
        "\n",
        "# Defined the same way as functions but inside a class."
      ],
      "metadata": {
        "id": "jDql9lSgVOmB"
      },
      "execution_count": null,
      "outputs": []
    }
  ]
}