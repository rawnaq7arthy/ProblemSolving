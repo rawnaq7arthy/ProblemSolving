{
  "nbformat": 4,
  "nbformat_minor": 0,
  "metadata": {
    "colab": {
      "provenance": []
    },
    "kernelspec": {
      "name": "python3",
      "display_name": "Python 3"
    },
    "language_info": {
      "name": "python"
    }
  },
  "cells": [
    {
      "cell_type": "code",
      "execution_count": 3,
      "metadata": {
        "colab": {
          "base_uri": "https://localhost:8080/"
        },
        "id": "_lo24yPm3VTo",
        "outputId": "f1e1078f-671b-450b-e06a-bcccf35859c5"
      },
      "outputs": [
        {
          "output_type": "stream",
          "name": "stdout",
          "text": [
            "Apples: 1\n",
            "Oranges: 2\n",
            "Apples: 1\n",
            "Oranges: 1\n"
          ]
        }
      ],
      "source": [
        "def count_fruits_on_house(s, t, a, b, apples, oranges):\n",
        "    apples_on_house = sum(1 for apple in apples if s <= a + apple <= t)\n",
        "    oranges_on_house = sum(1 for orange in oranges if s <= b + orange <= t)\n",
        "\n",
        "    print(\"Apples:\", apples_on_house)\n",
        "    print(\"Oranges:\", oranges_on_house)\n",
        "\n",
        "# Example 1\n",
        "s = 7\n",
        "t = 10\n",
        "a = 4\n",
        "b = 12\n",
        "apples = [2, 3, -4]\n",
        "oranges = [3, -2, -4]\n",
        "count_fruits_on_house(s, t, a, b, apples, oranges)\n",
        "\n",
        "# Example 2\n",
        "s = 7\n",
        "t = 11\n",
        "a = 5\n",
        "b = 15\n",
        "apples = [-2, 2, 1]\n",
        "oranges = [5, -6]\n",
        "count_fruits_on_house(s, t, a, b, apples, oranges)\n"
      ]
    }
  ]
}