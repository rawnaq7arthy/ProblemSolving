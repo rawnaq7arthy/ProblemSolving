{
  "nbformat": 4,
  "nbformat_minor": 0,
  "metadata": {
    "colab": {
      "provenance": []
    },
    "kernelspec": {
      "name": "python3",
      "display_name": "Python 3"
    },
    "language_info": {
      "name": "python"
    }
  },
  "cells": [
    {
      "cell_type": "code",
      "execution_count": 1,
      "metadata": {
        "colab": {
          "base_uri": "https://localhost:8080/"
        },
        "id": "WO-Oi0QnQMFs",
        "outputId": "b2c6a674-d6a8-48e9-8ee6-6fd5906e18ec"
      },
      "outputs": [
        {
          "output_type": "stream",
          "name": "stdout",
          "text": [
            "[2]\n"
          ]
        }
      ],
      "source": [
        "list1 = [5, 7, 9, 11 , 0]\n",
        "value = 9\n",
        "\n",
        "low = 0\n",
        "high = len(list1) - 1\n",
        "\n",
        "while low <= high:\n",
        "    mid = (low + high) // 2\n",
        "    if list1[mid] == value:\n",
        "        print([mid])\n",
        "        break\n",
        "    elif list1[mid] < value:\n",
        "        low = mid + 1\n",
        "    else:\n",
        "        high = mid - 1\n",
        "else:\n",
        "    print(\"value not found!\")"
      ]
    }
  ]
}