{
  "nbformat": 4,
  "nbformat_minor": 0,
  "metadata": {
    "colab": {
      "provenance": []
    },
    "kernelspec": {
      "name": "python3",
      "display_name": "Python 3"
    },
    "language_info": {
      "name": "python"
    }
  },
  "cells": [
    {
      "cell_type": "code",
      "execution_count": null,
      "metadata": {
        "colab": {
          "base_uri": "https://localhost:8080/"
        },
        "id": "kqV-DgA_rNSi",
        "outputId": "9f2ca9a9-9b29-4915-e2c9-84d4bd3b50df"
      },
      "outputs": [
        {
          "output_type": "stream",
          "name": "stdout",
          "text": [
            "YES\n",
            "YES\n",
            "NO\n"
          ]
        }
      ],
      "source": [
        "def kangaroo(x1, v1, x2, v2):\n",
        "    if v1 == v2:\n",
        "        return \"YES\" if x1 == x2 else \"NO\"\n",
        "\n",
        "    # Check if they meet at some point: (x1 + n*v1) == (x2 + n*v2)\n",
        "    # Which implies: n = (x2 - x1) / (v1 - v2)\n",
        "    n = (x2 - x1) / (v1 - v2)\n",
        "\n",
        "    if n.is_integer() and n >= 0:\n",
        "        return \"YES\"\n",
        "    else:\n",
        "        return \"NO\"\n",
        "print(kangaroo(2, 1, 1, 2))  # Output: YES\n",
        "print(kangaroo(0, 3, 4, 2))  # Output: YES\n",
        "print(kangaroo(0, 2, 5, 3))  # Output: NO"
      ]
    },
    {
      "cell_type": "code",
      "source": [],
      "metadata": {
        "id": "-40k7zeXrgiv"
      },
      "execution_count": null,
      "outputs": []
    }
  ]
}