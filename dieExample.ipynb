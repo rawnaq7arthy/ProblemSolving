{
  "nbformat": 4,
  "nbformat_minor": 0,
  "metadata": {
    "colab": {
      "provenance": []
    },
    "kernelspec": {
      "name": "python3",
      "display_name": "Python 3"
    },
    "language_info": {
      "name": "python"
    }
  },
  "cells": [
    {
      "cell_type": "code",
      "execution_count": null,
      "metadata": {
        "colab": {
          "base_uri": "https://localhost:8080/"
        },
        "id": "mATop-IiMlQE",
        "outputId": "a396885e-eed8-4384-95bd-71c7ce805938"
      },
      "outputs": [
        {
          "output_type": "stream",
          "name": "stdout",
          "text": [
            "1: 1\n",
            "2: 1\n",
            "3: 1\n",
            "4: 1\n",
            "5: 1\n",
            "6: 1\n"
          ]
        }
      ],
      "source": [
        "# Create a list with 7 elements\n",
        "counters = [0] * 7\n",
        "\n",
        "# Sample input —\n",
        "tosses = [1, 2, 3, 4, 5, 6]\n",
        "\n",
        "# Count each die toss\n",
        "for value in tosses:\n",
        "    if 1 <= value <= 6:\n",
        "        counters[value] += 1\n",
        "\n",
        "# Print the results\n",
        "for i in range(1, 7):\n",
        "    print(f\"{i}: {counters[i]}\")\n"
      ]
    }
  ]
}