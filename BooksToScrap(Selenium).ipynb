{
 "cells": [
  {
   "cell_type": "code",
   "execution_count": 3,
   "id": "b64de8d5-2365-4880-99d6-0c6f5ede084e",
   "metadata": {},
   "outputs": [
    {
     "name": "stdout",
     "output_type": "stream",
     "text": [
      "Collecting selenium\n",
      "  Downloading selenium-4.33.0-py3-none-any.whl.metadata (7.5 kB)\n",
      "Collecting urllib3~=2.4.0 (from urllib3[socks]~=2.4.0->selenium)\n",
      "  Downloading urllib3-2.4.0-py3-none-any.whl.metadata (6.5 kB)\n",
      "Collecting trio~=0.30.0 (from selenium)\n",
      "  Downloading trio-0.30.0-py3-none-any.whl.metadata (8.5 kB)\n",
      "Collecting trio-websocket~=0.12.2 (from selenium)\n",
      "  Downloading trio_websocket-0.12.2-py3-none-any.whl.metadata (5.1 kB)\n",
      "Collecting certifi>=2025.4.26 (from selenium)\n",
      "  Downloading certifi-2025.4.26-py3-none-any.whl.metadata (2.5 kB)\n",
      "Collecting typing_extensions~=4.13.2 (from selenium)\n",
      "  Downloading typing_extensions-4.13.2-py3-none-any.whl.metadata (3.0 kB)\n",
      "Requirement already satisfied: websocket-client~=1.8.0 in c:\\users\\iman\\anaconda3\\lib\\site-packages (from selenium) (1.8.0)\n",
      "Collecting attrs>=23.2.0 (from trio~=0.30.0->selenium)\n",
      "  Downloading attrs-25.3.0-py3-none-any.whl.metadata (10 kB)\n",
      "Requirement already satisfied: sortedcontainers in c:\\users\\iman\\anaconda3\\lib\\site-packages (from trio~=0.30.0->selenium) (2.4.0)\n",
      "Requirement already satisfied: idna in c:\\users\\iman\\anaconda3\\lib\\site-packages (from trio~=0.30.0->selenium) (3.7)\n",
      "Collecting outcome (from trio~=0.30.0->selenium)\n",
      "  Downloading outcome-1.3.0.post0-py2.py3-none-any.whl.metadata (2.6 kB)\n",
      "Requirement already satisfied: sniffio>=1.3.0 in c:\\users\\iman\\anaconda3\\lib\\site-packages (from trio~=0.30.0->selenium) (1.3.0)\n",
      "Requirement already satisfied: cffi>=1.14 in c:\\users\\iman\\anaconda3\\lib\\site-packages (from trio~=0.30.0->selenium) (1.17.1)\n",
      "Requirement already satisfied: wsproto>=0.14 in c:\\users\\iman\\anaconda3\\lib\\site-packages (from trio-websocket~=0.12.2->selenium) (1.2.0)\n",
      "Requirement already satisfied: pysocks!=1.5.7,<2.0,>=1.5.6 in c:\\users\\iman\\anaconda3\\lib\\site-packages (from urllib3[socks]~=2.4.0->selenium) (1.7.1)\n",
      "Requirement already satisfied: pycparser in c:\\users\\iman\\anaconda3\\lib\\site-packages (from cffi>=1.14->trio~=0.30.0->selenium) (2.21)\n",
      "Requirement already satisfied: h11<1,>=0.9.0 in c:\\users\\iman\\anaconda3\\lib\\site-packages (from wsproto>=0.14->trio-websocket~=0.12.2->selenium) (0.14.0)\n",
      "Downloading selenium-4.33.0-py3-none-any.whl (9.4 MB)\n",
      "   ---------------------------------------- 0.0/9.4 MB ? eta -:--:--\n",
      "   --- ------------------------------------ 0.8/9.4 MB 6.7 MB/s eta 0:00:02\n",
      "   ------ --------------------------------- 1.6/9.4 MB 5.6 MB/s eta 0:00:02\n",
      "   -------- ------------------------------- 2.1/9.4 MB 4.2 MB/s eta 0:00:02\n",
      "   -------- ------------------------------- 2.1/9.4 MB 4.2 MB/s eta 0:00:02\n",
      "   -------- ------------------------------- 2.1/9.4 MB 4.2 MB/s eta 0:00:02\n",
      "   ------------ --------------------------- 2.9/9.4 MB 2.4 MB/s eta 0:00:03\n",
      "   -------------- ------------------------- 3.4/9.4 MB 2.5 MB/s eta 0:00:03\n",
      "   ----------------- ---------------------- 4.2/9.4 MB 2.6 MB/s eta 0:00:02\n",
      "   ---------------------- ----------------- 5.2/9.4 MB 2.9 MB/s eta 0:00:02\n",
      "   -------------------------- ------------- 6.3/9.4 MB 3.1 MB/s eta 0:00:01\n",
      "   ----------------------------- ---------- 6.8/9.4 MB 3.2 MB/s eta 0:00:01\n",
      "   ---------------------------------------  9.2/9.4 MB 3.8 MB/s eta 0:00:01\n",
      "   ---------------------------------------- 9.4/9.4 MB 3.8 MB/s eta 0:00:00\n",
      "Downloading certifi-2025.4.26-py3-none-any.whl (159 kB)\n",
      "Downloading trio-0.30.0-py3-none-any.whl (499 kB)\n",
      "Downloading trio_websocket-0.12.2-py3-none-any.whl (21 kB)\n",
      "Downloading typing_extensions-4.13.2-py3-none-any.whl (45 kB)\n",
      "Downloading urllib3-2.4.0-py3-none-any.whl (128 kB)\n",
      "Downloading attrs-25.3.0-py3-none-any.whl (63 kB)\n",
      "Downloading outcome-1.3.0.post0-py2.py3-none-any.whl (10 kB)\n",
      "Installing collected packages: urllib3, typing_extensions, certifi, attrs, outcome, trio, trio-websocket, selenium\n",
      "  Attempting uninstall: urllib3\n",
      "    Found existing installation: urllib3 2.2.3\n",
      "    Uninstalling urllib3-2.2.3:\n",
      "      Successfully uninstalled urllib3-2.2.3\n",
      "  Attempting uninstall: typing_extensions\n",
      "    Found existing installation: typing_extensions 4.11.0\n",
      "    Uninstalling typing_extensions-4.11.0:\n",
      "      Successfully uninstalled typing_extensions-4.11.0\n",
      "  Attempting uninstall: certifi\n",
      "    Found existing installation: certifi 2024.8.30\n",
      "    Uninstalling certifi-2024.8.30:\n",
      "      Successfully uninstalled certifi-2024.8.30\n",
      "  Attempting uninstall: attrs\n",
      "    Found existing installation: attrs 23.1.0\n",
      "    Uninstalling attrs-23.1.0:\n",
      "      Successfully uninstalled attrs-23.1.0\n",
      "Successfully installed attrs-25.3.0 certifi-2025.4.26 outcome-1.3.0.post0 selenium-4.33.0 trio-0.30.0 trio-websocket-0.12.2 typing_extensions-4.13.2 urllib3-2.4.0\n",
      "Note: you may need to restart the kernel to use updated packages.\n"
     ]
    }
   ],
   "source": [
    "pip install selenium "
   ]
  },
  {
   "cell_type": "code",
   "execution_count": 3,
   "id": "e72e3696-ef10-4e8f-9e97-3d5e7c66d96c",
   "metadata": {},
   "outputs": [],
   "source": [
    "import selenium"
   ]
  },
  {
   "cell_type": "code",
   "execution_count": 5,
   "id": "9795236d-946f-42ba-814c-7d44816ecf01",
   "metadata": {},
   "outputs": [
    {
     "name": "stdout",
     "output_type": "stream",
     "text": [
      "Requirement already satisfied: selenium in c:\\users\\iman\\anaconda3\\lib\\site-packages (4.33.0)\n",
      "Collecting webdriver_manager\n",
      "  Downloading webdriver_manager-4.0.2-py2.py3-none-any.whl.metadata (12 kB)\n",
      "Requirement already satisfied: urllib3~=2.4.0 in c:\\users\\iman\\anaconda3\\lib\\site-packages (from urllib3[socks]~=2.4.0->selenium) (2.4.0)\n",
      "Requirement already satisfied: trio~=0.30.0 in c:\\users\\iman\\anaconda3\\lib\\site-packages (from selenium) (0.30.0)\n",
      "Requirement already satisfied: trio-websocket~=0.12.2 in c:\\users\\iman\\anaconda3\\lib\\site-packages (from selenium) (0.12.2)\n",
      "Requirement already satisfied: certifi>=2025.4.26 in c:\\users\\iman\\anaconda3\\lib\\site-packages (from selenium) (2025.4.26)\n",
      "Requirement already satisfied: typing_extensions~=4.13.2 in c:\\users\\iman\\anaconda3\\lib\\site-packages (from selenium) (4.13.2)\n",
      "Requirement already satisfied: websocket-client~=1.8.0 in c:\\users\\iman\\anaconda3\\lib\\site-packages (from selenium) (1.8.0)\n",
      "Requirement already satisfied: requests in c:\\users\\iman\\anaconda3\\lib\\site-packages (from webdriver_manager) (2.32.3)\n",
      "Requirement already satisfied: python-dotenv in c:\\users\\iman\\anaconda3\\lib\\site-packages (from webdriver_manager) (0.21.0)\n",
      "Requirement already satisfied: packaging in c:\\users\\iman\\anaconda3\\lib\\site-packages (from webdriver_manager) (24.1)\n",
      "Requirement already satisfied: attrs>=23.2.0 in c:\\users\\iman\\anaconda3\\lib\\site-packages (from trio~=0.30.0->selenium) (25.3.0)\n",
      "Requirement already satisfied: sortedcontainers in c:\\users\\iman\\anaconda3\\lib\\site-packages (from trio~=0.30.0->selenium) (2.4.0)\n",
      "Requirement already satisfied: idna in c:\\users\\iman\\anaconda3\\lib\\site-packages (from trio~=0.30.0->selenium) (3.7)\n",
      "Requirement already satisfied: outcome in c:\\users\\iman\\anaconda3\\lib\\site-packages (from trio~=0.30.0->selenium) (1.3.0.post0)\n",
      "Requirement already satisfied: sniffio>=1.3.0 in c:\\users\\iman\\anaconda3\\lib\\site-packages (from trio~=0.30.0->selenium) (1.3.0)\n",
      "Requirement already satisfied: cffi>=1.14 in c:\\users\\iman\\anaconda3\\lib\\site-packages (from trio~=0.30.0->selenium) (1.17.1)\n",
      "Requirement already satisfied: wsproto>=0.14 in c:\\users\\iman\\anaconda3\\lib\\site-packages (from trio-websocket~=0.12.2->selenium) (1.2.0)\n",
      "Requirement already satisfied: pysocks!=1.5.7,<2.0,>=1.5.6 in c:\\users\\iman\\anaconda3\\lib\\site-packages (from urllib3[socks]~=2.4.0->selenium) (1.7.1)\n",
      "Requirement already satisfied: charset-normalizer<4,>=2 in c:\\users\\iman\\anaconda3\\lib\\site-packages (from requests->webdriver_manager) (3.3.2)\n",
      "Requirement already satisfied: pycparser in c:\\users\\iman\\anaconda3\\lib\\site-packages (from cffi>=1.14->trio~=0.30.0->selenium) (2.21)\n",
      "Requirement already satisfied: h11<1,>=0.9.0 in c:\\users\\iman\\anaconda3\\lib\\site-packages (from wsproto>=0.14->trio-websocket~=0.12.2->selenium) (0.14.0)\n",
      "Downloading webdriver_manager-4.0.2-py2.py3-none-any.whl (27 kB)\n",
      "Installing collected packages: webdriver_manager\n",
      "Successfully installed webdriver_manager-4.0.2\n",
      "Note: you may need to restart the kernel to use updated packages.\n"
     ]
    }
   ],
   "source": [
    "pip install selenium webdriver_manager"
   ]
  },
  {
   "cell_type": "code",
   "execution_count": 1,
   "id": "8a7962be-91cd-4220-b8f4-1c784d1cac4c",
   "metadata": {},
   "outputs": [],
   "source": [
    "from selenium import webdriver"
   ]
  },
  {
   "cell_type": "code",
   "execution_count": 3,
   "id": "ec4086a9-68c0-454b-8304-31f0ef1227d3",
   "metadata": {},
   "outputs": [],
   "source": [
    "from selenium.webdriver.chrome.service import Service\n",
    "from webdriver_manager.chrome import ChromeDriverManager\n",
    "import time"
   ]
  },
  {
   "cell_type": "code",
   "execution_count": 7,
   "id": "cfc7b5d0-f8a1-471b-8edf-9380d4332d17",
   "metadata": {},
   "outputs": [],
   "source": [
    "service = Service(ChromeDriverManager().install())\n",
    "driver = webdriver.Chrome(service=service)"
   ]
  },
  {
   "cell_type": "code",
   "execution_count": 9,
   "id": "99937ebc-f160-420b-84ca-5d11082c32f9",
   "metadata": {},
   "outputs": [
    {
     "name": "stdout",
     "output_type": "stream",
     "text": [
      "Google\n"
     ]
    }
   ],
   "source": [
    "driver.get('https://www.google.com/')\n",
    "print(driver.title)"
   ]
  },
  {
   "cell_type": "code",
   "execution_count": 11,
   "id": "8afed67c-16c8-4a42-ab7f-f6d544c3728e",
   "metadata": {},
   "outputs": [],
   "source": [
    "time.sleep(5)\n",
    "driver.quit()"
   ]
  },
  {
   "cell_type": "code",
   "execution_count": 13,
   "id": "b27310c7-a93d-4e6f-bf47-12ee5a80d5d4",
   "metadata": {},
   "outputs": [],
   "source": [
    "from selenium.webdriver.common.by import By\n",
    "from selenium.webdriver.common.keys import Keys"
   ]
  },
  {
   "cell_type": "code",
   "execution_count": 19,
   "id": "4d4c7069-f402-4521-aa9b-e8de2c79ed68",
   "metadata": {},
   "outputs": [],
   "source": [
    "drv = webdriver.Chrome()\n",
    "drv.get(\"https://www.google.com\")\n",
    "box = drv.find_element(By.NAME, \"q\")\n",
    "box.send_keys(\"GeeksforGeeks\", Keys.RETURN)"
   ]
  },
  {
   "cell_type": "code",
   "execution_count": 17,
   "id": "b7a6ab67-1abe-43ce-8461-40f4af44c4d9",
   "metadata": {},
   "outputs": [],
   "source": [
    "time.sleep(20)\n",
    "drv.quit()"
   ]
  },
  {
   "cell_type": "code",
   "execution_count": 21,
   "id": "435726b8-1219-40b3-9fb4-e8326ebd5d1c",
   "metadata": {},
   "outputs": [
    {
     "name": "stdout",
     "output_type": "stream",
     "text": [
      "Requirement already satisfied: selenium in c:\\users\\iman\\anaconda3\\lib\\site-packages (4.33.0)\n",
      "Requirement already satisfied: pandas in c:\\users\\iman\\anaconda3\\lib\\site-packages (2.2.2)\n",
      "Requirement already satisfied: urllib3~=2.4.0 in c:\\users\\iman\\anaconda3\\lib\\site-packages (from urllib3[socks]~=2.4.0->selenium) (2.4.0)\n",
      "Requirement already satisfied: trio~=0.30.0 in c:\\users\\iman\\anaconda3\\lib\\site-packages (from selenium) (0.30.0)\n",
      "Requirement already satisfied: trio-websocket~=0.12.2 in c:\\users\\iman\\anaconda3\\lib\\site-packages (from selenium) (0.12.2)\n",
      "Requirement already satisfied: certifi>=2025.4.26 in c:\\users\\iman\\anaconda3\\lib\\site-packages (from selenium) (2025.4.26)\n",
      "Requirement already satisfied: typing_extensions~=4.13.2 in c:\\users\\iman\\anaconda3\\lib\\site-packages (from selenium) (4.13.2)\n",
      "Requirement already satisfied: websocket-client~=1.8.0 in c:\\users\\iman\\anaconda3\\lib\\site-packages (from selenium) (1.8.0)\n",
      "Requirement already satisfied: numpy>=1.26.0 in c:\\users\\iman\\anaconda3\\lib\\site-packages (from pandas) (1.26.4)\n",
      "Requirement already satisfied: python-dateutil>=2.8.2 in c:\\users\\iman\\anaconda3\\lib\\site-packages (from pandas) (2.9.0.post0)\n",
      "Requirement already satisfied: pytz>=2020.1 in c:\\users\\iman\\anaconda3\\lib\\site-packages (from pandas) (2024.1)\n",
      "Requirement already satisfied: tzdata>=2022.7 in c:\\users\\iman\\anaconda3\\lib\\site-packages (from pandas) (2023.3)\n",
      "Requirement already satisfied: six>=1.5 in c:\\users\\iman\\anaconda3\\lib\\site-packages (from python-dateutil>=2.8.2->pandas) (1.16.0)\n",
      "Requirement already satisfied: attrs>=23.2.0 in c:\\users\\iman\\anaconda3\\lib\\site-packages (from trio~=0.30.0->selenium) (25.3.0)\n",
      "Requirement already satisfied: sortedcontainers in c:\\users\\iman\\anaconda3\\lib\\site-packages (from trio~=0.30.0->selenium) (2.4.0)\n",
      "Requirement already satisfied: idna in c:\\users\\iman\\anaconda3\\lib\\site-packages (from trio~=0.30.0->selenium) (3.7)\n",
      "Requirement already satisfied: outcome in c:\\users\\iman\\anaconda3\\lib\\site-packages (from trio~=0.30.0->selenium) (1.3.0.post0)\n",
      "Requirement already satisfied: sniffio>=1.3.0 in c:\\users\\iman\\anaconda3\\lib\\site-packages (from trio~=0.30.0->selenium) (1.3.0)\n",
      "Requirement already satisfied: cffi>=1.14 in c:\\users\\iman\\anaconda3\\lib\\site-packages (from trio~=0.30.0->selenium) (1.17.1)\n",
      "Requirement already satisfied: wsproto>=0.14 in c:\\users\\iman\\anaconda3\\lib\\site-packages (from trio-websocket~=0.12.2->selenium) (1.2.0)\n",
      "Requirement already satisfied: pysocks!=1.5.7,<2.0,>=1.5.6 in c:\\users\\iman\\anaconda3\\lib\\site-packages (from urllib3[socks]~=2.4.0->selenium) (1.7.1)\n",
      "Requirement already satisfied: pycparser in c:\\users\\iman\\anaconda3\\lib\\site-packages (from cffi>=1.14->trio~=0.30.0->selenium) (2.21)\n",
      "Requirement already satisfied: h11<1,>=0.9.0 in c:\\users\\iman\\anaconda3\\lib\\site-packages (from wsproto>=0.14->trio-websocket~=0.12.2->selenium) (0.14.0)\n",
      "Note: you may need to restart the kernel to use updated packages.\n"
     ]
    }
   ],
   "source": [
    "pip install selenium pandas"
   ]
  },
  {
   "cell_type": "code",
   "execution_count": 1,
   "id": "fb61891c-fe18-4617-b1f4-c9fb49b6f7be",
   "metadata": {},
   "outputs": [
    {
     "name": "stdout",
     "output_type": "stream",
     "text": [
      "Total books: 20\n",
      "Average price: £38.05\n"
     ]
    }
   ],
   "source": [
    "from selenium import webdriver\n",
    "from selenium.webdriver.common.by import By\n",
    "import pandas as pd\n",
    "import re\n",
    "\n",
    "# Set up the driver\n",
    "driver = webdriver.Chrome()\n",
    "\n",
    "# Open the website\n",
    "driver.get(\"https://books.toscrape.com/\")\n",
    "\n",
    "# Locate all book containers\n",
    "books = driver.find_elements(By.CLASS_NAME, \"product_pod\")\n",
    "\n",
    "# Prepare a list to store the data\n",
    "book_data = []\n",
    "\n",
    "for book in books:\n",
    "    # Extract title\n",
    "    title = book.find_element(By.TAG_NAME, \"h3\").find_element(By.TAG_NAME, \"a\").get_attribute(\"title\")\n",
    "    \n",
    "    # Extract price\n",
    "    price = book.find_element(By.CLASS_NAME, \"price_color\").text\n",
    "    price_value = float(price[1:])  \n",
    "    \n",
    "    # Extract availability\n",
    "    availability = book.find_element(By.CLASS_NAME, \"availability\").text.strip()\n",
    "    \n",
    "    # Extract star rating \n",
    "    star_class = book.find_element(By.CLASS_NAME, \"star-rating\").get_attribute(\"class\")\n",
    "    rating = re.search(r\"star-rating (\\w+)\", star_class)\n",
    "    star_rating = rating.group(1) if rating else \"Not Rated\"\n",
    "    \n",
    "    # Add to list\n",
    "    book_data.append({\n",
    "        \"Title\": title,\n",
    "        \"Price\": price_value,\n",
    "        \"Availability\": availability,\n",
    "        \"Star Rating\": star_rating\n",
    "    })\n",
    "\n",
    "# Close the driver\n",
    "driver.quit()\n",
    "\n",
    "# Create a DataFrame and save to CSV\n",
    "df = pd.DataFrame(book_data)\n",
    "df.to_csv(\"books_first_page.csv\", index=False)\n",
    "\n",
    "#Total number of books and average price\n",
    "total_books = len(df)\n",
    "average_price = df[\"Price\"].mean()\n",
    "\n",
    "print(f\"Total books: {total_books}\")\n",
    "print(f\"Average price: £{average_price:.2f}\")\n"
   ]
  }
 ],
 "metadata": {
  "kernelspec": {
   "display_name": "Python 3 (ipykernel)",
   "language": "python",
   "name": "python3"
  },
  "language_info": {
   "codemirror_mode": {
    "name": "ipython",
    "version": 3
   },
   "file_extension": ".py",
   "mimetype": "text/x-python",
   "name": "python",
   "nbconvert_exporter": "python",
   "pygments_lexer": "ipython3",
   "version": "3.12.7"
  }
 },
 "nbformat": 4,
 "nbformat_minor": 5
}
