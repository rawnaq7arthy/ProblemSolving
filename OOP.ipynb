{
  "cells": [
    {
      "cell_type": "code",
      "execution_count": null,
      "metadata": {
        "colab": {
          "base_uri": "https://localhost:8080/",
          "height": 35
        },
        "id": "N2Q_liixbrdP",
        "outputId": "4bfda7cc-8a7e-4b5e-ec93-8a9e441c06c3"
      },
      "outputs": [
        {
          "data": {
            "application/vnd.google.colaboratory.intrinsic+json": {
              "type": "string"
            },
            "text/plain": [
              "'Bubby says wolf, playing with the ball'"
            ]
          },
          "execution_count": 7,
          "metadata": {},
          "output_type": "execute_result"
        }
      ],
      "source": [
        "class Dog:\n",
        "  def __init__(self, name, age):\n",
        "    self.name = name\n",
        "    self.age = age\n",
        "\n",
        "  def bark(self, tool):\n",
        "    return f\"{self.name} says wolf, playing with the {tool}\"\n",
        "\n",
        "my_dog = Dog(\"Bubby\", 3)\n",
        "my_dog.bark(\"ball\")\n",
        "\n",
        "\n"
      ]
    },
    {
      "cell_type": "code",
      "execution_count": null,
      "metadata": {
        "colab": {
          "base_uri": "https://localhost:8080/"
        },
        "id": "LpinC-ZxcXRn",
        "outputId": "97e2e923-6b3a-44d1-f1db-4ba5cb5ce026"
      },
      "outputs": [
        {
          "name": "stdout",
          "output_type": "stream",
          "text": [
            "car make Kia, car model KF, car year 2018\n",
            "car make Chevrolet, car model Malibu, car year 2019\n"
          ]
        }
      ],
      "source": [
        "class Car:\n",
        "  def __init__(self, make, model, year):\n",
        "    self.make = make\n",
        "    self.model = model\n",
        "    self.year = year\n",
        "  def display_details(self):\n",
        "    return f\"car make {self.make}, car model {self.model}, car year {self.year}\"\n",
        "\n",
        "car1 = Car(\"Kia\", \"KF\", 2018)\n",
        "car2 = Car(\"Chevrolet\", \"Malibu\", 2019)\n",
        "\n",
        "print(car1.display_details())\n",
        "print(car2.display_details())"
      ]
    },
    {
      "cell_type": "code",
      "execution_count": null,
      "metadata": {
        "colab": {
          "base_uri": "https://localhost:8080/"
        },
        "id": "rlhn3XOvj7hZ",
        "outputId": "48f97fb7-3ff2-49d4-de93-4602417d9274"
      },
      "outputs": [
        {
          "name": "stdout",
          "output_type": "stream",
          "text": [
            "Account 1:\n",
            "Initial balance: 1500\n",
            "Depositing 500: 2000\n",
            "Withdrawing 200: 1800\n",
            "Final balance: 1800\n",
            "\n",
            "---------------------\n",
            "\n",
            "Account 2:\n",
            "Initial balance: 300\n",
            "Depositing 1000: 1300\n",
            "Withdrawing 1500: Insufficient funds!\n",
            "Final balance: 1300\n"
          ]
        }
      ],
      "source": [
        "class BankAccount:\n",
        "    def __init__(self, owner, account_number, cvv, expiry_date, balance=0):\n",
        "        self.owner = owner\n",
        "        self.account_number = account_number\n",
        "        self.cvv = cvv\n",
        "        self.expiry_date = expiry_date\n",
        "        self.balance = balance\n",
        "\n",
        "    def deposit(self, amount):\n",
        "        if amount > 0:\n",
        "            self.balance += amount\n",
        "            return self.balance\n",
        "        else:\n",
        "            return \"Deposit amount must be positive\"\n",
        "\n",
        "    def withdraw(self, amount):\n",
        "        if amount > 0:\n",
        "            if amount <= self.balance:\n",
        "                self.balance -= amount\n",
        "                return self.balance\n",
        "            else:\n",
        "                return \"Insufficient funds!\"\n",
        "        else:\n",
        "            return \"Withdrawal amount must be positive\"\n",
        "\n",
        "    def get_balance(self):\n",
        "        return self.balance\n",
        "\n",
        "\n",
        "# Example usage\n",
        "\n",
        "account1 = BankAccount(\"Ali\", 987654321, 123, \"11/25\", 1500)\n",
        "account2 = BankAccount(\"Sara\", 555666777, 456, \"08/27\", 300)\n",
        "\n",
        "# Account1\n",
        "print(\"Account 1:\")\n",
        "print(f\"Initial balance: {account1.get_balance()}\")\n",
        "print(f\"Depositing 500: {account1.deposit(500)}\")\n",
        "print(f\"Withdrawing 200: {account1.withdraw(200)}\")\n",
        "print(f\"Final balance: {account1.get_balance()}\")\n",
        "\n",
        "\n",
        "print(\"\\n---------------------\\n\")\n",
        "\n",
        "# Account2\n",
        "print(\"Account 2:\")\n",
        "print(f\"Initial balance: {account2.get_balance()}\")\n",
        "print(f\"Depositing 1000: {account2.deposit(1000)}\")\n",
        "print(f\"Withdrawing 1500: {account2.withdraw(1500)}\")\n",
        "print(f\"Final balance: {account2.get_balance()}\")\n",
        "\n"
      ]
    },
    {
      "cell_type": "code",
      "execution_count": null,
      "metadata": {
        "colab": {
          "base_uri": "https://localhost:8080/"
        },
        "id": "zXe05oYq9GTU",
        "outputId": "a538d48d-02a6-4a30-9925-e6b38906c94d"
      },
      "outputs": [
        {
          "name": "stdout",
          "output_type": "stream",
          "text": [
            "5\n"
          ]
        }
      ],
      "source": [
        "class Kid:\n",
        "  def __init__(self, name, age):\n",
        "    self.name = name\n",
        "    self._age = age\n",
        "  def _grow_older(self):\n",
        "    self._age +=1\n",
        "\n",
        "my_kid = Kid(\"Tom\" , 5)\n",
        "print(my_kid._age)\n",
        "my_kid._grow_older()"
      ]
    },
    {
      "cell_type": "code",
      "execution_count": null,
      "metadata": {
        "colab": {
          "base_uri": "https://localhost:8080/"
        },
        "id": "Xo0zPZd1FEos",
        "outputId": "4c391774-fd9d-4dff-be8e-5ee547f62cf2"
      },
      "outputs": [
        {
          "name": "stdout",
          "output_type": "stream",
          "text": [
            "Bobo\n",
            "5\n"
          ]
        }
      ],
      "source": [
        "class Dog:\n",
        "  def __init__(self, name, age):\n",
        "    self._name = name\n",
        "    self._age = age\n",
        "\n",
        "  def bark(self):\n",
        "    print(f\"{self.name} says woof !\")\n",
        "\n",
        "  def getName(self):\n",
        "    return self._name\n",
        "\n",
        "  def getAge(self):\n",
        "    return self._age\n",
        "\n",
        "  def setName(self, name):\n",
        "    self._name = name\n",
        "\n",
        "  def setAge(self, age):\n",
        "    self._age = age\n",
        "\n",
        "my_dog = Dog(\"Bubby\", 3)\n",
        "\n",
        "my_dog.setName(\"Bobo\")\n",
        "print(my_dog.getName())\n",
        "\n",
        "my_dog.setAge(5)\n",
        "print(my_dog.getAge())\n",
        "\n",
        "\n"
      ]
    },
    {
      "cell_type": "code",
      "execution_count": null,
      "metadata": {
        "id": "TxvPl468Iua6"
      },
      "outputs": [],
      "source": [
        "class Item:\n",
        "  def __init__(self, name, quantity, price):\n",
        "    self.name = name\n",
        "    self.quantity = quantity\n",
        "    self.price = price\n",
        "\n",
        "inventory = []\n",
        "\n",
        "def addItems():\n",
        "  name = input(\"Enter item name : \")\n",
        "  quantity = int(input(\"Enter quantity : \"))\n",
        "  price = float(input(\"Enter price : \"))\n",
        "  inventory.append(Item(name, quantity, price))\n",
        "  print(\"Items added\")\n",
        "\n",
        "def viewItems():\n",
        "  for item in inventory:\n",
        "    print(item)\n",
        "\n",
        "\n",
        "def updateItems():\n",
        "  name = input(\"Enter item name to update : \").lower()\n",
        "  for item in inventory:\n",
        "    if item.name.lower() == name:\n",
        "      item.quantity = int(input(\"Enter new quantity : \"))\n",
        "      item.price = float(input(\"Enter new price : \"))\n",
        "      print(\"Item updated successfully ! \\n\")\n",
        "      return\n",
        "\n"
      ]
    },
    {
      "cell_type": "markdown",
      "metadata": {
        "id": "p8eP9XYMIM_z"
      },
      "source": [
        "**Inheritance**\n"
      ]
    },
    {
      "cell_type": "markdown",
      "metadata": {
        "id": "QUVbjVaTKrww"
      },
      "source": [
        "- Inheritance allows one class (called the child or subclass) to take (or inherit) the properties and behaviors of another class (called the parent or superclass).\n",
        "\n",
        "- It helps us reuse code and create a logical structure.\n",
        "\n",
        "- super() is a built-in Python function that lets a child class access methods or constructors from the parent class without repeating code.\n",
        "\n",
        "- Avoid repeating __init__ code"
      ]
    },
    {
      "cell_type": "code",
      "execution_count": null,
      "metadata": {
        "colab": {
          "base_uri": "https://localhost:8080/"
        },
        "id": "N1J_GmN5Iv2-",
        "outputId": "b43099f3-7155-4bee-d0b8-e6364da76ae3"
      },
      "outputs": [
        {
          "name": "stdout",
          "output_type": "stream",
          "text": [
            "Name: Omar, Age: 21, ID: S1002\n"
          ]
        }
      ],
      "source": [
        "#using super()\n",
        "class Person:\n",
        "    def __init__(self, name, age):\n",
        "        self.name = name\n",
        "        self.age = age\n",
        "\n",
        "class Student(Person):\n",
        "    def __init__(self, name, age, student_id):\n",
        "      #In the __init__ method, we used super() to call the __init__ method of the parent class Person\n",
        "        super().__init__(name, age)  # Reuse parent constructor\n",
        "        self.student_id = student_id\n",
        "\n",
        "    def show_info(self):\n",
        "        print(f\"Name: {self.name}, Age: {self.age}, ID: {self.student_id}\")\n",
        "\n",
        "# Create student object\n",
        "s2 = Student(\"Omar\", 21, \"S1002\")\n",
        "s2.show_info()\n"
      ]
    },
    {
      "cell_type": "code",
      "execution_count": null,
      "metadata": {
        "colab": {
          "base_uri": "https://localhost:8080/"
        },
        "id": "ADqKfo60JAEU",
        "outputId": "8aef7947-68ea-41ee-c06b-c51fc93b847f"
      },
      "outputs": [
        {
          "name": "stdout",
          "output_type": "stream",
          "text": [
            "Luna sleep\n",
            "Falcon eat\n",
            "Luna 4\n",
            "Luna is running.\n",
            "Dory is swimming.\n",
            "Falcon is flying.\n",
            "Dory eat\n"
          ]
        }
      ],
      "source": [
        "#using super()\n",
        "class Animal:\n",
        "    def __init__(self, name, age):\n",
        "        self.name = name\n",
        "        self.age = age\n",
        "\n",
        "    def eat(self):\n",
        "      print(f\"{self.name} eat\")\n",
        "\n",
        "    def sleep(self):\n",
        "      print(f\"{self.name} sleep\")\n",
        "\n",
        "class Rabbit(Animal):\n",
        "    def __init__(self, name, age):\n",
        "        super().__init__(name, age)\n",
        "\n",
        "    def run(self):\n",
        "        print(f\"{self.name} is running.\")\n",
        "\n",
        "class Fish(Animal):\n",
        "    def __init__(self, name, age):\n",
        "        super().__init__(name, age)\n",
        "\n",
        "    def swim(self):\n",
        "        print(f\"{self.name} is swimming.\")\n",
        "\n",
        "class Hawk(Animal):\n",
        "    def __init__(self, name, age):\n",
        "        super().__init__(name, age)\n",
        "\n",
        "    def fly(self):\n",
        "        print(f\"{self.name} is flying.\")\n",
        "\n",
        "# Test\n",
        "rabbit = Rabbit(\"Luna\", 4)\n",
        "fish = Fish(\"Dory\", 2)\n",
        "hawk = Hawk(\"Falcon\", 5)\n",
        "rabbit.sleep()\n",
        "hawk.eat()\n",
        "print(rabbit.name, rabbit.age)\n",
        "rabbit.run()\n",
        "fish.swim()\n",
        "hawk.fly()\n",
        "fish.eat()\n"
      ]
    },
    {
      "cell_type": "code",
      "execution_count": null,
      "metadata": {
        "colab": {
          "base_uri": "https://localhost:8080/"
        },
        "id": "JEmSThfqOX3c",
        "outputId": "b38e2558-4521-492c-e83a-a4a7a5ee49b6"
      },
      "outputs": [
        {
          "name": "stdout",
          "output_type": "stream",
          "text": [
            "Car Info: 2022, Tesla, Model S\n",
            "The engine is starting\n",
            "Charging the battery to 100 kWh\n",
            "The engine is stopping\n",
            "\n",
            "\n",
            "Car Info: 2019, Chevrolet, Malibu\n",
            "The engine is starting\n",
            "Refueling the tank to 50 liters\n",
            "The engine is stopping\n"
          ]
        }
      ],
      "source": [
        "class Car:\n",
        "    def __init__(self, make, model, year):\n",
        "        self.make = make\n",
        "        self.model = model\n",
        "        self.year = year\n",
        "\n",
        "    def start_engine(self):\n",
        "        print(\"The engine is starting\")\n",
        "\n",
        "    def stop_engine(self):\n",
        "        print(\"The engine is stopping\")\n",
        "\n",
        "    def display_info(self):\n",
        "        print(f\"Car Info: {self.year}, {self.make}, {self.model}\")\n",
        "\n",
        "\n",
        "class ElectricCar(Car):\n",
        "    def __init__(self, make, model, year, battery_capacity):\n",
        "        super().__init__(make, model, year)\n",
        "        self.battery_capacity = battery_capacity\n",
        "\n",
        "    def charge_battery(self):\n",
        "        print(f\"Charging the battery to {self.battery_capacity} kWh\")\n",
        "\n",
        "\n",
        "class GasolineCar(Car):\n",
        "    def __init__(self, make, model, year, fuel_tank_capacity):\n",
        "        super().__init__(make, model, year)\n",
        "        self.fuel_tank_capacity = fuel_tank_capacity\n",
        "\n",
        "    def refuel_tank(self):\n",
        "        print(f\"Refueling the tank to {self.fuel_tank_capacity} liters\")\n",
        "\n",
        "\n",
        "\n",
        "Electrical = ElectricCar(\"Tesla\", \"Model S\", 2022, 100)\n",
        "Electrical.display_info()\n",
        "Electrical.start_engine()\n",
        "Electrical.charge_battery()\n",
        "Electrical.stop_engine()\n",
        "\n",
        "print(\"\\n\")\n",
        "\n",
        "Gasoline = GasolineCar(\"Chevrolet\", \"Malibu\", 2019, 50)\n",
        "Gasoline.display_info()\n",
        "Gasoline.start_engine()\n",
        "Gasoline.refuel_tank()\n",
        "Gasoline.stop_engine()\n"
      ]
    },
    {
      "cell_type": "markdown",
      "metadata": {
        "id": "oiaWA54Tnx4s"
      },
      "source": [
        "- self.name = name // public\n",
        "- self._name = name // protected\n",
        "- self.__name = name // private"
      ]
    },
    {
      "cell_type": "code",
      "execution_count": null,
      "metadata": {
        "colab": {
          "base_uri": "https://localhost:8080/"
        },
        "id": "rzGMsM9Ll63o",
        "outputId": "a6f4a177-2308-491a-d6ea-b26da8cd6a41"
      },
      "outputs": [
        {
          "output_type": "stream",
          "name": "stdout",
          "text": [
            "animal name Tommy, its age 10, has sound woof\n",
            "Bubby makes a sound. Bubby barks.\n"
          ]
        }
      ],
      "source": [
        "class Animal:\n",
        "    def __init__(self, name, age):\n",
        "        self._name = name\n",
        "        self._age = age\n",
        "\n",
        "    def displayinfo(self):\n",
        "        return f\"animal name {self._name}, its age {self._age}\"\n",
        "\n",
        "    def speak(self):\n",
        "        return f\"{self._name} makes a sound\"\n",
        "\n",
        "\n",
        "class Dog(Animal):\n",
        "    def __init__(self, name, age, sound):\n",
        "        super().__init__(name, age)\n",
        "        self.sound = sound\n",
        "\n",
        "    def displayinfo(self):\n",
        "        return f\"animal name {self._name}, its age {self._age}, has sound {self.sound}\"\n",
        "\n",
        "    def speak(self):\n",
        "        parentspeak = super().speak()\n",
        "        return f\"{parentspeak}. {self._name} barks.\"\n",
        "\n",
        "\n",
        "myanimal = Dog(\"Tommy\", 10, \"woof\")\n",
        "print(myanimal.displayinfo())\n",
        "\n",
        "dog = Dog(\"Bubby\", 5, \"bark\")\n",
        "print(dog.speak())\n"
      ]
    }
  ],
  "metadata": {
    "colab": {
      "provenance": []
    },
    "kernelspec": {
      "display_name": "Python 3",
      "name": "python3"
    },
    "language_info": {
      "name": "python"
    }
  },
  "nbformat": 4,
  "nbformat_minor": 0
}