{
  "nbformat": 4,
  "nbformat_minor": 0,
  "metadata": {
    "colab": {
      "provenance": []
    },
    "kernelspec": {
      "name": "python3",
      "display_name": "Python 3"
    },
    "language_info": {
      "name": "python"
    }
  },
  "cells": [
    {
      "cell_type": "code",
      "execution_count": 1,
      "metadata": {
        "colab": {
          "base_uri": "https://localhost:8080/"
        },
        "collapsed": true,
        "id": "ASI48Rhr47h3",
        "outputId": "9867f0ca-0e05-44b9-c34d-7047ae5fa07c"
      },
      "outputs": [
        {
          "output_type": "stream",
          "name": "stdout",
          "text": [
            "Collecting pymysql\n",
            "  Downloading PyMySQL-1.1.1-py3-none-any.whl.metadata (4.4 kB)\n",
            "Requirement already satisfied: pandas in /usr/local/lib/python3.11/dist-packages (2.2.2)\n",
            "Requirement already satisfied: numpy>=1.23.2 in /usr/local/lib/python3.11/dist-packages (from pandas) (2.0.2)\n",
            "Requirement already satisfied: python-dateutil>=2.8.2 in /usr/local/lib/python3.11/dist-packages (from pandas) (2.9.0.post0)\n",
            "Requirement already satisfied: pytz>=2020.1 in /usr/local/lib/python3.11/dist-packages (from pandas) (2025.2)\n",
            "Requirement already satisfied: tzdata>=2022.7 in /usr/local/lib/python3.11/dist-packages (from pandas) (2025.2)\n",
            "Requirement already satisfied: six>=1.5 in /usr/local/lib/python3.11/dist-packages (from python-dateutil>=2.8.2->pandas) (1.17.0)\n",
            "Downloading PyMySQL-1.1.1-py3-none-any.whl (44 kB)\n",
            "\u001b[2K   \u001b[90m━━━━━━━━━━━━━━━━━━━━━━━━━━━━━━━━━━━━━━━━\u001b[0m \u001b[32m45.0/45.0 kB\u001b[0m \u001b[31m1.5 MB/s\u001b[0m eta \u001b[36m0:00:00\u001b[0m\n",
            "\u001b[?25hInstalling collected packages: pymysql\n",
            "Successfully installed pymysql-1.1.1\n"
          ]
        }
      ],
      "source": [
        "pip install pymysql pandas"
      ]
    },
    {
      "cell_type": "code",
      "source": [
        "# Step 1: Install MySQL Server\n",
        "!apt-get update\n",
        "!apt-get install -y mysql-server\n",
        "\n",
        "# Step 2: Start the MySQL service\n",
        "!service mysql start\n",
        "\n",
        "# Step 3: Set up a sample MySQL database and user\n",
        "!mysql -e \"CREATE DATABASE colab_db;\"  # Create a new database named 'colab_db'\n",
        "!mysql -e \"CREATE USER 'colab_user'@'localhost' IDENTIFIED BY 'password';\"  # Create a new user\n",
        "!mysql -e \"GRANT ALL PRIVILEGES ON colab_db.* TO 'colab_user'@'localhost';\"  # Grant all privileges to the user\n",
        "!mysql -e \"FLUSH PRIVILEGES;\"  # Refresh privileges\n"
      ],
      "metadata": {
        "colab": {
          "base_uri": "https://localhost:8080/"
        },
        "collapsed": true,
        "id": "5b54CbBa5KX2",
        "outputId": "d3accbad-c034-40bb-b360-cf9dac86bb55"
      },
      "execution_count": 2,
      "outputs": [
        {
          "output_type": "stream",
          "name": "stdout",
          "text": [
            "Hit:1 http://archive.ubuntu.com/ubuntu jammy InRelease\n",
            "Get:2 http://archive.ubuntu.com/ubuntu jammy-updates InRelease [128 kB]\n",
            "Get:3 https://cloud.r-project.org/bin/linux/ubuntu jammy-cran40/ InRelease [3,632 B]\n",
            "Get:4 https://developer.download.nvidia.com/compute/cuda/repos/ubuntu2204/x86_64  InRelease [1,581 B]\n",
            "Get:5 http://security.ubuntu.com/ubuntu jammy-security InRelease [129 kB]\n",
            "Get:6 http://archive.ubuntu.com/ubuntu jammy-backports InRelease [127 kB]\n",
            "Get:7 https://r2u.stat.illinois.edu/ubuntu jammy InRelease [6,555 B]\n",
            "Hit:8 https://ppa.launchpadcontent.net/deadsnakes/ppa/ubuntu jammy InRelease\n",
            "Get:9 https://ppa.launchpadcontent.net/graphics-drivers/ppa/ubuntu jammy InRelease [24.3 kB]\n",
            "Get:10 https://developer.download.nvidia.com/compute/cuda/repos/ubuntu2204/x86_64  Packages [1,683 kB]\n",
            "Get:11 https://ppa.launchpadcontent.net/ubuntugis/ppa/ubuntu jammy InRelease [24.6 kB]\n",
            "Get:12 http://archive.ubuntu.com/ubuntu jammy-updates/universe amd64 Packages [1,552 kB]\n",
            "Get:13 http://archive.ubuntu.com/ubuntu jammy-updates/restricted amd64 Packages [4,540 kB]\n",
            "Get:14 http://archive.ubuntu.com/ubuntu jammy-updates/main amd64 Packages [3,255 kB]\n",
            "Get:15 http://archive.ubuntu.com/ubuntu jammy-backports/main amd64 Packages [83.2 kB]\n",
            "Get:16 http://archive.ubuntu.com/ubuntu jammy-backports/universe amd64 Packages [35.2 kB]\n",
            "Get:17 https://r2u.stat.illinois.edu/ubuntu jammy/main all Packages [8,968 kB]\n",
            "Get:18 https://r2u.stat.illinois.edu/ubuntu jammy/main amd64 Packages [2,730 kB]\n",
            "Get:19 http://security.ubuntu.com/ubuntu jammy-security/main amd64 Packages [2,944 kB]\n",
            "Get:20 https://ppa.launchpadcontent.net/graphics-drivers/ppa/ubuntu jammy/main amd64 Packages [46.6 kB]\n",
            "Get:21 http://security.ubuntu.com/ubuntu jammy-security/restricted amd64 Packages [4,387 kB]\n",
            "Get:22 https://ppa.launchpadcontent.net/ubuntugis/ppa/ubuntu jammy/main amd64 Packages [75.1 kB]\n",
            "Get:23 http://security.ubuntu.com/ubuntu jammy-security/universe amd64 Packages [1,245 kB]\n",
            "Fetched 32.0 MB in 5s (6,234 kB/s)\n",
            "Reading package lists... Done\n",
            "W: Skipping acquire of configured file 'main/source/Sources' as repository 'https://r2u.stat.illinois.edu/ubuntu jammy InRelease' does not seem to provide it (sources.list entry misspelt?)\n",
            "Reading package lists... Done\n",
            "Building dependency tree... Done\n",
            "Reading state information... Done\n",
            "The following additional packages will be installed:\n",
            "  libcgi-fast-perl libcgi-pm-perl libclone-perl libencode-locale-perl\n",
            "  libfcgi-bin libfcgi-perl libfcgi0ldbl libhtml-parser-perl\n",
            "  libhtml-tagset-perl libhtml-template-perl libhttp-date-perl\n",
            "  libhttp-message-perl libio-html-perl liblwp-mediatypes-perl libmecab2\n",
            "  libprotobuf-lite23 liburi-perl mecab-ipadic mecab-ipadic-utf8 mecab-utils\n",
            "  mysql-client-8.0 mysql-client-core-8.0 mysql-server-8.0\n",
            "  mysql-server-core-8.0\n",
            "Suggested packages:\n",
            "  libdata-dump-perl libipc-sharedcache-perl libbusiness-isbn-perl libwww-perl\n",
            "  mailx tinyca\n",
            "The following NEW packages will be installed:\n",
            "  libcgi-fast-perl libcgi-pm-perl libclone-perl libencode-locale-perl\n",
            "  libfcgi-bin libfcgi-perl libfcgi0ldbl libhtml-parser-perl\n",
            "  libhtml-tagset-perl libhtml-template-perl libhttp-date-perl\n",
            "  libhttp-message-perl libio-html-perl liblwp-mediatypes-perl libmecab2\n",
            "  libprotobuf-lite23 liburi-perl mecab-ipadic mecab-ipadic-utf8 mecab-utils\n",
            "  mysql-client-8.0 mysql-client-core-8.0 mysql-server mysql-server-8.0\n",
            "  mysql-server-core-8.0\n",
            "0 upgraded, 25 newly installed, 0 to remove and 93 not upgraded.\n",
            "Need to get 29.8 MB of archives.\n",
            "After this operation, 243 MB of additional disk space will be used.\n",
            "Get:1 http://archive.ubuntu.com/ubuntu jammy-updates/main amd64 mysql-client-core-8.0 amd64 8.0.42-0ubuntu0.22.04.1 [2,715 kB]\n",
            "Get:2 http://archive.ubuntu.com/ubuntu jammy-updates/main amd64 mysql-client-8.0 amd64 8.0.42-0ubuntu0.22.04.1 [22.7 kB]\n",
            "Get:3 http://archive.ubuntu.com/ubuntu jammy/main amd64 libmecab2 amd64 0.996-14build9 [199 kB]\n",
            "Get:4 http://archive.ubuntu.com/ubuntu jammy-updates/main amd64 libprotobuf-lite23 amd64 3.12.4-1ubuntu7.22.04.2 [209 kB]\n",
            "Get:5 http://archive.ubuntu.com/ubuntu jammy-updates/main amd64 mysql-server-core-8.0 amd64 8.0.42-0ubuntu0.22.04.1 [17.8 MB]\n",
            "Get:6 http://archive.ubuntu.com/ubuntu jammy-updates/main amd64 mysql-server-8.0 amd64 8.0.42-0ubuntu0.22.04.1 [1,446 kB]\n",
            "Get:7 http://archive.ubuntu.com/ubuntu jammy/main amd64 libhtml-tagset-perl all 3.20-4 [12.5 kB]\n",
            "Get:8 http://archive.ubuntu.com/ubuntu jammy/main amd64 liburi-perl all 5.10-1 [78.8 kB]\n",
            "Get:9 http://archive.ubuntu.com/ubuntu jammy/main amd64 libhtml-parser-perl amd64 3.76-1build2 [88.4 kB]\n",
            "Get:10 http://archive.ubuntu.com/ubuntu jammy/main amd64 libcgi-pm-perl all 4.54-1 [188 kB]\n",
            "Get:11 http://archive.ubuntu.com/ubuntu jammy-updates/main amd64 libfcgi0ldbl amd64 2.4.2-2ubuntu0.1 [28.1 kB]\n",
            "Get:12 http://archive.ubuntu.com/ubuntu jammy/main amd64 libfcgi-perl amd64 0.82+ds-1build1 [22.8 kB]\n",
            "Get:13 http://archive.ubuntu.com/ubuntu jammy/main amd64 libcgi-fast-perl all 1:2.15-1 [10.5 kB]\n",
            "Get:14 http://archive.ubuntu.com/ubuntu jammy/main amd64 libclone-perl amd64 0.45-1build3 [11.0 kB]\n",
            "Get:15 http://archive.ubuntu.com/ubuntu jammy/main amd64 libencode-locale-perl all 1.05-1.1 [11.8 kB]\n",
            "Get:16 http://archive.ubuntu.com/ubuntu jammy-updates/main amd64 libfcgi-bin amd64 2.4.2-2ubuntu0.1 [11.1 kB]\n",
            "Get:17 http://archive.ubuntu.com/ubuntu jammy/main amd64 libhtml-template-perl all 2.97-1.1 [59.1 kB]\n",
            "Get:18 http://archive.ubuntu.com/ubuntu jammy/main amd64 libhttp-date-perl all 6.05-1 [9,920 B]\n",
            "Get:19 http://archive.ubuntu.com/ubuntu jammy/main amd64 libio-html-perl all 1.004-2 [15.4 kB]\n",
            "Get:20 http://archive.ubuntu.com/ubuntu jammy/main amd64 liblwp-mediatypes-perl all 6.04-1 [19.5 kB]\n",
            "Get:21 http://archive.ubuntu.com/ubuntu jammy/main amd64 libhttp-message-perl all 6.36-1 [76.8 kB]\n",
            "Get:22 http://archive.ubuntu.com/ubuntu jammy/main amd64 mecab-utils amd64 0.996-14build9 [4,850 B]\n",
            "Get:23 http://archive.ubuntu.com/ubuntu jammy/main amd64 mecab-ipadic all 2.7.0-20070801+main-3 [6,718 kB]\n",
            "Get:24 http://archive.ubuntu.com/ubuntu jammy/main amd64 mecab-ipadic-utf8 all 2.7.0-20070801+main-3 [4,384 B]\n",
            "Get:25 http://archive.ubuntu.com/ubuntu jammy-updates/main amd64 mysql-server all 8.0.42-0ubuntu0.22.04.1 [9,462 B]\n",
            "Fetched 29.8 MB in 1s (37.1 MB/s)\n",
            "Preconfiguring packages ...\n",
            "Selecting previously unselected package mysql-client-core-8.0.\n",
            "(Reading database ... 126102 files and directories currently installed.)\n",
            "Preparing to unpack .../00-mysql-client-core-8.0_8.0.42-0ubuntu0.22.04.1_amd64.deb ...\n",
            "Unpacking mysql-client-core-8.0 (8.0.42-0ubuntu0.22.04.1) ...\n",
            "Selecting previously unselected package mysql-client-8.0.\n",
            "Preparing to unpack .../01-mysql-client-8.0_8.0.42-0ubuntu0.22.04.1_amd64.deb ...\n",
            "Unpacking mysql-client-8.0 (8.0.42-0ubuntu0.22.04.1) ...\n",
            "Selecting previously unselected package libmecab2:amd64.\n",
            "Preparing to unpack .../02-libmecab2_0.996-14build9_amd64.deb ...\n",
            "Unpacking libmecab2:amd64 (0.996-14build9) ...\n",
            "Selecting previously unselected package libprotobuf-lite23:amd64.\n",
            "Preparing to unpack .../03-libprotobuf-lite23_3.12.4-1ubuntu7.22.04.2_amd64.deb ...\n",
            "Unpacking libprotobuf-lite23:amd64 (3.12.4-1ubuntu7.22.04.2) ...\n",
            "Selecting previously unselected package mysql-server-core-8.0.\n",
            "Preparing to unpack .../04-mysql-server-core-8.0_8.0.42-0ubuntu0.22.04.1_amd64.deb ...\n",
            "Unpacking mysql-server-core-8.0 (8.0.42-0ubuntu0.22.04.1) ...\n",
            "Selecting previously unselected package mysql-server-8.0.\n",
            "Preparing to unpack .../05-mysql-server-8.0_8.0.42-0ubuntu0.22.04.1_amd64.deb ...\n",
            "Unpacking mysql-server-8.0 (8.0.42-0ubuntu0.22.04.1) ...\n",
            "Selecting previously unselected package libhtml-tagset-perl.\n",
            "Preparing to unpack .../06-libhtml-tagset-perl_3.20-4_all.deb ...\n",
            "Unpacking libhtml-tagset-perl (3.20-4) ...\n",
            "Selecting previously unselected package liburi-perl.\n",
            "Preparing to unpack .../07-liburi-perl_5.10-1_all.deb ...\n",
            "Unpacking liburi-perl (5.10-1) ...\n",
            "Selecting previously unselected package libhtml-parser-perl:amd64.\n",
            "Preparing to unpack .../08-libhtml-parser-perl_3.76-1build2_amd64.deb ...\n",
            "Unpacking libhtml-parser-perl:amd64 (3.76-1build2) ...\n",
            "Selecting previously unselected package libcgi-pm-perl.\n",
            "Preparing to unpack .../09-libcgi-pm-perl_4.54-1_all.deb ...\n",
            "Unpacking libcgi-pm-perl (4.54-1) ...\n",
            "Selecting previously unselected package libfcgi0ldbl:amd64.\n",
            "Preparing to unpack .../10-libfcgi0ldbl_2.4.2-2ubuntu0.1_amd64.deb ...\n",
            "Unpacking libfcgi0ldbl:amd64 (2.4.2-2ubuntu0.1) ...\n",
            "Selecting previously unselected package libfcgi-perl:amd64.\n",
            "Preparing to unpack .../11-libfcgi-perl_0.82+ds-1build1_amd64.deb ...\n",
            "Unpacking libfcgi-perl:amd64 (0.82+ds-1build1) ...\n",
            "Selecting previously unselected package libcgi-fast-perl.\n",
            "Preparing to unpack .../12-libcgi-fast-perl_1%3a2.15-1_all.deb ...\n",
            "Unpacking libcgi-fast-perl (1:2.15-1) ...\n",
            "Selecting previously unselected package libclone-perl.\n",
            "Preparing to unpack .../13-libclone-perl_0.45-1build3_amd64.deb ...\n",
            "Unpacking libclone-perl (0.45-1build3) ...\n",
            "Selecting previously unselected package libencode-locale-perl.\n",
            "Preparing to unpack .../14-libencode-locale-perl_1.05-1.1_all.deb ...\n",
            "Unpacking libencode-locale-perl (1.05-1.1) ...\n",
            "Selecting previously unselected package libfcgi-bin.\n",
            "Preparing to unpack .../15-libfcgi-bin_2.4.2-2ubuntu0.1_amd64.deb ...\n",
            "Unpacking libfcgi-bin (2.4.2-2ubuntu0.1) ...\n",
            "Selecting previously unselected package libhtml-template-perl.\n",
            "Preparing to unpack .../16-libhtml-template-perl_2.97-1.1_all.deb ...\n",
            "Unpacking libhtml-template-perl (2.97-1.1) ...\n",
            "Selecting previously unselected package libhttp-date-perl.\n",
            "Preparing to unpack .../17-libhttp-date-perl_6.05-1_all.deb ...\n",
            "Unpacking libhttp-date-perl (6.05-1) ...\n",
            "Selecting previously unselected package libio-html-perl.\n",
            "Preparing to unpack .../18-libio-html-perl_1.004-2_all.deb ...\n",
            "Unpacking libio-html-perl (1.004-2) ...\n",
            "Selecting previously unselected package liblwp-mediatypes-perl.\n",
            "Preparing to unpack .../19-liblwp-mediatypes-perl_6.04-1_all.deb ...\n",
            "Unpacking liblwp-mediatypes-perl (6.04-1) ...\n",
            "Selecting previously unselected package libhttp-message-perl.\n",
            "Preparing to unpack .../20-libhttp-message-perl_6.36-1_all.deb ...\n",
            "Unpacking libhttp-message-perl (6.36-1) ...\n",
            "Selecting previously unselected package mecab-utils.\n",
            "Preparing to unpack .../21-mecab-utils_0.996-14build9_amd64.deb ...\n",
            "Unpacking mecab-utils (0.996-14build9) ...\n",
            "Selecting previously unselected package mecab-ipadic.\n",
            "Preparing to unpack .../22-mecab-ipadic_2.7.0-20070801+main-3_all.deb ...\n",
            "Unpacking mecab-ipadic (2.7.0-20070801+main-3) ...\n",
            "Selecting previously unselected package mecab-ipadic-utf8.\n",
            "Preparing to unpack .../23-mecab-ipadic-utf8_2.7.0-20070801+main-3_all.deb ...\n",
            "Unpacking mecab-ipadic-utf8 (2.7.0-20070801+main-3) ...\n",
            "Selecting previously unselected package mysql-server.\n",
            "Preparing to unpack .../24-mysql-server_8.0.42-0ubuntu0.22.04.1_all.deb ...\n",
            "Unpacking mysql-server (8.0.42-0ubuntu0.22.04.1) ...\n",
            "Setting up libhttp-date-perl (6.05-1) ...\n",
            "Setting up libmecab2:amd64 (0.996-14build9) ...\n",
            "Setting up mysql-client-core-8.0 (8.0.42-0ubuntu0.22.04.1) ...\n",
            "Setting up libfcgi0ldbl:amd64 (2.4.2-2ubuntu0.1) ...\n",
            "Setting up libclone-perl (0.45-1build3) ...\n",
            "Setting up libhtml-tagset-perl (3.20-4) ...\n",
            "Setting up liblwp-mediatypes-perl (6.04-1) ...\n",
            "Setting up libfcgi-bin (2.4.2-2ubuntu0.1) ...\n",
            "Setting up libencode-locale-perl (1.05-1.1) ...\n",
            "Setting up libprotobuf-lite23:amd64 (3.12.4-1ubuntu7.22.04.2) ...\n",
            "Setting up mecab-utils (0.996-14build9) ...\n",
            "Setting up libio-html-perl (1.004-2) ...\n",
            "Setting up mysql-server-core-8.0 (8.0.42-0ubuntu0.22.04.1) ...\n",
            "Setting up mysql-client-8.0 (8.0.42-0ubuntu0.22.04.1) ...\n",
            "Setting up libfcgi-perl:amd64 (0.82+ds-1build1) ...\n",
            "Setting up liburi-perl (5.10-1) ...\n",
            "Setting up libhttp-message-perl (6.36-1) ...\n",
            "Setting up mysql-server-8.0 (8.0.42-0ubuntu0.22.04.1) ...\n",
            "invoke-rc.d: could not determine current runlevel\n",
            "invoke-rc.d: policy-rc.d denied execution of stop.\n",
            "update-alternatives: using /etc/mysql/mysql.cnf to provide /etc/mysql/my.cnf (my.cnf) in auto mode\n",
            "Renaming removed key_buffer and myisam-recover options (if present)\n",
            "mysqld will log errors to /var/log/mysql/error.log\n",
            "mysqld is running as pid 2044\n",
            "Created symlink /etc/systemd/system/multi-user.target.wants/mysql.service → /lib/systemd/system/mysql.service.\n",
            "invoke-rc.d: could not determine current runlevel\n",
            "invoke-rc.d: policy-rc.d denied execution of start.\n",
            "Setting up mecab-ipadic (2.7.0-20070801+main-3) ...\n",
            "Compiling IPA dictionary for Mecab.  This takes long time...\n",
            "reading /usr/share/mecab/dic/ipadic/unk.def ... 40\n",
            "emitting double-array: 100% |###########################################| \n",
            "/usr/share/mecab/dic/ipadic/model.def is not found. skipped.\n",
            "reading /usr/share/mecab/dic/ipadic/Noun.adverbal.csv ... 795\n",
            "reading /usr/share/mecab/dic/ipadic/Noun.others.csv ... 151\n",
            "reading /usr/share/mecab/dic/ipadic/Adverb.csv ... 3032\n",
            "reading /usr/share/mecab/dic/ipadic/Noun.number.csv ... 42\n",
            "reading /usr/share/mecab/dic/ipadic/Symbol.csv ... 208\n",
            "reading /usr/share/mecab/dic/ipadic/Suffix.csv ... 1393\n",
            "reading /usr/share/mecab/dic/ipadic/Noun.place.csv ... 72999\n",
            "reading /usr/share/mecab/dic/ipadic/Adj.csv ... 27210\n",
            "reading /usr/share/mecab/dic/ipadic/Postp.csv ... 146\n",
            "reading /usr/share/mecab/dic/ipadic/Verb.csv ... 130750\n",
            "reading /usr/share/mecab/dic/ipadic/Interjection.csv ... 252\n",
            "reading /usr/share/mecab/dic/ipadic/Prefix.csv ... 221\n",
            "reading /usr/share/mecab/dic/ipadic/Noun.csv ... 60477\n",
            "reading /usr/share/mecab/dic/ipadic/Noun.verbal.csv ... 12146\n",
            "reading /usr/share/mecab/dic/ipadic/Noun.name.csv ... 34202\n",
            "reading /usr/share/mecab/dic/ipadic/Adnominal.csv ... 135\n",
            "reading /usr/share/mecab/dic/ipadic/Conjunction.csv ... 171\n",
            "reading /usr/share/mecab/dic/ipadic/Noun.adjv.csv ... 3328\n",
            "reading /usr/share/mecab/dic/ipadic/Noun.proper.csv ... 27328\n",
            "reading /usr/share/mecab/dic/ipadic/Others.csv ... 2\n",
            "reading /usr/share/mecab/dic/ipadic/Auxil.csv ... 199\n",
            "reading /usr/share/mecab/dic/ipadic/Postp-col.csv ... 91\n",
            "reading /usr/share/mecab/dic/ipadic/Noun.demonst.csv ... 120\n",
            "reading /usr/share/mecab/dic/ipadic/Noun.org.csv ... 16668\n",
            "reading /usr/share/mecab/dic/ipadic/Noun.nai.csv ... 42\n",
            "reading /usr/share/mecab/dic/ipadic/Filler.csv ... 19\n",
            "emitting double-array: 100% |###########################################| \n",
            "reading /usr/share/mecab/dic/ipadic/matrix.def ... 1316x1316\n",
            "emitting matrix      : 100% |###########################################| \n",
            "\n",
            "done!\n",
            "update-alternatives: using /var/lib/mecab/dic/ipadic to provide /var/lib/mecab/dic/debian (mecab-dictionary) in auto mode\n",
            "Setting up mecab-ipadic-utf8 (2.7.0-20070801+main-3) ...\n",
            "Compiling IPA dictionary for Mecab.  This takes long time...\n",
            "reading /usr/share/mecab/dic/ipadic/unk.def ... 40\n",
            "emitting double-array: 100% |###########################################| \n",
            "/usr/share/mecab/dic/ipadic/model.def is not found. skipped.\n",
            "reading /usr/share/mecab/dic/ipadic/Noun.adverbal.csv ... 795\n",
            "reading /usr/share/mecab/dic/ipadic/Noun.others.csv ... 151\n",
            "reading /usr/share/mecab/dic/ipadic/Adverb.csv ... 3032\n",
            "reading /usr/share/mecab/dic/ipadic/Noun.number.csv ... 42\n",
            "reading /usr/share/mecab/dic/ipadic/Symbol.csv ... 208\n",
            "reading /usr/share/mecab/dic/ipadic/Suffix.csv ... 1393\n",
            "reading /usr/share/mecab/dic/ipadic/Noun.place.csv ... 72999\n",
            "reading /usr/share/mecab/dic/ipadic/Adj.csv ... 27210\n",
            "reading /usr/share/mecab/dic/ipadic/Postp.csv ... 146\n",
            "reading /usr/share/mecab/dic/ipadic/Verb.csv ... 130750\n",
            "reading /usr/share/mecab/dic/ipadic/Interjection.csv ... 252\n",
            "reading /usr/share/mecab/dic/ipadic/Prefix.csv ... 221\n",
            "reading /usr/share/mecab/dic/ipadic/Noun.csv ... 60477\n",
            "reading /usr/share/mecab/dic/ipadic/Noun.verbal.csv ... 12146\n",
            "reading /usr/share/mecab/dic/ipadic/Noun.name.csv ... 34202\n",
            "reading /usr/share/mecab/dic/ipadic/Adnominal.csv ... 135\n",
            "reading /usr/share/mecab/dic/ipadic/Conjunction.csv ... 171\n",
            "reading /usr/share/mecab/dic/ipadic/Noun.adjv.csv ... 3328\n",
            "reading /usr/share/mecab/dic/ipadic/Noun.proper.csv ... 27328\n",
            "reading /usr/share/mecab/dic/ipadic/Others.csv ... 2\n",
            "reading /usr/share/mecab/dic/ipadic/Auxil.csv ... 199\n",
            "reading /usr/share/mecab/dic/ipadic/Postp-col.csv ... 91\n",
            "reading /usr/share/mecab/dic/ipadic/Noun.demonst.csv ... 120\n",
            "reading /usr/share/mecab/dic/ipadic/Noun.org.csv ... 16668\n",
            "reading /usr/share/mecab/dic/ipadic/Noun.nai.csv ... 42\n",
            "reading /usr/share/mecab/dic/ipadic/Filler.csv ... 19\n",
            "emitting double-array: 100% |###########################################| \n",
            "reading /usr/share/mecab/dic/ipadic/matrix.def ... 1316x1316\n",
            "emitting matrix      : 100% |###########################################| \n",
            "\n",
            "done!\n",
            "update-alternatives: using /var/lib/mecab/dic/ipadic-utf8 to provide /var/lib/mecab/dic/debian (mecab-dictionary) in auto mode\n",
            "Setting up libhtml-parser-perl:amd64 (3.76-1build2) ...\n",
            "Setting up mysql-server (8.0.42-0ubuntu0.22.04.1) ...\n",
            "Setting up libcgi-pm-perl (4.54-1) ...\n",
            "Setting up libhtml-template-perl (2.97-1.1) ...\n",
            "Setting up libcgi-fast-perl (1:2.15-1) ...\n",
            "Processing triggers for man-db (2.10.2-1) ...\n",
            "Processing triggers for libc-bin (2.35-0ubuntu3.8) ...\n",
            "/sbin/ldconfig.real: /usr/local/lib/libumf.so.0 is not a symbolic link\n",
            "\n",
            "/sbin/ldconfig.real: /usr/local/lib/libtcm_debug.so.1 is not a symbolic link\n",
            "\n",
            "/sbin/ldconfig.real: /usr/local/lib/libtbbbind.so.3 is not a symbolic link\n",
            "\n",
            "/sbin/ldconfig.real: /usr/local/lib/libhwloc.so.15 is not a symbolic link\n",
            "\n",
            "/sbin/ldconfig.real: /usr/local/lib/libtbbbind_2_5.so.3 is not a symbolic link\n",
            "\n",
            "/sbin/ldconfig.real: /usr/local/lib/libtbb.so.12 is not a symbolic link\n",
            "\n",
            "/sbin/ldconfig.real: /usr/local/lib/libur_adapter_level_zero.so.0 is not a symbolic link\n",
            "\n",
            "/sbin/ldconfig.real: /usr/local/lib/libtbbmalloc.so.2 is not a symbolic link\n",
            "\n",
            "/sbin/ldconfig.real: /usr/local/lib/libtbbbind_2_0.so.3 is not a symbolic link\n",
            "\n",
            "/sbin/ldconfig.real: /usr/local/lib/libtcm.so.1 is not a symbolic link\n",
            "\n",
            "/sbin/ldconfig.real: /usr/local/lib/libur_adapter_opencl.so.0 is not a symbolic link\n",
            "\n",
            "/sbin/ldconfig.real: /usr/local/lib/libtbbmalloc_proxy.so.2 is not a symbolic link\n",
            "\n",
            "/sbin/ldconfig.real: /usr/local/lib/libur_loader.so.0 is not a symbolic link\n",
            "\n",
            " * Starting MySQL database server mysqld\n",
            "su: warning: cannot change directory to /nonexistent: No such file or directory\n",
            "   ...done.\n"
          ]
        }
      ]
    },
    {
      "cell_type": "code",
      "source": [
        "# Step 4: Python code to connect to the MySQL server\n",
        "import pymysql\n",
        "\n",
        "try:\n",
        "    # Connect to the MySQL server running in Colab\n",
        "    connection = pymysql.connect(\n",
        "        host='127.0.0.1',\n",
        "        port=3306,\n",
        "        user='colab_user',  # User created earlier\n",
        "        password='password',  # Password created earlier\n",
        "        database='colab_db'  # Database created earlier\n",
        "    )\n",
        "    print(\"Connected to the database!\")\n",
        "\n",
        "    # Step 5: Create a cursor to execute queries\n",
        "    cursor = connection.cursor()\n",
        "\n",
        "    # Example: Create a table\n",
        "    cursor.execute(\"CREATE TABLE IF NOT EXISTS users (id INT, name VARCHAR(255))\")\n",
        "    print(\"Table created or already exists.\")\n",
        "\n",
        "    # Example: Insert data into the table\n",
        "    cursor.execute(\"INSERT INTO users (id, name) VALUES (1, 'John Doe')\")\n",
        "    connection.commit()\n",
        "    print(\"Data inserted!\")\n",
        "\n",
        "    # Example: Query data from the table\n",
        "    cursor.execute(\"SELECT * FROM users\")\n",
        "    results = cursor.fetchall()\n",
        "    print(\"Query Results:\", results)\n",
        "\n",
        "except pymysql.MySQLError as e:\n",
        "    print(\"Error:\", e)\n",
        "\n",
        "finally:\n",
        "    if connection:\n",
        "        connection.close()\n",
        "        print(\"Connection closed.\")"
      ],
      "metadata": {
        "colab": {
          "base_uri": "https://localhost:8080/"
        },
        "id": "VzAG3kHs9Um6",
        "outputId": "9451cbdd-34a5-449e-c7a2-b946895cbabc"
      },
      "execution_count": 4,
      "outputs": [
        {
          "output_type": "stream",
          "name": "stdout",
          "text": [
            "Connected to the database!\n",
            "Table created or already exists.\n",
            "Data inserted!\n",
            "Query Results: ((1, 'John Doe'), (1, 'John Doe'))\n",
            "Connection closed.\n"
          ]
        }
      ]
    },
    {
      "cell_type": "markdown",
      "source": [
        "# Hands On Activity! SQL in Python!!"
      ],
      "metadata": {
        "id": "RJopjRfm9roM"
      }
    },
    {
      "cell_type": "markdown",
      "source": [
        "### **Exercise 1: Create Tables**\n",
        "\n",
        "1. Create a table named `products` with the following columns:\n",
        "\n",
        "   * `product_id`: INT (Primary Key)\n",
        "   * `product_name`: VARCHAR(255)\n",
        "   * `price`: DECIMAL(10, 2)\n",
        "\n",
        "2. Create a table named `categories` with the following columns:\n",
        "\n",
        "   * `category_id`: INT (Primary Key)\n",
        "   * `category_name`: VARCHAR(255)\n",
        "\n",
        "3. Create a table named `product_categories` to represent the many-to-many relationship between `products` and `categories`:\n",
        "\n",
        "   * `product_id`: INT (Foreign Key)\n",
        "   * `category_id`: INT (Foreign Key)\n",
        "\n",
        "---\n",
        "\n",
        "### **Exercise 2: Insert Data**\n",
        "\n",
        "1. Insert at least 5 products into the `products` table with various prices.\n",
        "2. Insert at least 3 categories into the `categories` table.\n",
        "3. Associate each product with one or more categories in the `product_categories` table.\n",
        "\n",
        "---\n",
        "\n",
        "### **Exercise 3: Write Queries**\n",
        "\n",
        "1. Retrieve all products with their prices.\n",
        "2. Retrieve all categories and their associated products.\n",
        "3. Find the most expensive product in each category.\n",
        "4. Calculate the total number of products in each category.\n",
        "5. Find categories that don’t have any products.\n",
        "\n",
        "---\n",
        "\n",
        "### **Exercise 4: Modify Data**\n",
        "\n",
        "1. Update the price of a specific product.\n",
        "2. Delete a product and ensure its relationships in `product_categories` are also removed.\n",
        "\n",
        "---\n",
        "\n",
        "### **Exercise 5: Advanced Queries**\n",
        "\n",
        "1. Write a query to find the top 3 most expensive products.\n",
        "2. Retrieve products with prices above the average product price.\n",
        "3. Create a stored procedure to add a new product along with its category associations.\n"
      ],
      "metadata": {
        "id": "fdT2pP4g9vGL"
      }
    },
    {
      "cell_type": "code",
      "source": [
        "# EX : 1\n",
        "\n",
        "import sqlite3\n",
        "\n",
        "# Connect to SQLite database (in-memory for testing)\n",
        "conn = sqlite3.connect(':memory:')\n",
        "cursor = conn.cursor()\n",
        "\n",
        "# Enable foreign key constraint enforcement\n",
        "cursor.execute(\"PRAGMA foreign_keys = ON;\")\n",
        "\n",
        "# Create products table\n",
        "cursor.execute('''\n",
        "CREATE TABLE products (\n",
        "    product_id INTEGER PRIMARY KEY,\n",
        "    product_name VARCHAR(255),\n",
        "    price DECIMAL(10, 2)\n",
        ")\n",
        "''')\n",
        "\n",
        "# Create categories table\n",
        "cursor.execute('''\n",
        "CREATE TABLE categories (\n",
        "    category_id INTEGER PRIMARY KEY,\n",
        "    category_name VARCHAR(255)\n",
        ")\n",
        "''')\n",
        "\n",
        "# Create product_categories table for many-to-many relationship\n",
        "cursor.execute('''\n",
        "CREATE TABLE product_categories (\n",
        "    product_id INTEGER,\n",
        "    category_id INTEGER,\n",
        "    FOREIGN KEY (product_id) REFERENCES products(product_id),\n",
        "    FOREIGN KEY (category_id) REFERENCES categories(category_id)\n",
        ")\n",
        "''')\n",
        "\n",
        "print(\"Tables created successfully.\")\n"
      ],
      "metadata": {
        "id": "DLthi9pd9eWu",
        "outputId": "68845a49-efcc-46d4-ca2d-3bdfb29ed89d",
        "colab": {
          "base_uri": "https://localhost:8080/"
        }
      },
      "execution_count": 6,
      "outputs": [
        {
          "output_type": "stream",
          "name": "stdout",
          "text": [
            "Tables created successfully.\n"
          ]
        }
      ]
    },
    {
      "cell_type": "code",
      "source": [
        "# EX : 2\n",
        "\n",
        "# Insert data into products table\n",
        "products_data = [\n",
        "    (1, 'Laptop', 1200.00),\n",
        "    (2, 'Smartphone', 800.00),\n",
        "    (3, 'Keyboard', 45.99),\n",
        "    (4, 'Monitor', 200.00),\n",
        "    (5, 'Headphones', 75.50)\n",
        "]\n",
        "cursor.executemany('INSERT INTO products VALUES (?, ?, ?)', products_data)\n",
        "\n",
        "# Insert data into categories table\n",
        "categories_data = [\n",
        "    (1, 'Electronics'),\n",
        "    (2, 'Accessories'),\n",
        "    (3, 'Office Equipment')\n",
        "]\n",
        "cursor.executemany('INSERT INTO categories VALUES (?, ?)', categories_data)\n",
        "\n",
        "# Associate products with categories in product_categories table\n",
        "product_categories_data = [\n",
        "    (1, 1),  # Laptop - Electronics\n",
        "    (2, 1),  # Smartphone - Electronics\n",
        "    (3, 2),  # Keyboard - Accessories\n",
        "    (4, 1),  # Monitor - Electronics\n",
        "    (4, 3),  # Monitor - Office Equipment\n",
        "    (5, 2)   # Headphones - Accessories\n",
        "]\n",
        "cursor.executemany('INSERT INTO product_categories VALUES (?, ?)', product_categories_data)\n",
        "\n",
        "# Commit changes to the database\n",
        "conn.commit()\n",
        "\n",
        "print(\"Data inserted successfully.\")\n"
      ],
      "metadata": {
        "id": "X2e_ZZuE99Vr",
        "outputId": "556d3fa8-f970-4a6f-e803-691e5b890da1",
        "colab": {
          "base_uri": "https://localhost:8080/"
        }
      },
      "execution_count": 7,
      "outputs": [
        {
          "output_type": "stream",
          "name": "stdout",
          "text": [
            "Data inserted successfully.\n"
          ]
        }
      ]
    },
    {
      "cell_type": "code",
      "source": [
        "print(\"\\nProducts:\")\n",
        "for row in cursor.execute('SELECT * FROM products'):\n",
        "    print(row)\n",
        "\n",
        "print(\"\\nCategories:\")\n",
        "for row in cursor.execute('SELECT * FROM categories'):\n",
        "    print(row)\n",
        "\n",
        "print(\"\\nProduct-Categories:\")\n",
        "for row in cursor.execute('SELECT * FROM product_categories'):\n",
        "    print(row)\n"
      ],
      "metadata": {
        "id": "T25RMOHy-KsA",
        "outputId": "e05242a4-80f1-4521-ac30-9f3a465d4e7e",
        "colab": {
          "base_uri": "https://localhost:8080/"
        }
      },
      "execution_count": 8,
      "outputs": [
        {
          "output_type": "stream",
          "name": "stdout",
          "text": [
            "\n",
            "Products:\n",
            "(1, 'Laptop', 1200)\n",
            "(2, 'Smartphone', 800)\n",
            "(3, 'Keyboard', 45.99)\n",
            "(4, 'Monitor', 200)\n",
            "(5, 'Headphones', 75.5)\n",
            "\n",
            "Categories:\n",
            "(1, 'Electronics')\n",
            "(2, 'Accessories')\n",
            "(3, 'Office Equipment')\n",
            "\n",
            "Product-Categories:\n",
            "(1, 1)\n",
            "(2, 1)\n",
            "(3, 2)\n",
            "(4, 1)\n",
            "(4, 3)\n",
            "(5, 2)\n"
          ]
        }
      ]
    },
    {
      "cell_type": "code",
      "source": [
        "# EX : 3\n",
        "# Retrieve all products with their prices.\n",
        "\n",
        "print(\"All products with prices:\")\n",
        "cursor.execute('''\n",
        "SELECT product_name, price\n",
        "FROM products\n",
        "''')\n",
        "for row in cursor.fetchall():\n",
        "    print(row)\n"
      ],
      "metadata": {
        "id": "3VawfC0w_Am5",
        "outputId": "3cf456cc-b3d6-4b5d-e1e4-1474fa72f414",
        "colab": {
          "base_uri": "https://localhost:8080/"
        }
      },
      "execution_count": 9,
      "outputs": [
        {
          "output_type": "stream",
          "name": "stdout",
          "text": [
            "All products with prices:\n",
            "('Laptop', 1200)\n",
            "('Smartphone', 800)\n",
            "('Keyboard', 45.99)\n",
            "('Monitor', 200)\n",
            "('Headphones', 75.5)\n"
          ]
        }
      ]
    },
    {
      "cell_type": "code",
      "source": [
        "# Retrieve all categories and their associated products.\n",
        "\n",
        "print(\"\\nCategories and their associated products:\")\n",
        "cursor.execute('''\n",
        "SELECT c.category_name, p.product_name\n",
        "FROM categories c\n",
        "JOIN product_categories pc ON c.category_id = pc.category_id\n",
        "JOIN products p ON pc.product_id = p.product_id\n",
        "''')\n",
        "for row in cursor.fetchall():\n",
        "    print(row)\n"
      ],
      "metadata": {
        "id": "IcLh2DHN_Q7a",
        "outputId": "27f6f25d-f0f0-458b-d74e-f7d2ecdd03c4",
        "colab": {
          "base_uri": "https://localhost:8080/"
        }
      },
      "execution_count": 10,
      "outputs": [
        {
          "output_type": "stream",
          "name": "stdout",
          "text": [
            "\n",
            "Categories and their associated products:\n",
            "('Electronics', 'Laptop')\n",
            "('Electronics', 'Smartphone')\n",
            "('Accessories', 'Keyboard')\n",
            "('Electronics', 'Monitor')\n",
            "('Office Equipment', 'Monitor')\n",
            "('Accessories', 'Headphones')\n"
          ]
        }
      ]
    },
    {
      "cell_type": "code",
      "source": [
        "# Find the most expensive product in each category.\n",
        "\n",
        "print(\"\\nMost expensive product in each category:\")\n",
        "cursor.execute('''\n",
        "SELECT c.category_name, p.product_name, MAX(p.price) as max_price\n",
        "FROM categories c\n",
        "JOIN product_categories pc ON c.category_id = pc.category_id\n",
        "JOIN products p ON pc.product_id = p.product_id\n",
        "GROUP BY c.category_id\n",
        "''')\n",
        "for row in cursor.fetchall():\n",
        "    print(row)\n"
      ],
      "metadata": {
        "id": "M3IwEAz8_W8B",
        "outputId": "cb9c30e2-67ae-4b07-f80b-a9a6b301b1c8",
        "colab": {
          "base_uri": "https://localhost:8080/"
        }
      },
      "execution_count": 11,
      "outputs": [
        {
          "output_type": "stream",
          "name": "stdout",
          "text": [
            "\n",
            "Most expensive product in each category:\n",
            "('Electronics', 'Laptop', 1200)\n",
            "('Accessories', 'Headphones', 75.5)\n",
            "('Office Equipment', 'Monitor', 200)\n"
          ]
        }
      ]
    },
    {
      "cell_type": "code",
      "source": [
        "#Calculate the total number of products in each category\n",
        "\n",
        "print(\"\\nTotal number of products in each category:\")\n",
        "cursor.execute('''\n",
        "SELECT c.category_name, COUNT(DISTINCT pc.product_id) as total_products\n",
        "FROM categories c\n",
        "LEFT JOIN product_categories pc ON c.category_id = pc.category_id\n",
        "GROUP BY c.category_id\n",
        "''')\n",
        "for row in cursor.fetchall():\n",
        "    print(row)\n"
      ],
      "metadata": {
        "id": "OY0iwAOB_vDc",
        "outputId": "8c9e31a5-343f-4422-de8f-242f37a74944",
        "colab": {
          "base_uri": "https://localhost:8080/"
        }
      },
      "execution_count": 12,
      "outputs": [
        {
          "output_type": "stream",
          "name": "stdout",
          "text": [
            "\n",
            "Total number of products in each category:\n",
            "('Electronics', 3)\n",
            "('Accessories', 2)\n",
            "('Office Equipment', 1)\n"
          ]
        }
      ]
    },
    {
      "cell_type": "code",
      "source": [
        "#Find categories that don’t have any products\n",
        "\n",
        "print(\"\\nCategories with no associated products:\")\n",
        "cursor.execute('''\n",
        "SELECT c.category_name\n",
        "FROM categories c\n",
        "LEFT JOIN product_categories pc ON c.category_id = pc.category_id\n",
        "WHERE pc.product_id IS NULL\n",
        "''')\n",
        "for row in cursor.fetchall():\n",
        "    print(row)\n"
      ],
      "metadata": {
        "id": "P1lSQY1aALij",
        "outputId": "7ba91c54-18eb-445e-d81e-bcb7e955511e",
        "colab": {
          "base_uri": "https://localhost:8080/"
        }
      },
      "execution_count": 13,
      "outputs": [
        {
          "output_type": "stream",
          "name": "stdout",
          "text": [
            "\n",
            "Categories with no associated products:\n"
          ]
        }
      ]
    },
    {
      "cell_type": "code",
      "source": [
        "# EX : 4\n",
        "# Update the price of a specific product.\n",
        "\n",
        "cursor.execute('''\n",
        "UPDATE products\n",
        "SET price = 1100.00\n",
        "WHERE product_name = 'Laptop'\n",
        "''')\n",
        "conn.commit()\n",
        "\n",
        "print(\"Updated price of Laptop.\")\n"
      ],
      "metadata": {
        "id": "eodhi5duAd-j",
        "outputId": "67ff7848-9da7-4d96-d854-ddafdd6c79a9",
        "colab": {
          "base_uri": "https://localhost:8080/"
        }
      },
      "execution_count": 14,
      "outputs": [
        {
          "output_type": "stream",
          "name": "stdout",
          "text": [
            "Updated price of Laptop.\n"
          ]
        }
      ]
    },
    {
      "cell_type": "code",
      "source": [
        "#Delete a product and ensure its relationships in product_categories are also removed.\n",
        "\n",
        "# Get the product_id of 'Keyboard'\n",
        "cursor.execute(\"SELECT product_id FROM products WHERE product_name = 'Keyboard'\")\n",
        "keyboard_id = cursor.fetchone()\n",
        "\n",
        "if keyboard_id:\n",
        "    keyboard_id = keyboard_id[0]\n",
        "\n",
        "    # Delete related entries in product_categories\n",
        "    cursor.execute('DELETE FROM product_categories WHERE product_id = ?', (keyboard_id,))\n",
        "\n",
        "    # Delete the product itself\n",
        "    cursor.execute('DELETE FROM products WHERE product_id = ?', (keyboard_id,))\n",
        "\n",
        "    conn.commit()\n",
        "    print(\"Deleted 'Keyboard' and its associations.\")\n",
        "else:\n",
        "    print(\"'Keyboard' not found.\")\n"
      ],
      "metadata": {
        "id": "-JM_DFYjAlAw",
        "outputId": "7dbe88ca-1c09-4775-952e-f996f91d2171",
        "colab": {
          "base_uri": "https://localhost:8080/"
        }
      },
      "execution_count": 15,
      "outputs": [
        {
          "output_type": "stream",
          "name": "stdout",
          "text": [
            "Deleted 'Keyboard' and its associations.\n"
          ]
        }
      ]
    },
    {
      "cell_type": "code",
      "source": [
        "# EX : 5\n",
        "#Write a query to find the top 3 most expensive products.\n",
        "\n",
        "print(\"Top 3 most expensive products:\")\n",
        "cursor.execute('''\n",
        "SELECT product_name, price\n",
        "FROM products\n",
        "ORDER BY price DESC\n",
        "LIMIT 3\n",
        "''')\n",
        "for row in cursor.fetchall():\n",
        "    print(row)\n"
      ],
      "metadata": {
        "id": "T65HGxqPAtF5",
        "outputId": "97140ab9-8b05-4e92-a7d4-009985b7bb42",
        "colab": {
          "base_uri": "https://localhost:8080/"
        }
      },
      "execution_count": 16,
      "outputs": [
        {
          "output_type": "stream",
          "name": "stdout",
          "text": [
            "Top 3 most expensive products:\n",
            "('Laptop', 1100)\n",
            "('Smartphone', 800)\n",
            "('Monitor', 200)\n"
          ]
        }
      ]
    },
    {
      "cell_type": "code",
      "source": [
        "#Retrieve products with prices above the average product price.\n",
        "\n",
        "print(\"\\nProducts with prices above average:\")\n",
        "cursor.execute('''\n",
        "SELECT product_name, price\n",
        "FROM products\n",
        "WHERE price > (SELECT AVG(price) FROM products)\n",
        "''')\n",
        "for row in cursor.fetchall():\n",
        "    print(row)\n"
      ],
      "metadata": {
        "id": "xCzmCQItA2C4",
        "outputId": "8be6103b-2445-44f8-8714-7d5f66e3f1aa",
        "colab": {
          "base_uri": "https://localhost:8080/"
        }
      },
      "execution_count": 17,
      "outputs": [
        {
          "output_type": "stream",
          "name": "stdout",
          "text": [
            "\n",
            "Products with prices above average:\n",
            "('Laptop', 1100)\n",
            "('Smartphone', 800)\n"
          ]
        }
      ]
    },
    {
      "cell_type": "code",
      "source": [
        "#Create a stored procedure to add a new product along with its category associations.\n",
        "\n",
        "def add_product_with_categories(product_name, price, category_ids):\n",
        "    # Insert the new product\n",
        "    cursor.execute('''\n",
        "        INSERT INTO products (product_name, price) VALUES (?, ?)\n",
        "    ''', (product_name, price))\n",
        "\n",
        "    # Get the new product_id\n",
        "    product_id = cursor.lastrowid\n",
        "\n",
        "    # Insert into product_categories\n",
        "    for cat_id in category_ids:\n",
        "        cursor.execute('''\n",
        "            INSERT INTO product_categories (product_id, category_id) VALUES (?, ?)\n",
        "        ''', (product_id, cat_id))\n",
        "\n",
        "    conn.commit()\n",
        "    print(f\"Product '{product_name}' added with categories {category_ids}.\")\n"
      ],
      "metadata": {
        "id": "X6wA7snCA140"
      },
      "execution_count": 18,
      "outputs": []
    },
    {
      "cell_type": "code",
      "source": [
        "add_product_with_categories(\"Tablet\", 650.00, [1, 2])  # Electronics + Accessories"
      ],
      "metadata": {
        "id": "bLZ1Se2HBCP4",
        "outputId": "99ac3549-2122-4aae-8a32-9aaa3e983a1b",
        "colab": {
          "base_uri": "https://localhost:8080/"
        }
      },
      "execution_count": 19,
      "outputs": [
        {
          "output_type": "stream",
          "name": "stdout",
          "text": [
            "Product 'Tablet' added with categories [1, 2].\n"
          ]
        }
      ]
    }
  ]
}